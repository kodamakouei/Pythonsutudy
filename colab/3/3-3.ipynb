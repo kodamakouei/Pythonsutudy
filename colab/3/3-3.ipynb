{
  "cells": [
    {
      "cell_type": "markdown",
      "metadata": {
        "id": "kfnEWtWzuekG"
      },
      "source": [
        "# 3-3. 関数\n",
        "\n",
        "関数について改めて説明します。\n",
        "\n",
        "参考:\n",
        "\n",
        "- https://docs.python.org/ja/3/tutorial/controlflow.html#defining-functions"
      ]
    },
    {
      "cell_type": "markdown",
      "metadata": {
        "id": "9KxvFecJuekJ"
      },
      "source": [
        "## 関数の定義\n",
        "**関数**は処理（手続きの流れ）をまとめた再利用可能なコードです。関数には以下の特徴があります。\n",
        "\n",
        "* 名前を持つ。\n",
        "* 手続きの流れを含む。\n",
        "* 返値（明示的あるいは非明示的に）を返す。\n",
        "\n",
        "`len()` や `sum()` などの[組み込み関数](https://docs.python.jp/3/library/functions.html)は関数の例です。\n",
        "\n",
        "まず、関数の定義をしてみましょう。関数を定義するには **`def`** を用います。"
      ]
    },
    {
      "cell_type": "code",
      "execution_count": 1,
      "metadata": {
        "id": "qRcmf-OZuekJ"
      },
      "outputs": [],
      "source": [
        "#'Hello'を表示する関数greeting\n",
        "def greeting():\n",
        "    print('Hello')"
      ]
    },
    {
      "cell_type": "markdown",
      "metadata": {
        "id": "dnuxL7D9uekK"
      },
      "source": [
        "関数を定義したら、それを呼び出すことができます。"
      ]
    },
    {
      "cell_type": "code",
      "execution_count": 2,
      "metadata": {
        "id": "JmOY6d0guekK",
        "outputId": "734bdab4-0d61-4f4d-db2a-ee874d213fba",
        "colab": {
          "base_uri": "https://localhost:8080/"
        }
      },
      "outputs": [
        {
          "output_type": "stream",
          "name": "stdout",
          "text": [
            "Hello\n"
          ]
        }
      ],
      "source": [
        "#関数greetingを呼び出し\n",
        "greeting()"
      ]
    },
    {
      "cell_type": "markdown",
      "metadata": {
        "id": "Rw-Xx5cquekK"
      },
      "source": [
        "**関数定義**の一般形は以下の通りです。\n",
        "\n",
        "```Python\n",
        "def 関数名(引数):\n",
        "    関数本体\n",
        "```\n",
        "\n",
        "1行名はヘッダと呼ばれ、***関数名***はその関数を呼ぶのに使う名前、**引数**はその関数へ渡す変数の一覧です。\n",
        "変数がない場合もあります。\n",
        "\n",
        "***関数本体***はインデントした上で、処理や手続きの流れを記述します。"
      ]
    },
    {
      "cell_type": "markdown",
      "metadata": {
        "id": "cZu4-7lXuekK"
      },
      "source": [
        "## 引数\n",
        "関数を定義する際に、ヘッダの括弧の中に関数へ渡す変数の一覧を記述します。\n",
        "これらの変数は関数の**ローカル変数**となります。\n",
        "ローカル変数とはプログラムの一部（ここでは関数内）でのみ利用可能な変数です。"
      ]
    },
    {
      "cell_type": "code",
      "execution_count": 3,
      "metadata": {
        "id": "N8kv2AITuekL"
      },
      "outputs": [],
      "source": [
        "#引数greeting_localに渡された値を表示する関数greeting\n",
        "def greeting(greeting_local):\n",
        "    print(greeting_local)"
      ]
    },
    {
      "cell_type": "markdown",
      "metadata": {
        "id": "1XsRgmVMuekL"
      },
      "source": [
        "関数を呼び出す際に引数に値を渡すことで、関数は受け取った値を処理することができます。"
      ]
    },
    {
      "cell_type": "code",
      "execution_count": 4,
      "metadata": {
        "id": "kkFbkWXHuekL",
        "outputId": "dca1e49c-def9-428b-e01b-72e97740bbf2",
        "colab": {
          "base_uri": "https://localhost:8080/"
        }
      },
      "outputs": [
        {
          "output_type": "stream",
          "name": "stdout",
          "text": [
            "Hello\n"
          ]
        }
      ],
      "source": [
        "#関数greetingに文字列'Hello'を渡して呼び出し\n",
        "greeting('Hello')"
      ]
    },
    {
      "cell_type": "markdown",
      "metadata": {
        "id": "cpx5k1zmuekM"
      },
      "source": [
        "このようにして引数に渡される値のことを、**実引数**（**argument**）と呼ぶことがあります。\n",
        "実引数に対して、ここまで説明してきた引数（ローカル変数である引数）は、**仮引数**（**parameter**）と呼ばれます。\n",
        "参考：[公式FAQ：実引数と仮引数の違いは何ですか？](https://docs.python.org/ja/3/faq/programming.html#what-is-the-difference-between-arguments-and-parameters)\n",
        "\n",
        "実引数のことを引数と呼ぶこともありますので、注意してください。"
      ]
    },
    {
      "cell_type": "markdown",
      "metadata": {
        "id": "rxRSRKHwuekM"
      },
      "source": [
        "## 返値\n",
        "関数は受け取った引数を元に処理を行い、その結果の**返値**（1-2で説明済み）を返すことができます。\n",
        "\n",
        "返値は、**`return`** で定義します。関数の返値がない場合は、**`None`** が返されます。\n",
        "`return` が実行されると、関数の処理はそこで終了するため、次に文があっても実行はされません。\n",
        "また、ループなどの繰り返し処理の途中でも `return` が実行されると処理は終了します。\n",
        "関数の処理が最後まで実行され、返値がない場合は最後に `return` を実行したことと同じになります。\n",
        "\n",
        "`return` の後に式がない場合は、`None` が返されます。\n",
        "（`return` が実行されずに関数の最後まで来たときも同様です。）\n",
        "`return` を式なしで実行することで、関数の処理を途中で抜けることができます。\n",
        "また、このような関数は、与えられた配列を破壊的に変更するなど、\n",
        "呼び出した側に何らかの変化を及ぼす際にも用いられます。"
      ]
    },
    {
      "cell_type": "code",
      "execution_count": 5,
      "metadata": {
        "id": "R7qSFLB5uekM",
        "outputId": "d3e9603a-f8a5-497c-fc0b-3659055a6488",
        "colab": {
          "base_uri": "https://localhost:8080/",
          "height": 35
        }
      },
      "outputs": [
        {
          "output_type": "execute_result",
          "data": {
            "text/plain": [
              "'Hello'"
            ],
            "application/vnd.google.colaboratory.intrinsic+json": {
              "type": "string"
            }
          },
          "metadata": {},
          "execution_count": 5
        }
      ],
      "source": [
        "#引数greeting_localに渡された値を返す関数greeting\n",
        "def greeting(greeting_local):\n",
        "    return greeting_local\n",
        "\n",
        "#関数greetingに文字列'Hello'を渡して呼び出し\n",
        "greeting('Hello')"
      ]
    },
    {
      "cell_type": "code",
      "execution_count": 6,
      "metadata": {
        "id": "AyDseXSguekM",
        "outputId": "0338b592-1ac2-4fa6-a12d-c6371b607b36",
        "colab": {
          "base_uri": "https://localhost:8080/"
        }
      },
      "outputs": [
        {
          "output_type": "execute_result",
          "data": {
            "text/plain": [
              "5.0"
            ]
          },
          "metadata": {},
          "execution_count": 6
        }
      ],
      "source": [
        "#入力の平均を計算して返す関数average\n",
        "def average(nums):\n",
        "    #組み込み関数のsum()とlen()を利用\n",
        "    return sum(nums)/len(nums)\n",
        "\n",
        "#関数averageに数字のリストを渡して呼び出し\n",
        "average([1,3,5,7,9])"
      ]
    },
    {
      "cell_type": "markdown",
      "metadata": {
        "id": "qTQVnrW0uekM"
      },
      "source": [
        "関数の返値を変数に代入することもできます。"
      ]
    },
    {
      "cell_type": "code",
      "execution_count": 7,
      "metadata": {
        "id": "3CZRPD6KuekN",
        "outputId": "9b9a96f0-1cc1-4466-998b-6433a18e9fcd",
        "colab": {
          "base_uri": "https://localhost:8080/",
          "height": 35
        }
      },
      "outputs": [
        {
          "output_type": "execute_result",
          "data": {
            "text/plain": [
              "'Hello'"
            ],
            "application/vnd.google.colaboratory.intrinsic+json": {
              "type": "string"
            }
          },
          "metadata": {},
          "execution_count": 7
        }
      ],
      "source": [
        "#関数greetingの返値を変数greetに代入\n",
        "greet = greeting('Hello')\n",
        "greet"
      ]
    },
    {
      "cell_type": "markdown",
      "metadata": {
        "id": "iSm9Nq5puekN"
      },
      "source": [
        "## 複数の引数\n",
        "関数は任意の数の引数を受け取ることができます。\n",
        "複数の引数を受け取る場合は、引数をコンマで区切ります。\n",
        "これらの引数名は重複しないようにしましょう。"
      ]
    },
    {
      "cell_type": "code",
      "execution_count": 8,
      "metadata": {
        "id": "XyeW_uOCuekN",
        "outputId": "a6e1a3c3-0b33-4e69-e516-8f2166dd0be1",
        "colab": {
          "base_uri": "https://localhost:8080/"
        }
      },
      "outputs": [
        {
          "output_type": "stream",
          "name": "stdout",
          "text": [
            "Hello, Bonjour, Guten Tag\n"
          ]
        }
      ],
      "source": [
        "#3つの引数それぞれに渡された値を表示する関数greeting\n",
        "def greeting(en, fr, de):\n",
        "    print(en + ', ' + fr + ', ' + de)\n",
        "\n",
        "#関数greetingに3つの引数を渡して呼び出し\n",
        "greeting('Hello', 'Bonjour', 'Guten Tag')"
      ]
    },
    {
      "cell_type": "markdown",
      "metadata": {
        "id": "YFcValGmuekN"
      },
      "source": [
        "関数は異なる型であっても引数として受け取ることができます。"
      ]
    },
    {
      "cell_type": "code",
      "execution_count": 9,
      "metadata": {
        "id": "37eaTD1AuekN",
        "outputId": "87e4676e-ce5e-4bd9-c3c1-01436786b99f",
        "colab": {
          "base_uri": "https://localhost:8080/"
        }
      },
      "outputs": [
        {
          "output_type": "stream",
          "name": "stdout",
          "text": [
            "HelloHelloHello,World\n"
          ]
        }
      ],
      "source": [
        "#文字列と数値を引数として受け取る関数greeting\n",
        "def greeting(en, number, name):\n",
        "    #文字列に数を掛け算すると、文字列を数の回だけ繰り返すことを指定します\n",
        "    print(en*number+','+name)\n",
        "\n",
        "#関数greetingに文字列と数値を引数として渡して呼び出し\n",
        "greeting('Hello',3, 'World')"
      ]
    },
    {
      "cell_type": "markdown",
      "metadata": {
        "id": "Hk8XsA_vuekN"
      },
      "source": [
        "## 変数とスコープ\n",
        "関数の引数や関数内で定義される変数はローカル変数のため、それらの変数は関数の外からは参照できません。"
      ]
    },
    {
      "cell_type": "code",
      "execution_count": 10,
      "metadata": {
        "tags": [
          "raises-exception"
        ],
        "id": "eVlmk5IHuekN",
        "outputId": "a98549af-9925-4c0f-eebf-2c39afe73085",
        "colab": {
          "base_uri": "https://localhost:8080/",
          "height": 199
        }
      },
      "outputs": [
        {
          "output_type": "stream",
          "name": "stdout",
          "text": [
            "Hello\n"
          ]
        },
        {
          "output_type": "error",
          "ename": "NameError",
          "evalue": "name 'greeting_local' is not defined",
          "traceback": [
            "\u001b[0;31m---------------------------------------------------------------------------\u001b[0m",
            "\u001b[0;31mNameError\u001b[0m                                 Traceback (most recent call last)",
            "\u001b[0;32m/tmp/ipython-input-415745769.py\u001b[0m in \u001b[0;36m<cell line: 0>\u001b[0;34m()\u001b[0m\n\u001b[1;32m      6\u001b[0m \u001b[0;34m\u001b[0m\u001b[0m\n\u001b[1;32m      7\u001b[0m \u001b[0;31m#ローカル変数（関数greetingの引数）greeting_localを参照\u001b[0m\u001b[0;34m\u001b[0m\u001b[0;34m\u001b[0m\u001b[0m\n\u001b[0;32m----> 8\u001b[0;31m \u001b[0mgreeting_local\u001b[0m\u001b[0;34m\u001b[0m\u001b[0;34m\u001b[0m\u001b[0m\n\u001b[0m",
            "\u001b[0;31mNameError\u001b[0m: name 'greeting_local' is not defined"
          ]
        }
      ],
      "source": [
        "#引数greeting_localに渡された値を表示する関数greeting\n",
        "def greeting(greeting_local):\n",
        "    print(greeting_local)\n",
        "\n",
        "greeting('Hello')\n",
        "\n",
        "#ローカル変数（関数greetingの引数）greeting_localを参照\n",
        "greeting_local"
      ]
    },
    {
      "cell_type": "markdown",
      "metadata": {
        "id": "yCQlchYOuekN"
      },
      "source": [
        "一方、変数が**グローバル変数**であれば、それらの変数は関数の外からも中からも参照できます。\n",
        "グローバル変数とはプログラム全体、どこからでも利用可能な変数です。"
      ]
    },
    {
      "cell_type": "code",
      "execution_count": 11,
      "metadata": {
        "id": "RhYi3dCjuekO",
        "outputId": "c1b15b9d-8dd2-4d63-9ac7-eb363d947cd7",
        "colab": {
          "base_uri": "https://localhost:8080/",
          "height": 53
        }
      },
      "outputs": [
        {
          "output_type": "stream",
          "name": "stdout",
          "text": [
            "Hello\n"
          ]
        },
        {
          "output_type": "execute_result",
          "data": {
            "text/plain": [
              "'Hello'"
            ],
            "application/vnd.google.colaboratory.intrinsic+json": {
              "type": "string"
            }
          },
          "metadata": {},
          "execution_count": 11
        }
      ],
      "source": [
        "#グローバル変数greeting_globalの定義\n",
        "greeting_global = 'Hello'\n",
        "\n",
        "#グローバル変数greeting_globalの値を表示する関数greeting\n",
        "def greeting():\n",
        "    print(greeting_global)\n",
        "\n",
        "greeting()\n",
        "\n",
        "#グローバル変数greeting_globalを参照\n",
        "greeting_global"
      ]
    },
    {
      "cell_type": "markdown",
      "metadata": {
        "id": "RxNyYEEHuekO"
      },
      "source": [
        "グローバル変数と同じ名前の変数を関数内で定義すると、\n",
        "それは通常はグローバル変数とは異なる、関数内のみで利用可能な**ローカル変数**の定義として扱われます。\n",
        "グローバル変数と同じ名前の引数を用いる場合も同様です。"
      ]
    },
    {
      "cell_type": "code",
      "execution_count": 12,
      "metadata": {
        "id": "C2W-2KgxuekO",
        "outputId": "15e739a8-e188-425a-8c14-54d146937f40",
        "colab": {
          "base_uri": "https://localhost:8080/",
          "height": 53
        }
      },
      "outputs": [
        {
          "output_type": "stream",
          "name": "stdout",
          "text": [
            "Bonjour\n"
          ]
        },
        {
          "output_type": "execute_result",
          "data": {
            "text/plain": [
              "'Hello'"
            ],
            "application/vnd.google.colaboratory.intrinsic+json": {
              "type": "string"
            }
          },
          "metadata": {},
          "execution_count": 12
        }
      ],
      "source": [
        "#グローバル変数greeting_globalと同じ名前の変数に値を代入する関数greeting\n",
        "def greeting():\n",
        "    greeting_global = 'Bonjour'\n",
        "    print(greeting_global)\n",
        "\n",
        "greeting()\n",
        "\n",
        "#変数greeting_globalを参照\n",
        "greeting_global"
      ]
    },
    {
      "cell_type": "markdown",
      "metadata": {
        "id": "FWTGk9euuekO"
      },
      "source": [
        "しかし、グローバル変数と同名のローカル変数を定義することは、一般に注意が必要です。\n",
        "何故なら、ローカル変数としての定義を含む関数内では、同名のグローバル変数を参照できないからです。\n",
        "たとえば、次のコードは、`Hello` と `Bonjour` が順に印字することを期待するかもしれませんが、"
      ]
    },
    {
      "cell_type": "code",
      "execution_count": 13,
      "metadata": {
        "tags": [
          "raises-exception"
        ],
        "id": "3UqJ8xCzuekO",
        "outputId": "30d64f9a-2268-4c19-b7df-9eecc51cada2",
        "colab": {
          "base_uri": "https://localhost:8080/",
          "height": 307
        }
      },
      "outputs": [
        {
          "output_type": "error",
          "ename": "UnboundLocalError",
          "evalue": "cannot access local variable 'greeting_global' where it is not associated with a value",
          "traceback": [
            "\u001b[0;31m---------------------------------------------------------------------------\u001b[0m",
            "\u001b[0;31mUnboundLocalError\u001b[0m                         Traceback (most recent call last)",
            "\u001b[0;32m/tmp/ipython-input-1083173024.py\u001b[0m in \u001b[0;36m<cell line: 0>\u001b[0;34m()\u001b[0m\n\u001b[1;32m      4\u001b[0m     \u001b[0mprint\u001b[0m\u001b[0;34m(\u001b[0m\u001b[0mgreeting_global\u001b[0m\u001b[0;34m)\u001b[0m\u001b[0;34m\u001b[0m\u001b[0;34m\u001b[0m\u001b[0m\n\u001b[1;32m      5\u001b[0m \u001b[0;34m\u001b[0m\u001b[0m\n\u001b[0;32m----> 6\u001b[0;31m \u001b[0mgreeting\u001b[0m\u001b[0;34m(\u001b[0m\u001b[0;34m)\u001b[0m\u001b[0;34m\u001b[0m\u001b[0;34m\u001b[0m\u001b[0m\n\u001b[0m",
            "\u001b[0;32m/tmp/ipython-input-1083173024.py\u001b[0m in \u001b[0;36mgreeting\u001b[0;34m()\u001b[0m\n\u001b[1;32m      1\u001b[0m \u001b[0;32mdef\u001b[0m \u001b[0mgreeting\u001b[0m\u001b[0;34m(\u001b[0m\u001b[0;34m)\u001b[0m\u001b[0;34m:\u001b[0m\u001b[0;34m\u001b[0m\u001b[0;34m\u001b[0m\u001b[0m\n\u001b[0;32m----> 2\u001b[0;31m     \u001b[0mprint\u001b[0m\u001b[0;34m(\u001b[0m\u001b[0mgreeting_global\u001b[0m\u001b[0;34m)\u001b[0m \u001b[0;31m# 最初の参照\u001b[0m\u001b[0;34m\u001b[0m\u001b[0;34m\u001b[0m\u001b[0m\n\u001b[0m\u001b[1;32m      3\u001b[0m     \u001b[0mgreeting_global\u001b[0m \u001b[0;34m=\u001b[0m \u001b[0;34m'Bonjour'\u001b[0m \u001b[0;31m# ローカル変数の定義\u001b[0m\u001b[0;34m\u001b[0m\u001b[0;34m\u001b[0m\u001b[0m\n\u001b[1;32m      4\u001b[0m     \u001b[0mprint\u001b[0m\u001b[0;34m(\u001b[0m\u001b[0mgreeting_global\u001b[0m\u001b[0;34m)\u001b[0m\u001b[0;34m\u001b[0m\u001b[0;34m\u001b[0m\u001b[0m\n\u001b[1;32m      5\u001b[0m \u001b[0;34m\u001b[0m\u001b[0m\n",
            "\u001b[0;31mUnboundLocalError\u001b[0m: cannot access local variable 'greeting_global' where it is not associated with a value"
          ]
        }
      ],
      "source": [
        "def greeting():\n",
        "    print(greeting_global) # 最初の参照\n",
        "    greeting_global = 'Bonjour' # ローカル変数の定義\n",
        "    print(greeting_global)\n",
        "\n",
        "greeting()"
      ]
    },
    {
      "cell_type": "markdown",
      "metadata": {
        "id": "SMfQfjTguekO"
      },
      "source": [
        "最初の `greeting_global` の参照でエラーになります。\n",
        "これは、関数内に `greeting_global` の定義があると、\n",
        "その関数内どの場所でも `greeting_global` がローカル変数として参照されるためです。\n",
        "最初の参照時には、ローカル変数の `greeting_global` が未定義なので、エラーが生じます。\n",
        "\n",
        "このように、グローバル変数と同じ名前のローカル変数を使おうとするのは間違いの元です。\n",
        "グローバル変数と名前が衝突しないように、ローカル変数を定義しましょう。"
      ]
    },
    {
      "cell_type": "markdown",
      "metadata": {
        "id": "Kc2SQoZuuekO"
      },
      "source": [
        "### ▲ global 宣言\n",
        "\n",
        "関数内ではグローバル変数が更新されないのが基本です。\n",
        "しかし、どうしても関数内でグローバル変数を更新したいときには、\n",
        "**`global`** 宣言を使って更新したいグローバル変数を指定します。"
      ]
    },
    {
      "cell_type": "code",
      "execution_count": 14,
      "metadata": {
        "id": "h2V8ssIYuekO",
        "outputId": "7e548994-e456-4fac-aab4-bdcc10a747f2",
        "colab": {
          "base_uri": "https://localhost:8080/",
          "height": 53
        }
      },
      "outputs": [
        {
          "output_type": "stream",
          "name": "stdout",
          "text": [
            "Bonjour\n"
          ]
        },
        {
          "output_type": "execute_result",
          "data": {
            "text/plain": [
              "'Bonjour'"
            ],
            "application/vnd.google.colaboratory.intrinsic+json": {
              "type": "string"
            }
          },
          "metadata": {},
          "execution_count": 14
        }
      ],
      "source": [
        "#グローバル変数greeting_globalに値を代入する関数greeting\n",
        "def greeting():\n",
        "    global greeting_global\n",
        "    greeting_global = 'Bonjour'\n",
        "    print(greeting_global)\n",
        "\n",
        "greeting()\n",
        "\n",
        "##変数greeting_globalを参照\n",
        "greeting_global"
      ]
    },
    {
      "cell_type": "markdown",
      "metadata": {
        "id": "1KqFFJUxuekO"
      },
      "source": [
        "`global` 宣言された変数名は、関数内で常にグローバル変数として参照されます。\n",
        "これを濫用すると間違いの元になるので、原則として利用しないようにしましょう。"
      ]
    },
    {
      "cell_type": "markdown",
      "metadata": {
        "id": "h2VxaXJtuekO"
      },
      "source": [
        "## ▲キーワード引数\n",
        "上記の一般的な引数（位置引数とも呼ばれます）では、\n",
        "事前に定義した引数の順番に従って、関数は引数を受け取る必要があります。\n",
        "\n",
        "キーワード付き引数（**キーワード引数**）を使うと、関数は引数の変数名とその値の組みを受け取ることができます。\n",
        "その際、引数は順不同で関数に渡すことができます。"
      ]
    },
    {
      "cell_type": "code",
      "execution_count": 15,
      "metadata": {
        "id": "x2ujb58suekO",
        "outputId": "309ad41f-999d-406b-b1e2-f8cdd8feff7d",
        "colab": {
          "base_uri": "https://localhost:8080/"
        }
      },
      "outputs": [
        {
          "output_type": "stream",
          "name": "stdout",
          "text": [
            "HelloHello,Japan\n"
          ]
        }
      ],
      "source": [
        "#文字列と数値を引数として受け取る関数greeting\n",
        "def greeting(en, number, name):\n",
        "    print(en*number+','+name)\n",
        "\n",
        "#関数greetingに引数の変数名とその値の組みを渡して呼び出し\n",
        "greeting(en='Hello', name='Japan', number=2)"
      ]
    },
    {
      "cell_type": "markdown",
      "metadata": {
        "id": "F7AZhum8uekO"
      },
      "source": [
        "位置引数とキーワード引数を合わせて使う場合は、最初に位置引数を指定する必要があります。"
      ]
    },
    {
      "cell_type": "code",
      "execution_count": 16,
      "metadata": {
        "id": "u_okcZdouekO",
        "outputId": "55aacfaa-32df-42d1-e7ef-a78b5f97a9d5",
        "colab": {
          "base_uri": "https://localhost:8080/"
        }
      },
      "outputs": [
        {
          "output_type": "stream",
          "name": "stdout",
          "text": [
            "HelloHello,Japan\n"
          ]
        }
      ],
      "source": [
        "#位置引数とキーワード引数を組み合わせた関数greetingの呼び出し\n",
        "greeting('Hello', name='Japan', number=2)"
      ]
    },
    {
      "cell_type": "markdown",
      "metadata": {
        "id": "fo8up0n3uekO"
      },
      "source": [
        "## ▲引数の初期値\n",
        "関数を呼び出す際に、引数が渡されない場合に、**初期値**を引数として渡すことができます。\n",
        "\n",
        "初期値のある引数に値を渡したら、関数はその引数の初期値の代わりに渡された値を受け取ります。\n",
        "\n",
        "初期値を持つ引数は、位置引数の後に指定する必要があります。"
      ]
    },
    {
      "cell_type": "code",
      "execution_count": 17,
      "metadata": {
        "id": "FsvcSAL0uekP",
        "outputId": "13b7063b-1c02-420d-dffc-5c85c955095f",
        "colab": {
          "base_uri": "https://localhost:8080/"
        }
      },
      "outputs": [
        {
          "output_type": "stream",
          "name": "stdout",
          "text": [
            "Hello, World\n"
          ]
        }
      ],
      "source": [
        "#引数の初期値（引数の変数enに対する'Hello'）を持つ関数greeting\n",
        "def greeting(name, en='Hello'):\n",
        "    print(en+', '+name)\n",
        "\n",
        "#引数の初期値を持つ関数greetingの呼び出し\n",
        "greeting('World')"
      ]
    },
    {
      "cell_type": "markdown",
      "metadata": {
        "id": "0pCc9ZDeuekP"
      },
      "source": [
        "## ▲可変長引数\n",
        "仮引数の前に **`*`** を付けて関数を定義すると、複数の引数をタプルとして受け取ることができます。\n",
        "呼び出す側は、引数の個数を変えることができます。\n",
        "一般に、個数が可変の引数は**可変長引数**と呼ばれます。"
      ]
    },
    {
      "cell_type": "code",
      "execution_count": 22,
      "metadata": {
        "id": "plMXDEXXuekS",
        "outputId": "701580c0-305f-43f1-a37c-c9c167c262f4",
        "colab": {
          "base_uri": "https://localhost:8080/"
        }
      },
      "outputs": [
        {
          "output_type": "stream",
          "name": "stdout",
          "text": [
            "('Hello', 'Bonjour', 'Guten Tag')\n"
          ]
        }
      ],
      "source": [
        "#可変長の引数を受け取り、それらを表示する関数greeting\n",
        "def greeting(*args):\n",
        "    print((args))\n",
        "\n",
        "#可変長の引数を受け取る関数greetingに複数の引数を渡して呼び出し\n",
        "greeting('Hello','Bonjour','Guten Tag')"
      ]
    },
    {
      "cell_type": "markdown",
      "metadata": {
        "id": "T44PtvCtuekS"
      },
      "source": [
        "リストやタプルの要素を可変長引数として関数に渡す場合は、**`*`** をリストやタプルの前につけて渡します。"
      ]
    },
    {
      "cell_type": "code",
      "execution_count": 28,
      "metadata": {
        "id": "OAeq6-fXuekS",
        "outputId": "b17f5621-6640-4133-b626-0d3fb89790ee",
        "colab": {
          "base_uri": "https://localhost:8080/"
        }
      },
      "outputs": [
        {
          "output_type": "stream",
          "name": "stdout",
          "text": [
            "('Hello', 'Bonjour', 'Guten Tag')\n"
          ]
        }
      ],
      "source": [
        "#リスト型オブジェクトgreeting_listを関数greetingに渡して呼び出し\n",
        "greeting_list = ['Hello','Bonjour','Guten Tag']\n",
        "greeting(*greeting_list)"
      ]
    },
    {
      "cell_type": "markdown",
      "metadata": {
        "id": "zDKRi72vuekS"
      },
      "source": [
        "## ▲辞書型の可変長引数\n",
        "仮引数の前に <strong>`**`</strong> を付けて関数を定義すると、複数のキーワード引数を辞書として受け取ることができます。辞書として受け取られる引数は、**辞書型の可変長引数**と呼ばれます。"
      ]
    },
    {
      "cell_type": "code",
      "execution_count": 29,
      "metadata": {
        "id": "O00b2QQzuekS",
        "outputId": "0cf3adc6-e898-4f71-8b15-9e28e1cc2edd",
        "colab": {
          "base_uri": "https://localhost:8080/"
        }
      },
      "outputs": [
        {
          "output_type": "stream",
          "name": "stdout",
          "text": [
            "{'en': 'Hello', 'fr': 'Bonjour', 'de': 'Guten Tag'}\n"
          ]
        }
      ],
      "source": [
        "#可変長のキーワード引数を受け取り、それらを表示する関数greeting\n",
        "def greeting(**kwargs):\n",
        "    print(kwargs)\n",
        "\n",
        "#可変長のキーワード引数を受け取る関数greetingに複数の引数を渡して呼び出し\n",
        "greeting(en='Hello', fr='Bonjour', de='Guten Tag')"
      ]
    },
    {
      "cell_type": "markdown",
      "metadata": {
        "id": "Bf3xOXb6uekS"
      },
      "source": [
        "辞書の各キーと値を複数のキーワード引数として関数に渡す場合は、\n",
        "`**` をその辞書の前につけて渡します。"
      ]
    },
    {
      "cell_type": "code",
      "execution_count": 30,
      "metadata": {
        "id": "zstBNMDKuekS",
        "outputId": "ebb24649-2ce1-4023-ad98-85e29444c4d7",
        "colab": {
          "base_uri": "https://localhost:8080/"
        }
      },
      "outputs": [
        {
          "output_type": "stream",
          "name": "stdout",
          "text": [
            "{'en': 'Hello', 'fr': 'Bonjour', 'de': 'Guten Tag'}\n"
          ]
        }
      ],
      "source": [
        "#辞書型オブジェクトgreeting_dictを関数greetingに渡して呼び出し\n",
        "greeting_dict = {'en': 'Hello', 'fr': 'Bonjour', 'de': 'Guten Tag'}\n",
        "greeting(**greeting_dict)"
      ]
    },
    {
      "cell_type": "markdown",
      "metadata": {
        "id": "D3x7dy-juekS"
      },
      "source": [
        "## ▲引数の順番\n",
        "位置引数、初期値を持つ引数、可変長引数、辞書型の可変長引数は、同時に指定することができますが、\n",
        "その際、これらの順番で指定する必要があります。\n",
        "\n",
        "```Python\n",
        "def 関数名(位置引数, 初期値を持つ引数, 可変長引数, 辞書型の可変長引数)\n",
        "```"
      ]
    },
    {
      "cell_type": "code",
      "execution_count": 33,
      "metadata": {
        "id": "hf2n2ZN8uekS",
        "outputId": "1d40dad7-1cb0-4d43-cbfb-73b0cce0d47a",
        "colab": {
          "base_uri": "https://localhost:8080/"
        }
      },
      "outputs": [
        {
          "output_type": "stream",
          "name": "stdout",
          "text": [
            "Hi\n",
            "Hello\n",
            "('Bonjour',)\n",
            "{'de': 'Guten Tag'}\n"
          ]
        }
      ],
      "source": [
        "#位置引数、初期値を持つ引数、可変長引数、辞書型の可変長引数\n",
        "#それぞれを引数として受け取り、それらを表示する関数greeting\n",
        "def greeting(greet, en='Hello', *args, **kwargs):\n",
        "    print(greet)\n",
        "    print(en)\n",
        "    print(args)\n",
        "    print(kwargs)\n",
        "\n",
        "#可変長引数へ渡すリスト\n",
        "greeting_list = ['Bonjour']\n",
        "\n",
        "#辞書型の可変長引数へ渡す辞書\n",
        "greeting_dict = {'de': 'Guten Tag'}\n",
        "\n",
        "#関数greetingに引数を渡して呼び出し\n",
        "greeting('Hi', 'Hello', *greeting_list, **greeting_dict)"
      ]
    },
    {
      "cell_type": "markdown",
      "metadata": {
        "id": "IH_SmkANuekT"
      },
      "source": [
        "## ▲変数としての関数\n",
        "関数は変数でもあります。既存の変数と同じ名前の関数を定義すると、\n",
        "元の変数はその新たな関数を参照するものとして変更されます。\n",
        "一方、既存の関数と同じ名前の変数を定義すると、元の関数名の変数はその新たな変数を参照するものとして変更されます。"
      ]
    },
    {
      "cell_type": "code",
      "execution_count": 36,
      "metadata": {
        "id": "6Ne_a2meuekT",
        "outputId": "456a852b-0ce4-42c3-db5c-86d88a352f7c",
        "colab": {
          "base_uri": "https://localhost:8080/"
        }
      },
      "outputs": [
        {
          "output_type": "execute_result",
          "data": {
            "text/plain": [
              "str"
            ]
          },
          "metadata": {},
          "execution_count": 36
        }
      ],
      "source": [
        "#グローバル変数greeting_globalの定義と参照\n",
        "greeting_global = 'Hello'\n",
        "type(greeting_global)"
      ]
    },
    {
      "cell_type": "code",
      "execution_count": 37,
      "metadata": {
        "id": "beL11QHSuekT",
        "outputId": "fb340e03-4cbf-43a2-a9fb-d729d9d74ff9",
        "colab": {
          "base_uri": "https://localhost:8080/"
        }
      },
      "outputs": [
        {
          "output_type": "execute_result",
          "data": {
            "text/plain": [
              "function"
            ]
          },
          "metadata": {},
          "execution_count": 37
        }
      ],
      "source": [
        "#グローバル変数greeting_globalと同名の関数の定義\n",
        "#変数greeting_globalは関数を参照する\n",
        "def greeting_global():\n",
        "    print('This is the greeting_global function')\n",
        "\n",
        "type(greeting_global)"
      ]
    }
  ],
  "metadata": {
    "kernelspec": {
      "display_name": "Python 3",
      "language": "python",
      "name": "python3"
    },
    "language_info": {
      "name": "python"
    },
    "colab": {
      "provenance": []
    }
  },
  "nbformat": 4,
  "nbformat_minor": 0
}