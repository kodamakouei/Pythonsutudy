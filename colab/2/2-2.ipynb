{
  "cells": [
    {
      "cell_type": "markdown",
      "metadata": {
        "id": "Nwt48AKjSJPO"
      },
      "source": [
        "# 2-2. リスト (list)\n",
        "\n",
        "複数のデータを要素としてまとめて取り扱うデータとして、リストとタプルについて説明します。\n",
        "\n",
        "参考\n",
        "\n",
        "- https://docs.python.org/ja/3/tutorial/introduction.html#lists\n",
        "- https://docs.python.org/ja/3/tutorial/datastructures.html#tuples-and-sequences\n",
        "\n",
        "文字列を構成する要素は文字のみでしたが、**リスト**では構成する要素としてあらゆる型のデータを指定できます。\n",
        "他のプログラミング言語では、リストに相当するものとして**配列**（もしくはアレイ）やベクターなどがあります。\n",
        "\n",
        "リストを作成するには、リストを構成する要素をコンマで区切り全体をかぎ括弧 `[...]` で囲みます。  \n",
        "\n",
        "以下のセルでは数値を要素とするリストを作成して、変数に代入しています。\n",
        "さらに、文字列と同様に組み込み関数 `type` を用いて、変数の値がリストであることを確認しています。"
      ]
    },
    {
      "cell_type": "code",
      "execution_count": 1,
      "metadata": {
        "id": "NYb484bBSJPQ",
        "outputId": "ec463336-54d2-480a-be80-871c6408de1d",
        "colab": {
          "base_uri": "https://localhost:8080/"
        }
      },
      "outputs": [
        {
          "output_type": "execute_result",
          "data": {
            "text/plain": [
              "[0, 10, 20, 30, 40, 50]"
            ]
          },
          "metadata": {},
          "execution_count": 1
        }
      ],
      "source": [
        "numbers = [0, 10, 20, 30, 40, 50]\n",
        "numbers"
      ]
    },
    {
      "cell_type": "code",
      "execution_count": 2,
      "metadata": {
        "id": "PvJ1_uXdSJPR",
        "outputId": "6c16605c-2da4-431e-9db0-04a8438b3562",
        "colab": {
          "base_uri": "https://localhost:8080/"
        }
      },
      "outputs": [
        {
          "output_type": "execute_result",
          "data": {
            "text/plain": [
              "list"
            ]
          },
          "metadata": {},
          "execution_count": 2
        }
      ],
      "source": [
        "type(numbers)"
      ]
    },
    {
      "cell_type": "markdown",
      "metadata": {
        "id": "-RYbRmh2SJPS"
      },
      "source": [
        "リストのデータ型は **`list`** です。\n",
        "（なお、後で見るように、`list` は他のデータをリストに変換する関数としても用いられます。）\n",
        "\n",
        "次に文字列を構成要素とするリストを作成してみます。"
      ]
    },
    {
      "cell_type": "code",
      "execution_count": 3,
      "metadata": {
        "id": "PS1x7MBVSJPS",
        "outputId": "115d2060-5a15-4b76-d177-80d78538887f",
        "colab": {
          "base_uri": "https://localhost:8080/"
        }
      },
      "outputs": [
        {
          "output_type": "execute_result",
          "data": {
            "text/plain": [
              "['apple', 'banana', 'chelly']"
            ]
          },
          "metadata": {},
          "execution_count": 3
        }
      ],
      "source": [
        "fruits = ['apple', 'banana', 'chelly']\n",
        "fruits"
      ]
    },
    {
      "cell_type": "markdown",
      "metadata": {
        "id": "iuAMF4xSSJPS"
      },
      "source": [
        "リストの要素としてあらゆる型のデータを指定でき、それらは混在してもかまいません。\n",
        "以下のセルでは、数値と文字列が混在しています。"
      ]
    },
    {
      "cell_type": "code",
      "execution_count": 4,
      "metadata": {
        "id": "7OFJTNEMSJPS",
        "outputId": "1320458f-d72f-49fd-d982-f640a6c533c6",
        "colab": {
          "base_uri": "https://localhost:8080/"
        }
      },
      "outputs": [
        {
          "output_type": "execute_result",
          "data": {
            "text/plain": [
              "[10, 'apple', 20, 'banana', 30]"
            ]
          },
          "metadata": {},
          "execution_count": 4
        }
      ],
      "source": [
        "numbers_fruits = [10, 'apple', 20, 'banana', 30]\n",
        "numbers_fruits"
      ]
    },
    {
      "cell_type": "markdown",
      "metadata": {
        "id": "qSlD0gX9SJPT"
      },
      "source": [
        "次のように、何も要素を格納していないリスト（**空リスト**）を作成できます。\n",
        "空リストはプログラム実行の途中結果を記録する場合などによく使われています。\n",
        "具体的な例については、後述する `append` メソッドの項を参照してください。"
      ]
    },
    {
      "cell_type": "code",
      "execution_count": 5,
      "metadata": {
        "id": "TUVZL6qSSJPT",
        "outputId": "945afec2-9db5-4d99-9e9d-f353d973f632",
        "colab": {
          "base_uri": "https://localhost:8080/"
        }
      },
      "outputs": [
        {
          "output_type": "execute_result",
          "data": {
            "text/plain": [
              "[]"
            ]
          },
          "metadata": {},
          "execution_count": 5
        }
      ],
      "source": [
        "empty=[]\n",
        "empty"
      ]
    },
    {
      "cell_type": "markdown",
      "metadata": {
        "id": "3zrqhjrqSJPT"
      },
      "source": [
        "なお、`[]` を用いて空リストを作成するたびに、\n",
        "常に新しいオブジェクト（それまでに作られたオブジェクトとは同一でないオブジェクト）が生成されます。\n",
        "詳しくは「▲オブジェクトの等価性と同一性」を参照してください。"
      ]
    },
    {
      "cell_type": "markdown",
      "metadata": {
        "id": "EkshSOvCSJPT"
      },
      "source": [
        "## リストとインデックス\n",
        "文字列の場合と同様に、インデックスを指定してリストの要素を取り出せます。\n",
        "リストの `x` 番目の要素を取得するには次のような記法を用います。\n",
        "インデックスは 0 から始まることに注意してください。\n",
        "\n",
        "```Python\n",
        "リスト[x-1]\n",
        "```"
      ]
    },
    {
      "cell_type": "code",
      "execution_count": 6,
      "metadata": {
        "id": "gjL7bokdSJPT",
        "outputId": "052b174b-0416-49a2-c6d3-bbeb480031f3",
        "colab": {
          "base_uri": "https://localhost:8080/",
          "height": 35
        }
      },
      "outputs": [
        {
          "output_type": "execute_result",
          "data": {
            "text/plain": [
              "'c'"
            ],
            "application/vnd.google.colaboratory.intrinsic+json": {
              "type": "string"
            }
          },
          "metadata": {},
          "execution_count": 6
        }
      ],
      "source": [
        "abcd = ['a', 'b', 'c', 'd']\n",
        "abcd[2]"
      ]
    },
    {
      "cell_type": "markdown",
      "metadata": {
        "id": "sJPwEcneSJPT"
      },
      "source": [
        "文字列の場合とは異なり、リストは変更可能なデータです。\n",
        "すなわちインデックスで指定されるリストの要素は、代入によって変更できます。"
      ]
    },
    {
      "cell_type": "code",
      "execution_count": 7,
      "metadata": {
        "id": "w4IBV5brSJPT",
        "outputId": "a2b4d0b2-1e20-48e7-be50-cade05cbf97d",
        "colab": {
          "base_uri": "https://localhost:8080/"
        }
      },
      "outputs": [
        {
          "output_type": "execute_result",
          "data": {
            "text/plain": [
              "['a', 'b', 'hello', 'd']"
            ]
          },
          "metadata": {},
          "execution_count": 7
        }
      ],
      "source": [
        "abcd = ['a', 'b', 'c', 'd']\n",
        "abcd[2] = 'hello'\n",
        "abcd"
      ]
    },
    {
      "cell_type": "markdown",
      "metadata": {
        "id": "QLIacqrUSJPT"
      },
      "source": [
        "文字列と同様に、スライスを使った範囲指定も可能です。"
      ]
    },
    {
      "cell_type": "code",
      "execution_count": 8,
      "metadata": {
        "id": "gUk_Xmy1SJPU",
        "outputId": "2ea3ccd3-02b5-4d55-ffbf-d5f855569af7",
        "colab": {
          "base_uri": "https://localhost:8080/"
        }
      },
      "outputs": [
        {
          "output_type": "execute_result",
          "data": {
            "text/plain": [
              "['b', 'c']"
            ]
          },
          "metadata": {},
          "execution_count": 8
        }
      ],
      "source": [
        "abcd = ['a', 'b', 'c', 'd']\n",
        "abcd[1:3]"
      ]
    },
    {
      "cell_type": "code",
      "execution_count": 9,
      "metadata": {
        "id": "3aOkqWARSJPU",
        "outputId": "e881ba17-322c-4e34-d476-a4dbb1a750dc",
        "colab": {
          "base_uri": "https://localhost:8080/"
        }
      },
      "outputs": [
        {
          "output_type": "execute_result",
          "data": {
            "text/plain": [
              "['a', 'c']"
            ]
          },
          "metadata": {},
          "execution_count": 9
        }
      ],
      "source": [
        "abcd = ['a', 'b', 'c', 'd']\n",
        "abcd[0:4:2]"
      ]
    },
    {
      "cell_type": "markdown",
      "metadata": {
        "id": "j1-Sx7qASJPU"
      },
      "source": [
        "リストのスライスに対しては、代入も可能です。"
      ]
    },
    {
      "cell_type": "code",
      "execution_count": 10,
      "metadata": {
        "id": "WObZ1rtnSJPU",
        "outputId": "d3b2d143-45ef-46a7-c65a-2b9ace6e306f",
        "colab": {
          "base_uri": "https://localhost:8080/"
        }
      },
      "outputs": [
        {
          "output_type": "execute_result",
          "data": {
            "text/plain": [
              "['a', 'x', 'y', 'z', 'd']"
            ]
          },
          "metadata": {},
          "execution_count": 10
        }
      ],
      "source": [
        "abcd = ['a', 'b', 'c', 'd']\n",
        "abcd[1:3] = ['x', 'y', 'z']\n",
        "abcd"
      ]
    },
    {
      "cell_type": "markdown",
      "metadata": {
        "id": "cSqo9PkqSJPU"
      },
      "source": [
        "## 練習\n",
        "リスト `ln` を引数として取り、`ln` の偶数番目のインデックスの値を削除したリストを返す関数 `remove_evenindex` を作成してください（ただし、0 は偶数として扱うものとします）。\n",
        "\n",
        "ヒント：スライスを使います。\n",
        "\n",
        "以下のセルの `...` のところを書き換えて `remove_evenindex(ln)` を作成してください。"
      ]
    },
    {
      "cell_type": "code",
      "execution_count": 30,
      "metadata": {
        "id": "DavLg2dHSJPU",
        "outputId": "97f2181f-a152-496c-e697-c576be864d51",
        "colab": {
          "base_uri": "https://localhost:8080/"
        }
      },
      "outputs": [
        {
          "output_type": "execute_result",
          "data": {
            "text/plain": [
              "[2, 4, 6]"
            ]
          },
          "metadata": {},
          "execution_count": 30
        }
      ],
      "source": [
        "def remove_evenindex(ln):\n",
        "   return ln[1:len(ln):2]\n",
        "\n",
        "def remove_evenindex_a(ln):\n",
        "  ln[0:len(ln):2]=['']\n",
        "  return ln\n",
        "remove_evenindex([1,2,3,4,5,6])"
      ]
    },
    {
      "cell_type": "markdown",
      "metadata": {
        "id": "5IpMPkvDSJPU"
      },
      "source": [
        "上のセルで解答を作成した後、以下のセルを実行し、実行結果が全て `True` になることを確認してください。"
      ]
    },
    {
      "cell_type": "code",
      "execution_count": 26,
      "metadata": {
        "tags": [
          "raises-exception"
        ],
        "id": "iMuBDAmxSJPU",
        "outputId": "70807071-97b5-476e-ca20-aea3f38f4f22",
        "colab": {
          "base_uri": "https://localhost:8080/"
        }
      },
      "outputs": [
        {
          "output_type": "stream",
          "name": "stdout",
          "text": [
            "True\n",
            "True\n"
          ]
        }
      ],
      "source": [
        "print(remove_evenindex(['a', 'b', 'c', 'd', 'e', 'f', 'g']) == ['b', 'd', 'f'] )\n",
        "print(remove_evenindex([1, 2, 3, 4, 5]) == [2, 4])"
      ]
    },
    {
      "cell_type": "markdown",
      "metadata": {
        "id": "2WxgaN-ESJPU"
      },
      "source": [
        "## **多重リスト**\n",
        "リストの要素としてリストを指定することもできます。\n",
        "リストを要素とするリストは多重リストと呼ばれます。\n",
        "次は二重リストの例です。"
      ]
    },
    {
      "cell_type": "code",
      "execution_count": 31,
      "metadata": {
        "id": "xbsoypvcSJPU"
      },
      "outputs": [],
      "source": [
        "lns = [[1, 2, 3], [10, 20, 30], ['a', 'b', 'c']]"
      ]
    },
    {
      "cell_type": "markdown",
      "metadata": {
        "id": "RYT5DwVzSJPU"
      },
      "source": [
        "多重リストの要素指定は複数のインデックスで行います。\n",
        "前の例で外側の `[]` で示されるリストの2番目の要素のリスト、\n",
        "すなわち `[10, 20, 30]` の最初の要素は次のように指定します。"
      ]
    },
    {
      "cell_type": "code",
      "execution_count": 33,
      "metadata": {
        "id": "GHYO65IvSJPV",
        "outputId": "2ec6b112-4c27-48bb-b814-37a6fecccebb",
        "colab": {
          "base_uri": "https://localhost:8080/"
        }
      },
      "outputs": [
        {
          "output_type": "execute_result",
          "data": {
            "text/plain": [
              "[10, 20, 30]"
            ]
          },
          "metadata": {},
          "execution_count": 33
        }
      ],
      "source": [
        "lns[1][0]\n",
        "lns[1]"
      ]
    },
    {
      "cell_type": "markdown",
      "metadata": {
        "id": "RWbmTPvaSJPV"
      },
      "source": [
        "3番目のリストそのものを取り出したいときは、次のように指定します。"
      ]
    },
    {
      "cell_type": "code",
      "execution_count": 34,
      "metadata": {
        "id": "wM7b1QWsSJPV",
        "outputId": "00fb2241-28af-4515-d2af-f929ff4e6e67",
        "colab": {
          "base_uri": "https://localhost:8080/"
        }
      },
      "outputs": [
        {
          "output_type": "execute_result",
          "data": {
            "text/plain": [
              "['a', 'b', 'c']"
            ]
          },
          "metadata": {},
          "execution_count": 34
        }
      ],
      "source": [
        "lns[2]"
      ]
    },
    {
      "cell_type": "markdown",
      "metadata": {
        "id": "7M-2vPhHSJPV"
      },
      "source": [
        "以下のようにリストの要素として、リストを値とする変数を指定することもできます。"
      ]
    },
    {
      "cell_type": "code",
      "execution_count": 35,
      "metadata": {
        "id": "vNOTktcLSJPV",
        "outputId": "ecd1a6c4-02a6-4079-8fa8-bbab72578af2",
        "colab": {
          "base_uri": "https://localhost:8080/"
        }
      },
      "outputs": [
        {
          "output_type": "execute_result",
          "data": {
            "text/plain": [
              "[[[1, 2, 3], [10, 20, 30], ['a', 'b', 'c']],\n",
              " ['x', 1, [11, 12, 13]],\n",
              " ['y', [100, 120, 140]]]"
            ]
          },
          "metadata": {},
          "execution_count": 35
        }
      ],
      "source": [
        "lns2 = [lns, ['x', 1, [11, 12, 13]], ['y', [100, 120, 140]] ]\n",
        "lns2"
      ]
    },
    {
      "cell_type": "code",
      "execution_count": 39,
      "metadata": {
        "id": "PQoG0dDHSJPV",
        "outputId": "738bdd41-48d0-49f8-ea0b-f7980f254b37",
        "colab": {
          "base_uri": "https://localhost:8080/"
        }
      },
      "outputs": [
        {
          "output_type": "execute_result",
          "data": {
            "text/plain": [
              "30"
            ]
          },
          "metadata": {},
          "execution_count": 39
        }
      ],
      "source": [
        "lns2[0][1][2]"
      ]
    },
    {
      "cell_type": "markdown",
      "metadata": {
        "id": "BXy-chI-SJPV"
      },
      "source": [
        "## リストに対する関数・演算子・メソッド\n",
        "\n",
        "### リストの要素数\n",
        "\n",
        "組み込み関数 **`len`** はリストの長さ、すなわち要素数、を返します。"
      ]
    },
    {
      "cell_type": "code",
      "execution_count": 40,
      "metadata": {
        "id": "n2k96LfYSJPV",
        "outputId": "61db1225-b8ad-47cc-80c1-8740469465ee",
        "colab": {
          "base_uri": "https://localhost:8080/"
        }
      },
      "outputs": [
        {
          "output_type": "execute_result",
          "data": {
            "text/plain": [
              "6"
            ]
          },
          "metadata": {},
          "execution_count": 40
        }
      ],
      "source": [
        "numbers = [0, 10, 20, 30, 40, 50]\n",
        "len(numbers)"
      ]
    },
    {
      "cell_type": "markdown",
      "metadata": {
        "id": "b9MP7xZ2SJPV"
      },
      "source": [
        "### `max` と `min`\n",
        "\n",
        "リストを引数とする関数は色々とあります。\n",
        "関数 **`max`** は、数のリストが与えられると、その中の最大値を返します。\n",
        "同様に関数 **`min`** はリストの中の最小値を返します。"
      ]
    },
    {
      "cell_type": "code",
      "execution_count": 41,
      "metadata": {
        "id": "s-pq38sCSJPW",
        "outputId": "afd227c5-8556-47b2-fda2-558f0de40a92",
        "colab": {
          "base_uri": "https://localhost:8080/"
        }
      },
      "outputs": [
        {
          "output_type": "execute_result",
          "data": {
            "text/plain": [
              "60"
            ]
          },
          "metadata": {},
          "execution_count": 41
        }
      ],
      "source": [
        "numbers = [30, 50, 10, 20, 40, 60]\n",
        "max(numbers)"
      ]
    },
    {
      "cell_type": "code",
      "execution_count": 42,
      "metadata": {
        "id": "bwVTjnVhSJPW",
        "outputId": "1f1e493d-68e2-4703-b6ef-77c226316321",
        "colab": {
          "base_uri": "https://localhost:8080/"
        }
      },
      "outputs": [
        {
          "output_type": "execute_result",
          "data": {
            "text/plain": [
              "10"
            ]
          },
          "metadata": {},
          "execution_count": 42
        }
      ],
      "source": [
        "numbers = [30, 50, 10, 20, 40, 60]\n",
        "min(numbers)"
      ]
    },
    {
      "cell_type": "markdown",
      "metadata": {
        "id": "1wQlgZZlSJPW"
      },
      "source": [
        "`max` と `min` は文字列のリストに対しても適用できます。文字列の比較は、いわゆる辞書順で行われます。"
      ]
    },
    {
      "cell_type": "code",
      "execution_count": 43,
      "metadata": {
        "id": "BmbRHJiGSJPW",
        "outputId": "4ea65f84-3766-4479-f6f3-ef3321a4de7a",
        "colab": {
          "base_uri": "https://localhost:8080/",
          "height": 35
        }
      },
      "outputs": [
        {
          "output_type": "execute_result",
          "data": {
            "text/plain": [
              "'a'"
            ],
            "application/vnd.google.colaboratory.intrinsic+json": {
              "type": "string"
            }
          },
          "metadata": {},
          "execution_count": 43
        }
      ],
      "source": [
        "characters = ['e', 'd', 'a', 'c', 'f', 'b']\n",
        "min(characters)"
      ]
    },
    {
      "cell_type": "markdown",
      "metadata": {
        "id": "h3RL4BEeSJPZ"
      },
      "source": [
        "### `sum`\n",
        "\n",
        "関数 **`sum`** は、数のリストが与えられると、その要素の総和を返します。"
      ]
    },
    {
      "cell_type": "code",
      "execution_count": 44,
      "metadata": {
        "id": "PBpsUPKYSJPZ",
        "outputId": "2af2c0e4-3150-48d8-912c-a0d59125d8b3",
        "colab": {
          "base_uri": "https://localhost:8080/"
        }
      },
      "outputs": [
        {
          "output_type": "execute_result",
          "data": {
            "text/plain": [
              "210"
            ]
          },
          "metadata": {},
          "execution_count": 44
        }
      ],
      "source": [
        "numbers = [30, 50, 10, 20, 40, 60]\n",
        "sum(numbers)"
      ]
    },
    {
      "cell_type": "code",
      "execution_count": 45,
      "metadata": {
        "id": "Vkfkfe0_SJPZ",
        "outputId": "9fc66251-166c-4d61-8ab1-ecafeb02a4f1",
        "colab": {
          "base_uri": "https://localhost:8080/"
        }
      },
      "outputs": [
        {
          "output_type": "execute_result",
          "data": {
            "text/plain": [
              "0"
            ]
          },
          "metadata": {},
          "execution_count": 45
        }
      ],
      "source": [
        "sum([])"
      ]
    },
    {
      "cell_type": "markdown",
      "metadata": {
        "id": "qmjdwMhNSJPZ"
      },
      "source": [
        "### リストと演算子"
      ]
    },
    {
      "cell_type": "markdown",
      "metadata": {
        "id": "JMDi5OYSSJPa"
      },
      "source": [
        "演算子 **`+`** によってリストの連結、**`*`** によって連結における繰り返し回数を指定することができます。"
      ]
    },
    {
      "cell_type": "code",
      "execution_count": 46,
      "metadata": {
        "id": "yG2U4BglSJPa",
        "outputId": "0311c39a-5afc-4732-f9d1-478ec4e805e5",
        "colab": {
          "base_uri": "https://localhost:8080/"
        }
      },
      "outputs": [
        {
          "output_type": "execute_result",
          "data": {
            "text/plain": [
              "[0, 10, 20, 30, 40, 50, 'a', 'b', 'c']"
            ]
          },
          "metadata": {},
          "execution_count": 46
        }
      ],
      "source": [
        "numbers = [0, 10, 20, 30, 40, 50]\n",
        "numbers + ['a', 'b', 'c']"
      ]
    },
    {
      "cell_type": "code",
      "execution_count": 47,
      "metadata": {
        "id": "VVOPj5-GSJPa",
        "outputId": "c0cad8cd-1264-4679-c89a-3b2fe11faed1",
        "colab": {
          "base_uri": "https://localhost:8080/"
        }
      },
      "outputs": [
        {
          "output_type": "execute_result",
          "data": {
            "text/plain": [
              "[0, 10, 20, 30, 40, 50, 0, 10, 20, 30, 40, 50, 0, 10, 20, 30, 40, 50]"
            ]
          },
          "metadata": {},
          "execution_count": 47
        }
      ],
      "source": [
        "numbers*3"
      ]
    },
    {
      "cell_type": "markdown",
      "metadata": {
        "id": "ElTlqmQgSJPa"
      },
      "source": [
        "要素が全て同じ値（たとえば、`0` ）のリストを作る最も簡単な方法は、この `*` 演算子を使う方法です。"
      ]
    },
    {
      "cell_type": "code",
      "execution_count": 48,
      "metadata": {
        "id": "3ljwEpZqSJPa",
        "outputId": "f10fcef3-be43-48d0-dc62-4ff59e2967db",
        "colab": {
          "base_uri": "https://localhost:8080/"
        }
      },
      "outputs": [
        {
          "output_type": "execute_result",
          "data": {
            "text/plain": [
              "[0, 0, 0, 0, 0, 0, 0, 0, 0, 0]"
            ]
          },
          "metadata": {},
          "execution_count": 48
        }
      ],
      "source": [
        "zero10 = [0] * 10\n",
        "zero10"
      ]
    },
    {
      "cell_type": "markdown",
      "metadata": {
        "id": "oW0rc75ASJPa"
      },
      "source": [
        "`*` は `+` を繰り返し行うのと同じ結果を返します。\n",
        "たとえば、`x*3` は `x+x+x` と同じ結果を返します。\n",
        "\n",
        "`x` が多重リストのとき、`x` の要素であるリストが `y` の中に複数回現れます。"
      ]
    },
    {
      "cell_type": "code",
      "execution_count": 49,
      "metadata": {
        "id": "-wIT32F-SJPa",
        "outputId": "ddfaa54d-3357-4c69-9eed-92f3857a9e5b",
        "colab": {
          "base_uri": "https://localhost:8080/"
        }
      },
      "outputs": [
        {
          "output_type": "execute_result",
          "data": {
            "text/plain": [
              "[[0, 1], [2, 3], [0, 1], [2, 3], [0, 1], [2, 3]]"
            ]
          },
          "metadata": {},
          "execution_count": 49
        }
      ],
      "source": [
        "x = [[0, 1], [2, 3]]\n",
        "y = x*3\n",
        "y"
      ]
    },
    {
      "cell_type": "markdown",
      "metadata": {
        "id": "wePzBaZDSJPa"
      },
      "source": [
        "このとき、`x` の要素が変更されると、`y` の中では複数箇所に変化が起こるので、注意してください。"
      ]
    },
    {
      "cell_type": "code",
      "execution_count": 50,
      "metadata": {
        "id": "6PbNmQDQSJPa",
        "outputId": "9b60d128-ed84-4acf-88e1-f655a2f24543",
        "colab": {
          "base_uri": "https://localhost:8080/"
        }
      },
      "outputs": [
        {
          "output_type": "execute_result",
          "data": {
            "text/plain": [
              "[[99, 1], [2, 3], [99, 1], [2, 3], [99, 1], [2, 3]]"
            ]
          },
          "metadata": {},
          "execution_count": 50
        }
      ],
      "source": [
        "x[0][0] = 99\n",
        "y"
      ]
    },
    {
      "cell_type": "markdown",
      "metadata": {
        "id": "A0lppj4zSJPa"
      },
      "source": [
        "これは、`y` の中の複数個所にあるオブジェクトが同一だからです。\n",
        "詳しくは、以下の「▲オブジェクトの等価性と同一性」を参照してください。"
      ]
    },
    {
      "cell_type": "markdown",
      "metadata": {
        "id": "ezJmzwtYSJPa"
      },
      "source": [
        "演算子 **`in`** は、左辺の要素がリストに含まれれば `True` を、それ以外では `False` を返します。"
      ]
    },
    {
      "cell_type": "code",
      "execution_count": 51,
      "metadata": {
        "id": "PilL0yt_SJPa",
        "outputId": "e52e18d8-bce0-48da-8e23-4e38fc8f7a3f",
        "colab": {
          "base_uri": "https://localhost:8080/"
        }
      },
      "outputs": [
        {
          "output_type": "execute_result",
          "data": {
            "text/plain": [
              "True"
            ]
          },
          "metadata": {},
          "execution_count": 51
        }
      ],
      "source": [
        "10 in numbers"
      ]
    },
    {
      "cell_type": "markdown",
      "metadata": {
        "id": "lVfUhSNlSJPa"
      },
      "source": [
        "リストに対する `in` 演算子は、論理演算 `or` を簡潔に記述するのに用いることもできます。 たとえば、\n",
        "\n",
        "---\n",
        "```Python\n",
        "a1 == 1 or a1 == 3 or a1 == 7:\n",
        "```\n",
        "---\n",
        "\n",
        "は\n",
        "\n",
        "---\n",
        "```Python\n",
        "a1 in [1, 3, 7]:\n",
        "```\n",
        "---\n",
        "\n",
        "と同じ結果を得られます。 `or` の数が多くなる場合は、`in` を用いた方がより読みやすいプログラムを書くことができます。"
      ]
    },
    {
      "cell_type": "code",
      "execution_count": 52,
      "metadata": {
        "id": "3BksrQTdSJPa",
        "outputId": "1baf4619-deec-4865-ec84-c79f36a44d3b",
        "colab": {
          "base_uri": "https://localhost:8080/"
        }
      },
      "outputs": [
        {
          "output_type": "stream",
          "name": "stdout",
          "text": [
            "True True\n",
            "True True\n",
            "False False\n"
          ]
        }
      ],
      "source": [
        "a1 = 1\n",
        "print(a1 == 1 or a1 == 3 or a1 == 7, a1 in [1, 3, 7])\n",
        "a1 = 3\n",
        "print(a1 == 1 or a1 == 3 or a1 == 7, a1 in [1, 3, 7])\n",
        "a1 = 5\n",
        "print(a1 == 1 or a1 == 3 or a1 == 7, a1 in [1, 3, 7])"
      ]
    },
    {
      "cell_type": "markdown",
      "metadata": {
        "id": "oDi6MYF3SJPb"
      },
      "source": [
        "`in` 演算子は、左辺の要素がリストに含まれるかどうかを、\n",
        "リストの要素を最初から順に調べることで判定しています。\n",
        "したがって、リストの長さに比例した時間がかかります。\n",
        "つまり、リストの長さが大きければ、それなりの時間がかかることに注意してください。\n",
        "\n",
        "**`not in`** 演算子は、`in` 演算子の逆を意味します。"
      ]
    },
    {
      "cell_type": "code",
      "execution_count": null,
      "metadata": {
        "id": "2fuERj-_SJPb"
      },
      "outputs": [],
      "source": [
        "10 not in numbers"
      ]
    },
    {
      "cell_type": "code",
      "execution_count": null,
      "metadata": {
        "id": "G7xFtgWrSJPb"
      },
      "outputs": [],
      "source": [
        "11 not in numbers"
      ]
    },
    {
      "cell_type": "markdown",
      "metadata": {
        "id": "rikvY8kaSJPb"
      },
      "source": [
        "### 指定した要素のインデックス取得と数えあげ\n",
        "\n",
        "**`index`** メソッドは引数で指定した要素のインデックスの番号を返します。\n",
        "文字列には `index` に加えてこれと似た `find` メソッドもありましたが、リストでは使えません。"
      ]
    },
    {
      "cell_type": "code",
      "execution_count": 53,
      "metadata": {
        "id": "Fgxhn4LwSJPb",
        "outputId": "9537ffa1-eca1-4f99-890e-e3bead0efbf6",
        "colab": {
          "base_uri": "https://localhost:8080/"
        }
      },
      "outputs": [
        {
          "output_type": "execute_result",
          "data": {
            "text/plain": [
              "2"
            ]
          },
          "metadata": {},
          "execution_count": 53
        }
      ],
      "source": [
        "numbers = [0, 10, 20, 30, 40, 50]\n",
        "numbers.index(20)"
      ]
    },
    {
      "cell_type": "markdown",
      "metadata": {
        "id": "QQl820I6SJPb"
      },
      "source": [
        "**`count`** メソッドは指定した要素の数を返します。"
      ]
    },
    {
      "cell_type": "code",
      "execution_count": 54,
      "metadata": {
        "id": "l4hXNF8hSJPb",
        "outputId": "05db4561-ef84-404d-ec8b-f1b522dd6ece",
        "colab": {
          "base_uri": "https://localhost:8080/"
        }
      },
      "outputs": [
        {
          "output_type": "execute_result",
          "data": {
            "text/plain": [
              "3"
            ]
          },
          "metadata": {},
          "execution_count": 54
        }
      ],
      "source": [
        "all20 = [20]*3\n",
        "all20.count(20) # 指定した要素のリスト内の数"
      ]
    },
    {
      "cell_type": "markdown",
      "metadata": {
        "id": "8VVqBf4JSJPb"
      },
      "source": [
        "### 並べ替え（**`sort`** メソッド）\n",
        "\n",
        "`sort` メソッドはリスト内の要素を並べ替えます。\n",
        "引数に何も指定しなければ昇順でとなります。"
      ]
    },
    {
      "cell_type": "code",
      "execution_count": 56,
      "metadata": {
        "id": "KEUoR3X2SJPb"
      },
      "outputs": [],
      "source": [
        "numbers = [30, 50, 10, 20, 40, 60]\n",
        "numbers.sort()"
      ]
    },
    {
      "cell_type": "code",
      "execution_count": 57,
      "metadata": {
        "id": "u8KlDXriSJPb",
        "outputId": "f53f4a9e-1ca3-4314-e6e0-dcd6fd784915",
        "colab": {
          "base_uri": "https://localhost:8080/"
        }
      },
      "outputs": [
        {
          "output_type": "execute_result",
          "data": {
            "text/plain": [
              "[10, 20, 30, 40, 50, 60]"
            ]
          },
          "metadata": {},
          "execution_count": 57
        }
      ],
      "source": [
        "numbers"
      ]
    },
    {
      "cell_type": "code",
      "execution_count": 58,
      "metadata": {
        "id": "9uFEJATESJPb",
        "outputId": "d0c20011-90ec-4f34-cf43-16373725ebed",
        "colab": {
          "base_uri": "https://localhost:8080/"
        }
      },
      "outputs": [
        {
          "output_type": "execute_result",
          "data": {
            "text/plain": [
              "['a', 'b', 'c', 'd', 'e', 'f']"
            ]
          },
          "metadata": {},
          "execution_count": 58
        }
      ],
      "source": [
        "characters = ['e', 'd', 'a', 'c', 'f', 'b']\n",
        "characters.sort()\n",
        "characters"
      ]
    },
    {
      "cell_type": "markdown",
      "metadata": {
        "id": "Tk1sVArmSJPb"
      },
      "source": [
        "`reverse = True` オプションを指定すれば、要素を降順に並べ替えることもできます。\n",
        "（これは 3.3 のキーワード引数と呼ばれるものですが、ここでは天下り的に、\n",
        "並べ替えの方法を指定する情報と理解しておいてください。）"
      ]
    },
    {
      "cell_type": "code",
      "execution_count": 61,
      "metadata": {
        "id": "B81JQ88ySJPb",
        "outputId": "9568fff1-e0e4-485b-b96e-31f114b7bb63",
        "colab": {
          "base_uri": "https://localhost:8080/"
        }
      },
      "outputs": [
        {
          "output_type": "execute_result",
          "data": {
            "text/plain": [
              "[60, 50, 40, 30, 20, 10]"
            ]
          },
          "metadata": {},
          "execution_count": 61
        }
      ],
      "source": [
        "numbers = [30, 50, 10, 20, 40, 60]\n",
        "numbers.sort(reverse=True)\n",
        "numbers"
      ]
    },
    {
      "cell_type": "markdown",
      "metadata": {
        "id": "BWOhrLcESJPc"
      },
      "source": [
        "### 並べ替え（**`sorted`** 組み込み関数）\n",
        "\n",
        "関数 `sorted` ではリストを引数に取って、そのリスト内の要素を昇順に並べ替えた結果をリストとして返します。\n",
        "\n",
        "---\n",
        "```Python\n",
        "sorted(リスト)\n",
        "```\n",
        "---"
      ]
    },
    {
      "cell_type": "code",
      "execution_count": 62,
      "metadata": {
        "id": "m5NX3d5jSJPc",
        "outputId": "4600535d-ba54-47f5-f388-bb7c44df25cd",
        "colab": {
          "base_uri": "https://localhost:8080/"
        }
      },
      "outputs": [
        {
          "output_type": "execute_result",
          "data": {
            "text/plain": [
              "[10, 20, 30, 40, 50, 60]"
            ]
          },
          "metadata": {},
          "execution_count": 62
        }
      ],
      "source": [
        "numbers = [30, 50, 10, 20, 40, 60]\n",
        "sorted(numbers)"
      ]
    },
    {
      "cell_type": "markdown",
      "metadata": {
        "id": "T_pAgQbtSJPc"
      },
      "source": [
        "文字列の比較は、いわゆる辞書順で行われます。"
      ]
    },
    {
      "cell_type": "code",
      "execution_count": 63,
      "metadata": {
        "id": "YziFjhUWSJPc",
        "outputId": "7c7c75d9-14ae-4bfe-b703-4868df9d797a",
        "colab": {
          "base_uri": "https://localhost:8080/"
        }
      },
      "outputs": [
        {
          "output_type": "execute_result",
          "data": {
            "text/plain": [
              "['a', 'b', 'c', 'd', 'e', 'f']"
            ]
          },
          "metadata": {},
          "execution_count": 63
        }
      ],
      "source": [
        "characters = ['e', 'd', 'a', 'c', 'f', 'b']\n",
        "sorted(characters)"
      ]
    },
    {
      "cell_type": "markdown",
      "metadata": {
        "id": "NhEh0KdCSJPc"
      },
      "source": [
        "`sorted` においても、 `reverse = True` と記述することで要素を降順に並べ替えることができます。"
      ]
    },
    {
      "cell_type": "code",
      "execution_count": 64,
      "metadata": {
        "id": "5cA9o1rNSJPc",
        "outputId": "cb24158f-fd89-45f1-ce69-179d16cbdfc6",
        "colab": {
          "base_uri": "https://localhost:8080/"
        }
      },
      "outputs": [
        {
          "output_type": "execute_result",
          "data": {
            "text/plain": [
              "[60, 50, 40, 30, 20, 10]"
            ]
          },
          "metadata": {},
          "execution_count": 64
        }
      ],
      "source": [
        "numbers = [30, 50, 10, 20, 40, 60]\n",
        "sorted(numbers, reverse=True)"
      ]
    },
    {
      "cell_type": "markdown",
      "metadata": {
        "id": "JxOMcLGASJPc"
      },
      "source": [
        "ついでですが、多重リストをソートするとどのような結果が得られるか確かめてみてください。"
      ]
    },
    {
      "cell_type": "code",
      "execution_count": 65,
      "metadata": {
        "id": "hI8MWIaXSJPc",
        "outputId": "2294b566-5a88-449a-cba3-a71cce84c615",
        "colab": {
          "base_uri": "https://localhost:8080/"
        }
      },
      "outputs": [
        {
          "output_type": "execute_result",
          "data": {
            "text/plain": [
              "[[10, 30], [20, 5], [30, 10], [40, 20]]"
            ]
          },
          "metadata": {},
          "execution_count": 65
        }
      ],
      "source": [
        "lns = [[20, 5], [10, 30], [40, 20], [30, 10]]\n",
        "lns.sort()\n",
        "lns"
      ]
    },
    {
      "cell_type": "markdown",
      "metadata": {
        "id": "XDbg-T4aSJPc"
      },
      "source": [
        "## 破壊的（インプレース）な操作と非破壊的な生成"
      ]
    },
    {
      "cell_type": "markdown",
      "metadata": {
        "id": "fWcMenOgSJPc"
      },
      "source": [
        "上記では、`sort` メソッドと `sorted` 関数を紹介しましたが、両者の使い方が異なることに気が付きましたか？\n",
        "\n",
        "具体的には、` sort` メソッドでは元のリストが変更されています。\n",
        "一方、`sorted` 関数では元のリストはそのままになっています。もう一度確認してみましょう。"
      ]
    },
    {
      "cell_type": "code",
      "execution_count": 66,
      "metadata": {
        "id": "fg2CUuEqSJPc",
        "outputId": "c72e07de-e417-48a7-9270-82db3f7c4251",
        "colab": {
          "base_uri": "https://localhost:8080/"
        }
      },
      "outputs": [
        {
          "output_type": "stream",
          "name": "stdout",
          "text": [
            "sortメソッドの実行後の元のリスト: [10, 20, 30, 40, 50, 60]\n",
            "sorted関数の実行後の元のリスト: [30, 50, 10, 20, 40, 60]\n"
          ]
        }
      ],
      "source": [
        "numbers = [30, 50, 10, 20, 40, 60]\n",
        "numbers.sort()\n",
        "print('sortメソッドの実行後の元のリスト:', numbers)\n",
        "numbers = [30, 50, 10, 20, 40, 60]\n",
        "sorted(numbers)\n",
        "print('sorted関数の実行後の元のリスト:', numbers)"
      ]
    },
    {
      "cell_type": "markdown",
      "metadata": {
        "id": "kdEBRZffSJPc"
      },
      "source": [
        "このように、`sort` メソッドは元のリストを変更してしまいます。\n",
        "このような操作を**破壊的**あるいは**インプレース** (**in-place**) であるといいます。\n",
        "\n",
        "一方、`sorted` 関数は新しいリストを生成し元のリストを破壊しません、このような操作は**非破壊的**であるといいます。"
      ]
    },
    {
      "cell_type": "markdown",
      "metadata": {
        "id": "Vx2er2kISJPc"
      },
      "source": [
        "`sorted` 関数を用いた場合、その返値（並べ替えの結果）は新しい変数に代入して使うことができます。  \n",
        "\n",
        "一方、`sort` メソッドはリストを返さないためそのような使い方はできません。"
      ]
    },
    {
      "cell_type": "code",
      "execution_count": 67,
      "metadata": {
        "id": "SJ7U07QPSJPc",
        "outputId": "88e9ad8b-270e-4d50-fae3-ff3eb362d82c",
        "colab": {
          "base_uri": "https://localhost:8080/"
        }
      },
      "outputs": [
        {
          "output_type": "stream",
          "name": "stdout",
          "text": [
            "sorted関数の返値: [10, 20, 30, 40, 50, 60]\n",
            "sortメソッドの返値: None\n"
          ]
        }
      ],
      "source": [
        "numbers = [30, 50, 10, 20, 40, 60]\n",
        "numbers1 = sorted(numbers)\n",
        "print('sorted関数の返値:', numbers1)\n",
        "\n",
        "numbers = [30, 50, 10, 20, 40, 60]\n",
        "numbers2 = numbers.sort()\n",
        "print('sortメソッドの返値:', numbers2)"
      ]
    },
    {
      "cell_type": "markdown",
      "metadata": {
        "id": "Yxh-8-uGSJPd"
      },
      "source": [
        "## リストを操作するメソッドなど\n",
        "\n",
        "ここからはリストを操作するためのメソッドなどを紹介していきます。\n",
        "\n",
        "メソッドや組み込み関数が破壊的であるかどうかは、一般にその名称などからは判断できません。\n",
        "それぞれ破壊的かどうか理解してから利用しなければなりません。\n",
        "\n",
        "なお、次の `append` メソッド以外は、必要に応じて参照すればよく、\n",
        "それ以降タプルの項まで飛ばして構いません。\n",
        "\n",
        "### リストに要素を追加する\n",
        "\n",
        "**`append`** メソッドはリストの最後尾に指定した要素を付け加えます。\n",
        "\n",
        "---\n",
        "```Python\n",
        "リスト.append(追加する要素)\n",
        "```\n",
        "---"
      ]
    },
    {
      "cell_type": "code",
      "execution_count": 71,
      "metadata": {
        "id": "dGjU34ZjSJPd",
        "outputId": "194600fa-12a7-46a2-e3c7-6f6917a18746",
        "colab": {
          "base_uri": "https://localhost:8080/"
        }
      },
      "outputs": [
        {
          "output_type": "execute_result",
          "data": {
            "text/plain": [
              "[10, 20, 30, 40, 50, 100]"
            ]
          },
          "metadata": {},
          "execution_count": 71
        }
      ],
      "source": [
        "numbers = [10, 20, 30, 40, 50]\n",
        "numbers.append(100)\n",
        "numbers"
      ]
    },
    {
      "cell_type": "markdown",
      "metadata": {
        "id": "BKKcuO1XSJPd"
      },
      "source": [
        "`append` は、上述した空のリストと組み合わせて、あるリストから特定の条件を満たす要素のみからなる新たなリストを構成する、というような状況でしばしば用いられます。たとえば、リスト `numbers1 = [10, -10, 20, 30, -20, 40, -30]` から `0` より大きい要素のみを抜き出したリスト `positives` は次のように構成することができます。"
      ]
    },
    {
      "cell_type": "code",
      "execution_count": 72,
      "metadata": {
        "id": "gLYpfa1ISJPd",
        "outputId": "e1f99678-a799-448e-f97f-0492720d89dc",
        "colab": {
          "base_uri": "https://localhost:8080/"
        }
      },
      "outputs": [
        {
          "output_type": "execute_result",
          "data": {
            "text/plain": [
              "[10, 20, 30, 40]"
            ]
          },
          "metadata": {},
          "execution_count": 72
        }
      ],
      "source": [
        "numbers1 = [10, -10, 20, 30, -20, 40, -30]\n",
        "positives = [] # 空のリストを作成する\n",
        "positives.append(numbers1[0])\n",
        "positives.append(numbers1[2])\n",
        "positives.append(numbers1[3])\n",
        "positives.append(numbers1[5])\n",
        "positives"
      ]
    },
    {
      "cell_type": "markdown",
      "metadata": {
        "id": "wELOKkT-SJPd"
      },
      "source": [
        "### ▲リストにリストの要素を追加する\n",
        "\n",
        " **`extend`** メソッドはリストの最後尾に指定したリストの要素を付け加えます。\n",
        "\n",
        "---\n",
        "```Python\n",
        "リスト.extend(追加するリスト)\n",
        "```\n",
        "---"
      ]
    },
    {
      "cell_type": "code",
      "execution_count": 73,
      "metadata": {
        "id": "Lg0p22GoSJPd",
        "outputId": "d92ca120-1e59-49ff-fe39-69bbe0576964",
        "colab": {
          "base_uri": "https://localhost:8080/"
        }
      },
      "outputs": [
        {
          "output_type": "execute_result",
          "data": {
            "text/plain": [
              "[10, 20, 30, 40, 50, 200, 300, 400, 200]"
            ]
          },
          "metadata": {},
          "execution_count": 73
        }
      ],
      "source": [
        "numbers = [10, 20, 30, 40, 50]\n",
        "numbers.extend([200, 300, 400, 200]) # numbers += [200, 300, 400, 200] と同じ\n",
        "numbers"
      ]
    },
    {
      "cell_type": "markdown",
      "metadata": {
        "id": "F_g6hWo7SJPd"
      },
      "source": [
        "### ▲リストに要素を挿入する\n",
        "\n",
        "**insert** メソッドはリストのインデックスを指定した位置に新しい要素を挿入します。  \n",
        "\n",
        "---\n",
        "```Python\n",
        "リスト.insert(インデックス, 新しい要素)\n",
        "```\n",
        "---"
      ]
    },
    {
      "cell_type": "code",
      "execution_count": 74,
      "metadata": {
        "id": "_VJYu3WJSJPd",
        "outputId": "3b136b9d-60e8-49d2-a029-fc82acf96f45",
        "colab": {
          "base_uri": "https://localhost:8080/"
        }
      },
      "outputs": [
        {
          "output_type": "execute_result",
          "data": {
            "text/plain": [
              "[10, 1000, 20, 30, 40, 50]"
            ]
          },
          "metadata": {},
          "execution_count": 74
        }
      ],
      "source": [
        "numbers = [10, 20, 30, 40, 50]\n",
        "numbers.insert(1, 1000)\n",
        "numbers"
      ]
    },
    {
      "cell_type": "markdown",
      "metadata": {
        "id": "24RFmdQrSJPd"
      },
      "source": [
        "### ▲リストから要素を削除する\n",
        "\n",
        "**`remove`** メソッドは指定した要素をリストから削除します。  \n",
        "\n",
        "---\n",
        "```Python\n",
        "リスト.remove(削除したい要素)\n",
        "```\n",
        "---\n",
        "\n",
        "ただし、指定した要素が複数個リストに含まれる場合、一番最初の要素が削除されます。また、指定した値がリストに含まれない場合はエラーとなります。"
      ]
    },
    {
      "cell_type": "code",
      "execution_count": 75,
      "metadata": {
        "id": "XnZ8R9ixSJPd",
        "outputId": "6f1c4d84-ecf1-4692-e663-f086cc29f856",
        "colab": {
          "base_uri": "https://localhost:8080/"
        }
      },
      "outputs": [
        {
          "output_type": "execute_result",
          "data": {
            "text/plain": [
              "[10, 20, 40, 20]"
            ]
          },
          "metadata": {},
          "execution_count": 75
        }
      ],
      "source": [
        "numbers = [10, 20, 30, 40, 20]\n",
        "numbers.remove(30) # 指定した要素を削除\n",
        "numbers"
      ]
    },
    {
      "cell_type": "code",
      "execution_count": 76,
      "metadata": {
        "id": "g8Wk8AFwSJPd",
        "outputId": "ec87eec7-565c-41f5-a446-2bcaa2d612c0",
        "colab": {
          "base_uri": "https://localhost:8080/"
        }
      },
      "outputs": [
        {
          "output_type": "execute_result",
          "data": {
            "text/plain": [
              "[10, 40, 20]"
            ]
          },
          "metadata": {},
          "execution_count": 76
        }
      ],
      "source": [
        "numbers.remove(20) # 指定した要素が複数個リストに含まれる場合、一番最初の要素を削除\n",
        "numbers"
      ]
    },
    {
      "cell_type": "code",
      "execution_count": 77,
      "metadata": {
        "tags": [
          "raises-exception"
        ],
        "id": "2ht10EWRSJPd",
        "outputId": "3d2e2715-ffe2-4a79-abbd-4401989abe90",
        "colab": {
          "base_uri": "https://localhost:8080/",
          "height": 145
        }
      },
      "outputs": [
        {
          "output_type": "error",
          "ename": "ValueError",
          "evalue": "list.remove(x): x not in list",
          "traceback": [
            "\u001b[0;31m---------------------------------------------------------------------------\u001b[0m",
            "\u001b[0;31mValueError\u001b[0m                                Traceback (most recent call last)",
            "\u001b[0;32m/tmp/ipython-input-682954414.py\u001b[0m in \u001b[0;36m<cell line: 0>\u001b[0;34m()\u001b[0m\n\u001b[0;32m----> 1\u001b[0;31m \u001b[0mnumbers\u001b[0m\u001b[0;34m.\u001b[0m\u001b[0mremove\u001b[0m\u001b[0;34m(\u001b[0m\u001b[0;36m100\u001b[0m\u001b[0;34m)\u001b[0m \u001b[0;31m# リストに含まれない値を指定するとエラー\u001b[0m\u001b[0;34m\u001b[0m\u001b[0;34m\u001b[0m\u001b[0m\n\u001b[0m",
            "\u001b[0;31mValueError\u001b[0m: list.remove(x): x not in list"
          ]
        }
      ],
      "source": [
        "numbers.remove(100) # リストに含まれない値を指定するとエラー"
      ]
    },
    {
      "cell_type": "markdown",
      "metadata": {
        "id": "7zFswaNYSJPd"
      },
      "source": [
        "### ▲リストからインデックスで指定した要素を削除する\n",
        "\n",
        "**`pop`** メソッドはリストから指定したインデックスを削除し、その要素を返します。\n",
        "\n",
        "---\n",
        "```Python\n",
        "リスト.pop(削除したい要素のインデックス)\n",
        "```\n",
        "---"
      ]
    },
    {
      "cell_type": "code",
      "execution_count": 78,
      "metadata": {
        "id": "dzdUH1CxSJPe",
        "outputId": "dcbd47e8-eec5-4d8b-a750-ee7529cc735f",
        "colab": {
          "base_uri": "https://localhost:8080/"
        }
      },
      "outputs": [
        {
          "output_type": "stream",
          "name": "stdout",
          "text": [
            "30\n",
            "[10, 20, 20, 20, 40]\n"
          ]
        }
      ],
      "source": [
        "numbers = [10, 20, 20, 30, 20, 40]\n",
        "print(numbers.pop(3))\n",
        "print(numbers)"
      ]
    },
    {
      "cell_type": "markdown",
      "metadata": {
        "id": "Dz48MD6mSJPe"
      },
      "source": [
        "インデックスを指定しない場合、最後尾の要素を削除して返します。\n",
        "\n",
        "---\n",
        "```Python\n",
        "リスト.pop()\n",
        "```\n",
        "---"
      ]
    },
    {
      "cell_type": "code",
      "execution_count": 79,
      "metadata": {
        "id": "HgCitm5zSJPe",
        "outputId": "2ffaaf5f-ef47-4e7c-e076-d6468449652c",
        "colab": {
          "base_uri": "https://localhost:8080/"
        }
      },
      "outputs": [
        {
          "output_type": "stream",
          "name": "stdout",
          "text": [
            "40\n",
            "[10, 20, 30, 20]\n"
          ]
        }
      ],
      "source": [
        "ln = [10, 20, 30, 20, 40]\n",
        "print(ln.pop())\n",
        "print(ln)"
      ]
    },
    {
      "cell_type": "markdown",
      "metadata": {
        "id": "BI9EAAo9SJPe"
      },
      "source": [
        "### ▲リスト要素を削除する\n",
        "\n",
        "**`del`** 文は指定するリストの要素を削除します。具体的には以下のように削除したい要素をインデックスで指定します。  \n",
        "`del` も破壊的であることに注意してください。\n",
        "\n",
        "---\n",
        "```Python\n",
        "del リスト[x]\n",
        "```\n",
        "---"
      ]
    },
    {
      "cell_type": "code",
      "execution_count": 80,
      "metadata": {
        "id": "ZnslAFSTSJPe",
        "outputId": "1b03c032-c520-41f2-cf44-2c01a46af525",
        "colab": {
          "base_uri": "https://localhost:8080/"
        }
      },
      "outputs": [
        {
          "output_type": "execute_result",
          "data": {
            "text/plain": [
              "[10, 20, 40, 50]"
            ]
          },
          "metadata": {},
          "execution_count": 80
        }
      ],
      "source": [
        "numbers = [10, 20, 30, 40, 50]\n",
        "del numbers[2]\n",
        "numbers"
      ]
    },
    {
      "cell_type": "markdown",
      "metadata": {
        "id": "RDSWX5YZSJPe"
      },
      "source": [
        "スライスを使うことも可能です。\n",
        "\n",
        "---\n",
        "```Python\n",
        "del リスト[x:y]\n",
        "```\n",
        "---\n"
      ]
    },
    {
      "cell_type": "code",
      "execution_count": 81,
      "metadata": {
        "id": "T6evj5wtSJPe",
        "outputId": "2d9e36b9-aa3b-410d-ab29-ea5ea40315d8",
        "colab": {
          "base_uri": "https://localhost:8080/"
        }
      },
      "outputs": [
        {
          "output_type": "execute_result",
          "data": {
            "text/plain": [
              "[10, 20, 50]"
            ]
          },
          "metadata": {},
          "execution_count": 81
        }
      ],
      "source": [
        "numbers = [10, 20, 30, 40, 50]\n",
        "del numbers[2:4]\n",
        "numbers"
      ]
    },
    {
      "cell_type": "markdown",
      "metadata": {
        "id": "Z2FSj4NqSJPe"
      },
      "source": [
        "### ▲リストの要素を逆順にする\n",
        "\n",
        "**`reverse`** メソッドはリスト内の要素の順序を逆順にします。"
      ]
    },
    {
      "cell_type": "code",
      "execution_count": null,
      "metadata": {
        "id": "9oQGuJ7zSJPe"
      },
      "outputs": [],
      "source": [
        "characters = ['e', 'd', 'a', 'c', 'f', 'b']\n",
        "characters.reverse()\n",
        "characters"
      ]
    },
    {
      "cell_type": "markdown",
      "metadata": {
        "id": "VR5c5RbnSJPe"
      },
      "source": [
        "### ▲ **`copy`**\n",
        "リストを複製します。\n",
        "すなわち、`ln` の値がリストであるとき、`ln.copy()` は `ln` と同じ長さのリストを新たに作って、\n",
        "`ln` の要素を新しいリストに同じ順番で格納して、その新しいリストを返します。\n",
        "\n",
        "複製されたリストに変更を加えたとしても、もとのリストは影響を受けません。"
      ]
    },
    {
      "cell_type": "code",
      "execution_count": 82,
      "metadata": {
        "id": "n_6F0BxFSJPe",
        "outputId": "cfface0f-fa9e-4320-df8c-ca6b1899bc4d",
        "colab": {
          "base_uri": "https://localhost:8080/"
        }
      },
      "outputs": [
        {
          "output_type": "stream",
          "name": "stdout",
          "text": [
            "[50, 40, 10]\n",
            "[10, 20, 30, 40, 50]\n"
          ]
        }
      ],
      "source": [
        "numbers = [10, 20, 30, 40, 50]\n",
        "numbers2 = numbers.copy()\n",
        "del numbers[1:3]\n",
        "numbers.reverse()\n",
        "print(numbers)\n",
        "print(numbers2)"
      ]
    },
    {
      "cell_type": "markdown",
      "metadata": {
        "id": "7X54HqSdSJPe"
      },
      "source": [
        "一方、代入を用いた場合には影響を受けることに注意してください。"
      ]
    },
    {
      "cell_type": "code",
      "execution_count": 83,
      "metadata": {
        "id": "tYUTMdbISJPe",
        "outputId": "57da18ba-8a43-4987-b1c3-228b6e16d942",
        "colab": {
          "base_uri": "https://localhost:8080/"
        }
      },
      "outputs": [
        {
          "output_type": "stream",
          "name": "stdout",
          "text": [
            "[50, 40, 10]\n",
            "[50, 40, 10]\n"
          ]
        }
      ],
      "source": [
        "numbers = [10, 20, 30, 40, 50]\n",
        "numbers2 = numbers\n",
        "del numbers[1:3]\n",
        "numbers.reverse()\n",
        "print(numbers)\n",
        "print(numbers2)"
      ]
    },
    {
      "cell_type": "markdown",
      "source": [],
      "metadata": {
        "id": "xNaG3gOoYpsb"
      }
    },
    {
      "cell_type": "markdown",
      "metadata": {
        "tags": [],
        "id": "AoEj3fANSJPe"
      },
      "source": [
        "## リストと文字列の相互変換\n",
        "\n",
        "文字列は変更不可能である一方、リスト変更可能です。\n",
        "そのため、文字列処理をする際は、文字列のリストに一旦変換してから、変更を加えて、文字列に変換することが典型的です。\n",
        "ここでは、文字列とリストの相互変換の方法を示します。\n",
        "\n",
        "まず、文字列 `s` を `list` 関数に渡すと、`s` を文字単位で区切ったリストが得られます。"
      ]
    },
    {
      "cell_type": "code",
      "execution_count": 84,
      "metadata": {
        "id": "5hPAjktpSJPe",
        "outputId": "8ae2de80-518e-404a-e75f-0b9a086065e1",
        "colab": {
          "base_uri": "https://localhost:8080/"
        }
      },
      "outputs": [
        {
          "output_type": "execute_result",
          "data": {
            "text/plain": [
              "['a', 'b', 'c', '1', '2', '3']"
            ]
          },
          "metadata": {},
          "execution_count": 84
        }
      ],
      "source": [
        "list('abc123')"
      ]
    },
    {
      "cell_type": "markdown",
      "metadata": {
        "id": "nPXKJZfnSJPf"
      },
      "source": [
        "文字単位ではなく、指定された文字列で区切ってリストにする際は、 **`split`** メソッドを使います。"
      ]
    },
    {
      "cell_type": "code",
      "execution_count": 85,
      "metadata": {
        "id": "n56b_d-DSJPf",
        "outputId": "aa4cf842-e067-42a1-d8db-ed79394ec92a",
        "colab": {
          "base_uri": "https://localhost:8080/"
        }
      },
      "outputs": [
        {
          "output_type": "execute_result",
          "data": {
            "text/plain": [
              "['ba', 'a', 'a']"
            ]
          },
          "metadata": {},
          "execution_count": 85
        }
      ],
      "source": [
        "'banana'.split('n')"
      ]
    },
    {
      "cell_type": "code",
      "execution_count": 86,
      "metadata": {
        "id": "HDEMubFySJPf",
        "outputId": "11393c9e-2aaf-4bd1-b16b-b596fe200130",
        "colab": {
          "base_uri": "https://localhost:8080/"
        }
      },
      "outputs": [
        {
          "output_type": "execute_result",
          "data": {
            "text/plain": [
              "['A', 'B', 'C']"
            ]
          },
          "metadata": {},
          "execution_count": 86
        }
      ],
      "source": [
        "'A and B and C'.split(' and ')"
      ]
    },
    {
      "cell_type": "markdown",
      "metadata": {
        "id": "pLANS54cSJPf"
      },
      "source": [
        "`split` を無引数で呼び出すと、連続した空白文字を区切りと見做します。"
      ]
    },
    {
      "cell_type": "code",
      "execution_count": 87,
      "metadata": {
        "id": "z6lvNXewSJPf",
        "outputId": "2d672e48-8105-47e4-b449-6ae609ba35cf",
        "colab": {
          "base_uri": "https://localhost:8080/"
        }
      },
      "outputs": [
        {
          "output_type": "execute_result",
          "data": {
            "text/plain": [
              "['A', 'B', 'C']"
            ]
          },
          "metadata": {},
          "execution_count": 87
        }
      ],
      "source": [
        "'A   B\\nC  '.split()"
      ]
    },
    {
      "cell_type": "markdown",
      "metadata": {
        "id": "qVMdiTB0SJPf"
      },
      "source": [
        "逆に、文字のリストを連結して1つの文字列にする際は、 **`join`** メソッドを次のように使います。\n",
        "\n",
        "---\n",
        "```python\n",
        "接合点に挿入する文字列.join(文字列のリスト)\n",
        "```\n",
        "---"
      ]
    },
    {
      "cell_type": "code",
      "execution_count": 88,
      "metadata": {
        "id": "V2fRtGeMSJPf",
        "outputId": "01c79cec-03ac-4378-c3da-2cd85b3a739f",
        "colab": {
          "base_uri": "https://localhost:8080/",
          "height": 35
        }
      },
      "outputs": [
        {
          "output_type": "execute_result",
          "data": {
            "text/plain": [
              "'abc123'"
            ],
            "application/vnd.google.colaboratory.intrinsic+json": {
              "type": "string"
            }
          },
          "metadata": {},
          "execution_count": 88
        }
      ],
      "source": [
        "''.join(['a', 'b', 'c', '1', '2', '3'])"
      ]
    },
    {
      "cell_type": "code",
      "execution_count": 94,
      "metadata": {
        "id": "G-rSkHqbSJPf",
        "outputId": "f265cf51-2ed2-4d3f-b399-ccd60fa11ec5",
        "colab": {
          "base_uri": "https://localhost:8080/"
        }
      },
      "outputs": [
        {
          "output_type": "stream",
          "name": "stdout",
          "text": [
            "banana\n",
            "banana\n",
            "japan\n",
            "a1b1c\n"
          ]
        }
      ],
      "source": [
        "print('n'.join(['ba', 'a', 'a']))\n",
        "print('n'.join(['ba','a','a']))\n",
        "print('a'.join(['j','p','n']))\n",
        "print('1'.join(['a','b','c']))"
      ]
    },
    {
      "cell_type": "markdown",
      "metadata": {
        "id": "dXIAWINZSJPf"
      },
      "source": [
        "なお、 `join` の引数は、文字列のリストだけでなく、文字列のタプルでも問題ありません。\n",
        "タプルについては、次で述べます。\n",
        "\n",
        "### 練習\n",
        "\n",
        "emailアドレス `email` とドメイン名 `domain` を引数に取って、`email` のドメイン名を `domain` に置き換える関数 `change_domain(email, domain)` を作成してください。\n",
        "なお、emailアドレスのドメイン名とは、 `'@'` で区切られた右側の部分を意味します。\n",
        "\n",
        "次のセルの `...` のところを書き換えて `change_domain(email, domain)` を完成させてください。"
      ]
    },
    {
      "cell_type": "code",
      "execution_count": 98,
      "metadata": {
        "id": "Cq2sqrl9SJPf",
        "outputId": "106f1def-af6b-4861-d15b-75b0885b7593",
        "colab": {
          "base_uri": "https://localhost:8080/",
          "height": 35
        }
      },
      "outputs": [
        {
          "output_type": "execute_result",
          "data": {
            "text/plain": [
              "'spam@ipp.u-tokyo.ac.jp'"
            ],
            "application/vnd.google.colaboratory.intrinsic+json": {
              "type": "string"
            }
          },
          "metadata": {},
          "execution_count": 98
        }
      ],
      "source": [
        "def change_domain(email, domain):\n",
        "    lst=list(email)\n",
        "    lstdo=list(domain)\n",
        "    lst[email.index('@')+1:]=lstdo\n",
        "    return ''.join(lst)\n",
        "\n",
        "change_domain('spam@utokyo-ipp.org', 'ipp.u-tokyo.ac.jp')"
      ]
    },
    {
      "cell_type": "markdown",
      "metadata": {
        "id": "vouhPhwNSJPf"
      },
      "source": [
        "上のセルで解答を作成した後、以下のセルを実行し、実行結果が `True` になることを確認してください。"
      ]
    },
    {
      "cell_type": "code",
      "execution_count": 99,
      "metadata": {
        "tags": [
          "raises-exception"
        ],
        "id": "dey8-jClSJPf",
        "outputId": "9b696daf-f235-4021-d243-c1f29f59a9e4",
        "colab": {
          "base_uri": "https://localhost:8080/"
        }
      },
      "outputs": [
        {
          "output_type": "stream",
          "name": "stdout",
          "text": [
            "True\n"
          ]
        }
      ],
      "source": [
        "print(change_domain('spam@utokyo-ipp.org', 'ipp.u-tokyo.ac.jp') == 'spam@ipp.u-tokyo.ac.jp')"
      ]
    },
    {
      "cell_type": "markdown",
      "metadata": {
        "id": "bEadKC6oSJPf"
      },
      "source": [
        "## タプル (tuple)\n",
        "\n",
        "**タプル**は、リストと同じようにデータの並びであり、あらゆる種類のデータを要素にできます。\n",
        "ただし、リストと違ってタプルは一度設定した要素を変更できません（文字列も同様でした）。\n",
        "すなわち、タプルは変更不可能なデータです。\n",
        "したがって、リストの項で説明したメソッドの多く、要素を操作するもの、は適用できないのですが、\n",
        "逆にいうと、作成した後で要素を変更する必要がない場合は、\n",
        "タプルの方が実装の効率がよいので、リストよりもタプルを使うべきです。\n",
        "\n",
        "たとえば、関数が複数の値をリストにして返し、呼び出し側がすぐにリストをばらばらにして値を取り出すような場合は、\n",
        "リストよりもタプルを使うべきです。\n",
        "また、平面上の点を表そうとするとき、x座標とy座標を別々に変化させる必要がなければ、\n",
        "`(3, 5)` のようなタプルを使うのが自然です。\n",
        "このように、タプルを作成するには数学におけるのと同様に要素を丸括弧 `(...)` で囲みます。\n",
        "\n",
        "例を見ましょう。"
      ]
    },
    {
      "cell_type": "code",
      "execution_count": 100,
      "metadata": {
        "id": "0YftkuNISJPf"
      },
      "outputs": [],
      "source": [
        "x = 3\n",
        "y = 5\n",
        "point = (x, y)"
      ]
    },
    {
      "cell_type": "code",
      "execution_count": 101,
      "metadata": {
        "id": "bmdB-0v-SJPg",
        "outputId": "68732851-e745-4c3f-fe99-4cb7cdfd9921",
        "colab": {
          "base_uri": "https://localhost:8080/"
        }
      },
      "outputs": [
        {
          "output_type": "execute_result",
          "data": {
            "text/plain": [
              "(3, 5)"
            ]
          },
          "metadata": {},
          "execution_count": 101
        }
      ],
      "source": [
        "point"
      ]
    },
    {
      "cell_type": "code",
      "execution_count": 102,
      "metadata": {
        "id": "MQCyC9YYSJPg",
        "outputId": "9ac5d02e-5929-4865-db2a-487fb5988b01",
        "colab": {
          "base_uri": "https://localhost:8080/"
        }
      },
      "outputs": [
        {
          "output_type": "execute_result",
          "data": {
            "text/plain": [
              "tuple"
            ]
          },
          "metadata": {},
          "execution_count": 102
        }
      ],
      "source": [
        "type(point)"
      ]
    },
    {
      "cell_type": "code",
      "execution_count": 103,
      "metadata": {
        "id": "_ZHwMQVGSJPg",
        "outputId": "6616975b-5f16-43c8-a7df-99bdb45a1256",
        "colab": {
          "base_uri": "https://localhost:8080/"
        }
      },
      "outputs": [
        {
          "output_type": "execute_result",
          "data": {
            "text/plain": [
              "(1, 2, 3)"
            ]
          },
          "metadata": {},
          "execution_count": 103
        }
      ],
      "source": [
        "numbers3 = (1, 2, 3)\n",
        "numbers3"
      ]
    },
    {
      "cell_type": "markdown",
      "metadata": {
        "id": "tfoAVs-cSJPg"
      },
      "source": [
        "実は、丸括弧なしでもタプルを作成できます。"
      ]
    },
    {
      "cell_type": "code",
      "execution_count": 104,
      "metadata": {
        "id": "nlyXJr5hSJPg",
        "outputId": "f30b31d0-8a77-448f-a0bb-e2aba9009371",
        "colab": {
          "base_uri": "https://localhost:8080/"
        }
      },
      "outputs": [
        {
          "output_type": "execute_result",
          "data": {
            "text/plain": [
              "(1, 2, 3)"
            ]
          },
          "metadata": {},
          "execution_count": 104
        }
      ],
      "source": [
        "numbers3 = 1,2,3\n",
        "numbers3"
      ]
    },
    {
      "cell_type": "markdown",
      "metadata": {
        "id": "ZEuTSqJxSJPg"
      },
      "source": [
        "要素が1つだけの場合は、 `t = (1)` ではなく、次のようにします。"
      ]
    },
    {
      "cell_type": "code",
      "execution_count": 105,
      "metadata": {
        "id": "PQucdiyvSJPg",
        "outputId": "754e23c9-d56e-4852-e8cb-50b81941bedf",
        "colab": {
          "base_uri": "https://localhost:8080/"
        }
      },
      "outputs": [
        {
          "output_type": "execute_result",
          "data": {
            "text/plain": [
              "(1,)"
            ]
          },
          "metadata": {},
          "execution_count": 105
        }
      ],
      "source": [
        "onlyone = (1,)\n",
        "onlyone"
      ]
    },
    {
      "cell_type": "markdown",
      "metadata": {
        "id": "mpmnbigFSJPg"
      },
      "source": [
        "`t = (1)` だと、`t = 1` と同じになってしまいます。"
      ]
    },
    {
      "cell_type": "code",
      "execution_count": 106,
      "metadata": {
        "id": "9g-36btMSJPg",
        "outputId": "3a05bfb9-7aac-456e-f62b-1674670bb020",
        "colab": {
          "base_uri": "https://localhost:8080/"
        }
      },
      "outputs": [
        {
          "output_type": "execute_result",
          "data": {
            "text/plain": [
              "1"
            ]
          },
          "metadata": {},
          "execution_count": 106
        }
      ],
      "source": [
        "onlyone = (1)\n",
        "onlyone"
      ]
    },
    {
      "cell_type": "markdown",
      "metadata": {
        "id": "W1R5qaptSJPg"
      },
      "source": [
        "何も要素を格納していないタプル（**空タプル**）は `()` で作成できます。"
      ]
    },
    {
      "cell_type": "code",
      "execution_count": 107,
      "metadata": {
        "id": "_EQmq9evSJPg",
        "outputId": "17909a43-026d-4a1e-a518-f6a1cfdc988e",
        "colab": {
          "base_uri": "https://localhost:8080/"
        }
      },
      "outputs": [
        {
          "output_type": "execute_result",
          "data": {
            "text/plain": [
              "()"
            ]
          },
          "metadata": {},
          "execution_count": 107
        }
      ],
      "source": [
        "empty = ()\n",
        "empty"
      ]
    },
    {
      "cell_type": "markdown",
      "metadata": {
        "id": "eeBbaVY4SJPg"
      },
      "source": [
        "リストや文字列と同様に、インデックスや組み込み関数を使った操作が可能です。"
      ]
    },
    {
      "cell_type": "code",
      "execution_count": 108,
      "metadata": {
        "id": "W3HpngkQSJPg",
        "outputId": "d03649f0-9a3b-4b52-cc7f-9e46365fb8a4",
        "colab": {
          "base_uri": "https://localhost:8080/"
        }
      },
      "outputs": [
        {
          "output_type": "execute_result",
          "data": {
            "text/plain": [
              "2"
            ]
          },
          "metadata": {},
          "execution_count": 108
        }
      ],
      "source": [
        "numbers3 = (1, 2, 3)\n",
        "numbers3[1] # インデックスの指定による値の取得"
      ]
    },
    {
      "cell_type": "code",
      "execution_count": 109,
      "metadata": {
        "id": "YleL8PR-SJPg",
        "outputId": "09841f4d-3a7a-42da-cb70-e6dc3f8afc33",
        "colab": {
          "base_uri": "https://localhost:8080/"
        }
      },
      "outputs": [
        {
          "output_type": "execute_result",
          "data": {
            "text/plain": [
              "3"
            ]
          },
          "metadata": {},
          "execution_count": 109
        }
      ],
      "source": [
        "len(numbers3) # lenはタプルを構成する要素の数"
      ]
    },
    {
      "cell_type": "code",
      "execution_count": 110,
      "metadata": {
        "id": "2PmNmTM-SJPh",
        "outputId": "59a78d98-7239-4fc7-df56-665f8661adc4",
        "colab": {
          "base_uri": "https://localhost:8080/"
        }
      },
      "outputs": [
        {
          "output_type": "execute_result",
          "data": {
            "text/plain": [
              "(2, 3)"
            ]
          },
          "metadata": {},
          "execution_count": 110
        }
      ],
      "source": [
        "numbers3[1:3] # スライス"
      ]
    },
    {
      "cell_type": "markdown",
      "metadata": {
        "id": "Plt3gPSFSJPh"
      },
      "source": [
        "上述しましたが、一度作成したタプルの要素を後から変更することはできません。\n",
        "したがって以下のプログラムはエラーとなります。\n",
        "\n",
        "---\n",
        "```Python\n",
        "numbers3 = (1, 2, 3)\n",
        "numbers3[1] = 5\n",
        "```"
      ]
    },
    {
      "cell_type": "markdown",
      "metadata": {
        "id": "F-RepCaySJPh"
      },
      "source": [
        "組み込み関数 **`list`** を使って、タプルをリストに変換できます。\n",
        "（`list` はリストのデータ型でもあります。）"
      ]
    },
    {
      "cell_type": "code",
      "execution_count": 111,
      "metadata": {
        "id": "oWo7raWVSJPh",
        "outputId": "a07f8371-43bc-4bfc-9854-190e45acf60d",
        "colab": {
          "base_uri": "https://localhost:8080/"
        }
      },
      "outputs": [
        {
          "output_type": "execute_result",
          "data": {
            "text/plain": [
              "[1, 2, 3]"
            ]
          },
          "metadata": {},
          "execution_count": 111
        }
      ],
      "source": [
        "numbers3 = (1, 2, 3)\n",
        "list(numbers3)"
      ]
    },
    {
      "cell_type": "markdown",
      "metadata": {
        "id": "BFzBPcGOSJPh"
      },
      "source": [
        "組み込み関数 **`tuple`** を使って、逆にリストをタプルに変換できます。\n",
        "（`tuple` はタプルのデータ型でもあります。）"
      ]
    },
    {
      "cell_type": "code",
      "execution_count": 112,
      "metadata": {
        "id": "2WdBxxgmSJPh",
        "outputId": "e7c63d1d-c6e5-4526-dbde-11d48d7c6f87",
        "colab": {
          "base_uri": "https://localhost:8080/"
        }
      },
      "outputs": [
        {
          "output_type": "execute_result",
          "data": {
            "text/plain": [
              "(1, 2)"
            ]
          },
          "metadata": {},
          "execution_count": 112
        }
      ],
      "source": [
        "numbers2 = [1, 2]\n",
        "tuple(numbers2)"
      ]
    },
    {
      "cell_type": "markdown",
      "metadata": {
        "id": "dspn9YJDSJPh"
      },
      "source": [
        "## 練習\n",
        "整数の要素からなるリスト `ln` を引数として取り、\n",
        "`ln` に含まれる要素を逆順に格納したタプルを返す関数 `reverse_totuple` を作成してください。\n",
        "\n",
        "以下のセルの `...` のところを書き換えて `reverse_totuple(ln)` を作成してください。"
      ]
    },
    {
      "cell_type": "code",
      "execution_count": 129,
      "metadata": {
        "id": "85391aFSSJPh",
        "outputId": "08f11072-f7fa-40e5-93a4-b2ab942c7542",
        "colab": {
          "base_uri": "https://localhost:8080/"
        }
      },
      "outputs": [
        {
          "output_type": "execute_result",
          "data": {
            "text/plain": [
              "(3, 2, 1)"
            ]
          },
          "metadata": {},
          "execution_count": 129
        }
      ],
      "source": [
        "def reverse_totuple(ln):\n",
        "    a=list(ln)\n",
        "    a.reverse()\n",
        "    return tuple(a)\n",
        "reverse_totuple((1,2,3))"
      ]
    },
    {
      "cell_type": "markdown",
      "metadata": {
        "id": "55hsb7k0SJPh"
      },
      "source": [
        "上のセルで解答を作成した後、以下のセルを実行し、実行結果が `True` になることを確認してください。"
      ]
    },
    {
      "cell_type": "code",
      "execution_count": 130,
      "metadata": {
        "tags": [
          "raises-exception"
        ],
        "id": "wNCa1LphSJPh",
        "outputId": "2dc74cca-107a-4388-9036-73b6f3342ff8",
        "colab": {
          "base_uri": "https://localhost:8080/"
        }
      },
      "outputs": [
        {
          "output_type": "stream",
          "name": "stdout",
          "text": [
            "True\n"
          ]
        }
      ],
      "source": [
        "print(reverse_totuple([1, 2, 3, 4, 5]) == (5, 4, 3, 2, 1))"
      ]
    },
    {
      "cell_type": "markdown",
      "metadata": {
        "id": "wEEn4y6eSJPh"
      },
      "source": [
        "## 多重代入\n",
        "**多重代入**では、左辺に複数の変数などを指定してタプルやリストの全ての要素を一度の操作で代入することができます。"
      ]
    },
    {
      "cell_type": "code",
      "execution_count": 132,
      "metadata": {
        "id": "oL3rgxCNSJPh",
        "outputId": "81d43b0f-49a1-45da-c168-84e716bdd0b3",
        "colab": {
          "base_uri": "https://localhost:8080/"
        }
      },
      "outputs": [
        {
          "output_type": "execute_result",
          "data": {
            "text/plain": [
              "10"
            ]
          },
          "metadata": {},
          "execution_count": 132
        }
      ],
      "source": [
        "numbers = [0, 10, 20, 30, 40]\n",
        "[a, b, c, d, e] = numbers\n",
        "b"
      ]
    },
    {
      "cell_type": "markdown",
      "metadata": {
        "id": "XX5p1VIFSJPh"
      },
      "source": [
        "以下のようにしても同じ結果を得られます。"
      ]
    },
    {
      "cell_type": "code",
      "execution_count": 133,
      "metadata": {
        "tags": [
          "raises-exception"
        ],
        "id": "DawyXc3fSJPh",
        "outputId": "256cbeae-3125-46ab-968c-2c59c3089eda",
        "colab": {
          "base_uri": "https://localhost:8080/"
        }
      },
      "outputs": [
        {
          "output_type": "execute_result",
          "data": {
            "text/plain": [
              "10"
            ]
          },
          "metadata": {},
          "execution_count": 133
        }
      ],
      "source": [
        "a, b, c, d, e = numbers\n",
        "b"
      ]
    },
    {
      "cell_type": "markdown",
      "metadata": {
        "id": "Cv50uK6qSJPh"
      },
      "source": [
        "多重代入は文字列に対しても実行可能です。"
      ]
    },
    {
      "cell_type": "code",
      "execution_count": 134,
      "metadata": {
        "id": "J9Kdvm_KSJPh",
        "outputId": "f33c9f26-37d0-42c3-b929-a8f59f12efaa",
        "colab": {
          "base_uri": "https://localhost:8080/",
          "height": 35
        }
      },
      "outputs": [
        {
          "output_type": "execute_result",
          "data": {
            "text/plain": [
              "'l'"
            ],
            "application/vnd.google.colaboratory.intrinsic+json": {
              "type": "string"
            }
          },
          "metadata": {},
          "execution_count": 134
        }
      ],
      "source": [
        "a, b, c, d, e = 'hello'\n",
        "d"
      ]
    },
    {
      "cell_type": "markdown",
      "metadata": {
        "id": "bUXzRam_SJPi"
      },
      "source": [
        "タプルに対しても実行可能です。"
      ]
    },
    {
      "cell_type": "code",
      "execution_count": 135,
      "metadata": {
        "id": "4-4XlNtwSJPi",
        "outputId": "b38bf363-162b-4c79-cbad-08ccfa4a55d9",
        "colab": {
          "base_uri": "https://localhost:8080/"
        }
      },
      "outputs": [
        {
          "output_type": "execute_result",
          "data": {
            "text/plain": [
              "2"
            ]
          },
          "metadata": {},
          "execution_count": 135
        }
      ],
      "source": [
        "numbers3 = (1, 2, 3)\n",
        "(x,y,z) = numbers3\n",
        "y"
      ]
    },
    {
      "cell_type": "markdown",
      "metadata": {
        "id": "Qyh_SEUoSJPi"
      },
      "source": [
        "以下のように様々な書き方が可能です。"
      ]
    },
    {
      "cell_type": "code",
      "execution_count": 136,
      "metadata": {
        "id": "RCFDa4ykSJPi",
        "outputId": "81dd470d-d08e-4333-d446-9a7062732232",
        "colab": {
          "base_uri": "https://localhost:8080/"
        }
      },
      "outputs": [
        {
          "output_type": "stream",
          "name": "stdout",
          "text": [
            "2\n",
            "2\n",
            "2\n",
            "2\n",
            "2\n"
          ]
        }
      ],
      "source": [
        "x,y,z = numbers3\n",
        "print(y)\n",
        "(x,y,z) = (1, 2, 3)\n",
        "print(y)\n",
        "x,y,z = (1, 2, 3)\n",
        "print(y)\n",
        "(x,y,z) = 1, 2, 3\n",
        "print(y)\n",
        "x,y,z = 1, 2, 3\n",
        "print(y)"
      ]
    },
    {
      "cell_type": "markdown",
      "metadata": {
        "id": "BsKIXo0jSJPi"
      },
      "source": [
        "多重代入を使うことで、2つの変数に格納された値の入れ替えを行う手続きはしばしば用いられます。"
      ]
    },
    {
      "cell_type": "code",
      "execution_count": 137,
      "metadata": {
        "id": "0c0NmoDYSJPi",
        "outputId": "e5373c47-0c63-4daf-b2d5-9ee4c6e240da",
        "colab": {
          "base_uri": "https://localhost:8080/"
        }
      },
      "outputs": [
        {
          "output_type": "stream",
          "name": "stdout",
          "text": [
            "pen apple\n"
          ]
        }
      ],
      "source": [
        "x = 'apple'\n",
        "y = 'pen'\n",
        "x, y = y, x\n",
        "print(x, y) #w = x; x = y; y = w と同じ結果が得られる"
      ]
    },
    {
      "cell_type": "markdown",
      "metadata": {
        "id": "qdcHYDJqSJPi"
      },
      "source": [
        "## リストやタプルの比較演算\n",
        "数値などを比較するのに用いた比較演算子を用いて、2つのリストやタプルを比較することもできます。"
      ]
    },
    {
      "cell_type": "code",
      "execution_count": 139,
      "metadata": {
        "id": "khNMi-jkSJPi",
        "outputId": "908101b7-9442-4443-e6db-ce2f59ddc9f0",
        "colab": {
          "base_uri": "https://localhost:8080/"
        }
      },
      "outputs": [
        {
          "output_type": "stream",
          "name": "stdout",
          "text": [
            "True\n"
          ]
        },
        {
          "output_type": "execute_result",
          "data": {
            "text/plain": [
              "False"
            ]
          },
          "metadata": {},
          "execution_count": 139
        }
      ],
      "source": [
        "print([1, 2, 3] == [1, 2, 3])\n",
        "[1, 2] == [1, 2, 3]"
      ]
    },
    {
      "cell_type": "code",
      "execution_count": 140,
      "metadata": {
        "id": "CkaSO4q7SJPi",
        "outputId": "25a84200-8616-48d9-c717-dcf1267e5f43",
        "colab": {
          "base_uri": "https://localhost:8080/"
        }
      },
      "outputs": [
        {
          "output_type": "stream",
          "name": "stdout",
          "text": [
            "True\n",
            "False\n"
          ]
        }
      ],
      "source": [
        "print((1, 2, 3) == (1, 2, 3))\n",
        "print((1, 2) == (1, 2, 3))"
      ]
    },
    {
      "cell_type": "code",
      "execution_count": 141,
      "metadata": {
        "id": "hm75IwK7SJPi",
        "outputId": "2317dbac-3e31-478b-a177-ab9d735333a2",
        "colab": {
          "base_uri": "https://localhost:8080/"
        }
      },
      "outputs": [
        {
          "output_type": "stream",
          "name": "stdout",
          "text": [
            "False\n",
            "True\n"
          ]
        }
      ],
      "source": [
        "print([1, 2, 3] != [1, 2, 3])\n",
        "print([1, 2] != [1, 2, 3])"
      ]
    },
    {
      "cell_type": "code",
      "execution_count": 142,
      "metadata": {
        "id": "PQWezFh8SJPi",
        "outputId": "d8768a80-7ad8-4c7d-ed68-48875fb3affe",
        "colab": {
          "base_uri": "https://localhost:8080/"
        }
      },
      "outputs": [
        {
          "output_type": "stream",
          "name": "stdout",
          "text": [
            "False\n",
            "True\n"
          ]
        }
      ],
      "source": [
        "print((1, 2, 3) != (1, 2, 3))\n",
        "print((1, 2) != (1, 2, 3))"
      ]
    },
    {
      "cell_type": "markdown",
      "metadata": {
        "id": "5802TDoHSJPi"
      },
      "source": [
        "大小の比較は、いわゆる辞書式による比較で、リストやタプルの最初の要素から順に比較して大小を決めます。\n",
        "片方がもう片方を拡張したものであれば、拡張した方を大きいとします。"
      ]
    },
    {
      "cell_type": "code",
      "execution_count": 143,
      "metadata": {
        "id": "Q6r4oaDoSJPi",
        "outputId": "ea2de9b6-f428-4ec8-e168-70b9b91bbc3a",
        "colab": {
          "base_uri": "https://localhost:8080/"
        }
      },
      "outputs": [
        {
          "output_type": "stream",
          "name": "stdout",
          "text": [
            "True\n",
            "False\n",
            "True\n",
            "True\n"
          ]
        }
      ],
      "source": [
        "print([1, 2, 3] <= [1, 2, 3])\n",
        "print([1, 2, 3] < [1, 2, 3])\n",
        "print([1, 2, 3] < [1, 2, 4])\n",
        "print([1, 2] < [1, 2, 3])"
      ]
    },
    {
      "cell_type": "code",
      "execution_count": 144,
      "metadata": {
        "id": "f6ODkAoUSJPj",
        "outputId": "078db9be-bd56-44b0-d71f-981c8671ace3",
        "colab": {
          "base_uri": "https://localhost:8080/"
        }
      },
      "outputs": [
        {
          "output_type": "stream",
          "name": "stdout",
          "text": [
            "True\n",
            "False\n",
            "True\n",
            "True\n"
          ]
        }
      ],
      "source": [
        "print((1, 2, 3) <= (1, 2, 3))\n",
        "print((1, 2, 3) < (1, 2, 3))\n",
        "print((1, 2, 3) < (1, 2, 4))\n",
        "print((1, 2) < (1, 2, 3))"
      ]
    },
    {
      "cell_type": "markdown",
      "metadata": {
        "id": "UQGpkODwSJPj"
      },
      "source": [
        "## for文による繰り返しとリスト・タプル\n",
        "\n",
        "きまった操作の繰り返しはコンピュータが最も得意とする処理のひとつです。\n",
        "リストのそれぞれの要素にわたって操作を繰り返したい場合は**for文**を用います。\n",
        "\n",
        "リスト `ls` の要素全てに対して、`実行文` を繰り返すには次のように書きます。\n",
        "\n",
        "---\n",
        "```Python\n",
        "for value in ls:\n",
        "    実行文\n",
        "```\n",
        "---\n",
        "\n",
        "`for` で始まる行の `in` の後に処理対象となるリスト `ls` が、`in` の前に変数 `value` が書かれます。\n",
        "\n",
        "`ls` の最初の要素、すなわち `ls[0]` が `value` に代入され `実行文` が処理されます。\n",
        "`実行文` の処理が終われば、`ls` の次の要素が `value` に代入され、処理が繰り返されます。\n",
        "このようにして、`ls` の要素に対する処理が `len(ls)` 回繰り返されると、for文の処理が終了します。\n",
        "\n",
        "ここでの `in` の働きは、先に説明したリスト要素の有無を検査する `in` とは異なることに、\n",
        "そして、if文と同様、 `実行文` の前にはスペースが必要であることに注意してください。\n",
        "\n",
        "次に具体例を示します。\n",
        "3つの要素を持つリスト `ls` から1つずつ要素を取り出し、変数 `value` に代入しています。\n",
        "`実行文` では `value` を用いて取り出した要素を参照しています。"
      ]
    },
    {
      "cell_type": "code",
      "execution_count": 181,
      "metadata": {
        "id": "ESeGs9sqSJPj",
        "outputId": "b96313ab-9433-4344-d6b4-13ea8cd9d148",
        "colab": {
          "base_uri": "https://localhost:8080/"
        }
      },
      "outputs": [
        {
          "output_type": "stream",
          "name": "stdout",
          "text": [
            "For loop: 4\n",
            "For loop: 5\n",
            "For loop: 6\n"
          ]
        }
      ],
      "source": [
        "ls = [4,5,6]\n",
        "\n",
        "for value in ls:\n",
        "    print('For loop:', value)"
      ]
    },
    {
      "cell_type": "markdown",
      "metadata": {
        "id": "dYwcqj6aSJPj"
      },
      "source": [
        "`in` の後に直接リストを記述することもできます。"
      ]
    },
    {
      "cell_type": "code",
      "execution_count": 146,
      "metadata": {
        "id": "dASaOLk5SJPj",
        "outputId": "4e6734d2-56b5-4f4d-cb48-357f2ba6d3b5",
        "colab": {
          "base_uri": "https://localhost:8080/"
        }
      },
      "outputs": [
        {
          "output_type": "stream",
          "name": "stdout",
          "text": [
            "For loop: 0\n",
            "For loop: 1\n",
            "For loop: 2\n"
          ]
        }
      ],
      "source": [
        "for value in [0,1,2]:\n",
        "    print('For loop:', value)"
      ]
    },
    {
      "cell_type": "markdown",
      "metadata": {
        "id": "DXyRGgY2SJPj"
      },
      "source": [
        "`実行文` の前にスペースがないとエラーが出ます。"
      ]
    },
    {
      "cell_type": "code",
      "execution_count": 147,
      "metadata": {
        "tags": [
          "raises-exception"
        ],
        "id": "qPfd9WINSJPj",
        "outputId": "f7e2fb38-2cd9-49f1-fceb-a2f5de9b1915",
        "colab": {
          "base_uri": "https://localhost:8080/",
          "height": 109
        }
      },
      "outputs": [
        {
          "output_type": "error",
          "ename": "IndentationError",
          "evalue": "expected an indented block after 'for' statement on line 1 (ipython-input-3755322112.py, line 2)",
          "traceback": [
            "\u001b[0;36m  File \u001b[0;32m\"/tmp/ipython-input-3755322112.py\"\u001b[0;36m, line \u001b[0;32m2\u001b[0m\n\u001b[0;31m    print('For loop:', value)\u001b[0m\n\u001b[0m    ^\u001b[0m\n\u001b[0;31mIndentationError\u001b[0m\u001b[0;31m:\u001b[0m expected an indented block after 'for' statement on line 1\n"
          ]
        }
      ],
      "source": [
        "for value in  [0,1,2]:\n",
        "print('For loop:', value)"
      ]
    },
    {
      "cell_type": "markdown",
      "metadata": {
        "id": "adljZE5CSJPj"
      },
      "source": [
        "エラーが出れば意図した通りにプログラムが組めていないのにすぐ気が付きますが、\n",
        "エラーが出ないために意図したプログラムが組めていないことに気が付かないことがあります。\n",
        "たとえば、次のような内容を実行しようとしていたとします。"
      ]
    },
    {
      "cell_type": "code",
      "execution_count": 148,
      "metadata": {
        "id": "li5X7Tp_SJPj",
        "outputId": "2f16a365-03c1-418f-a125-9fa4b62082e2",
        "colab": {
          "base_uri": "https://localhost:8080/"
        }
      },
      "outputs": [
        {
          "output_type": "stream",
          "name": "stdout",
          "text": [
            "During for loop: 0\n",
            "During for loop, too: 0\n",
            "During for loop: 1\n",
            "During for loop, too: 1\n",
            "During for loop: 2\n",
            "During for loop, too: 2\n"
          ]
        }
      ],
      "source": [
        "for value in  [0,1,2]:\n",
        "    print('During for loop:', value)\n",
        "    print('During for loop, too:', value)"
      ]
    },
    {
      "cell_type": "markdown",
      "metadata": {
        "id": "IhiifsT4SJPj"
      },
      "source": [
        "後者の `print` の行のスペースの数が間違ってると、次のような結果になる場合がありますので注意してください。"
      ]
    },
    {
      "cell_type": "code",
      "execution_count": 149,
      "metadata": {
        "id": "-AOqmG4HSJPj",
        "outputId": "5d1bc8f6-0510-460a-8191-e72f9a2da748",
        "colab": {
          "base_uri": "https://localhost:8080/"
        }
      },
      "outputs": [
        {
          "output_type": "stream",
          "name": "stdout",
          "text": [
            "During for loop: 0\n",
            "During for loop: 1\n",
            "During for loop: 2\n",
            "During for loop, too: 2\n"
          ]
        }
      ],
      "source": [
        "for value in [0,1,2]:\n",
        "    print('During for loop:', value)\n",
        "print('During for loop, too:', value) #この行のスペースの数が間違っていたがエラーは出ない"
      ]
    },
    {
      "cell_type": "markdown",
      "metadata": {
        "id": "Ziw0tuTvSJPj"
      },
      "source": [
        "タプルの要素にまたがる処理もリストと同様に行えます。"
      ]
    },
    {
      "cell_type": "code",
      "execution_count": 150,
      "metadata": {
        "id": "Z37W2HAkSJPj",
        "outputId": "38c110af-c37d-42e3-b79f-c87062377a68",
        "colab": {
          "base_uri": "https://localhost:8080/"
        }
      },
      "outputs": [
        {
          "output_type": "stream",
          "name": "stdout",
          "text": [
            "For loop: 0\n",
            "For loop: 1\n",
            "For loop: 2\n"
          ]
        }
      ],
      "source": [
        "for value in (0,1,2):\n",
        "    print('For loop:', value)"
      ]
    },
    {
      "cell_type": "markdown",
      "metadata": {
        "id": "OjR-ZSK8SJPk"
      },
      "source": [
        "以下はリストに対するfor文の典型例です。`numbers` は数のリストとします。"
      ]
    },
    {
      "cell_type": "code",
      "execution_count": 151,
      "metadata": {
        "id": "FUdCpwNQSJPk"
      },
      "outputs": [],
      "source": [
        "numbers = [0,1,2,3,4,5]"
      ]
    },
    {
      "cell_type": "markdown",
      "metadata": {
        "id": "d7SysJD4SJPk"
      },
      "source": [
        "以下のようにして、このリストの要素の自乗から成るリストを求めることができます。"
      ]
    },
    {
      "cell_type": "code",
      "execution_count": 152,
      "metadata": {
        "id": "r7a5CabcSJPk",
        "outputId": "39580a59-8709-43a0-dda5-06e83918b1cc",
        "colab": {
          "base_uri": "https://localhost:8080/"
        }
      },
      "outputs": [
        {
          "output_type": "execute_result",
          "data": {
            "text/plain": [
              "[0, 1, 4, 9, 16, 25]"
            ]
          },
          "metadata": {},
          "execution_count": 152
        }
      ],
      "source": [
        "squares1 = []\n",
        "for x in numbers:\n",
        "    squares1.append(x**2)\n",
        "squares1"
      ]
    },
    {
      "cell_type": "markdown",
      "metadata": {
        "id": "X24ETO9XSJPk"
      },
      "source": [
        "`squares1` には最初に空リストが代入されます。\n",
        "そして、`numbers` の各要素の自乗がこのリストに次々と追加されます。"
      ]
    },
    {
      "cell_type": "markdown",
      "metadata": {
        "id": "wWxPy8RgSJPk"
      },
      "source": [
        "## 練習\n",
        "整数の要素からなるリスト `ln` を引数として取り、`ln` の要素の総和を返す関数 `sum_list` を作成してください。\n",
        "\n",
        "以下のセルの `...` のところを書き換えて `sum_list(ln)` を作成してください。"
      ]
    },
    {
      "cell_type": "code",
      "execution_count": 180,
      "metadata": {
        "id": "0RHjNK9gSJPk",
        "outputId": "298829a9-da86-40d0-e1f9-0c490dab92ec",
        "colab": {
          "base_uri": "https://localhost:8080/"
        }
      },
      "outputs": [
        {
          "output_type": "execute_result",
          "data": {
            "text/plain": [
              "15"
            ]
          },
          "metadata": {},
          "execution_count": 180
        }
      ],
      "source": [
        "def sum_list(ln):\n",
        "  a=0\n",
        "  for i in ln:\n",
        "    a=a+i\n",
        "  return a\n",
        "sum_list([4,5,6])"
      ]
    },
    {
      "cell_type": "markdown",
      "metadata": {
        "id": "c7eOejq-SJPk"
      },
      "source": [
        "上のセルで解答を作成した後、以下のセルを実行し、実行結果が全て True になることを確認してください。"
      ]
    },
    {
      "cell_type": "code",
      "execution_count": 182,
      "metadata": {
        "id": "Ftbvm1yXSJPk",
        "outputId": "c8b891e1-1b61-4404-f909-484484ac482f",
        "colab": {
          "base_uri": "https://localhost:8080/"
        }
      },
      "outputs": [
        {
          "output_type": "stream",
          "name": "stdout",
          "text": [
            "True\n",
            "True\n"
          ]
        }
      ],
      "source": [
        "print(sum_list([10, 20, 30]) == 60)\n",
        "print(sum_list([-1, 2, -3, 4, -5]) == -3)"
      ]
    },
    {
      "cell_type": "markdown",
      "metadata": {
        "id": "XQnFnTO_SJPk"
      },
      "source": [
        "##  for文による繰り返しと文字列\n",
        "\n",
        "for文を使うと文字列全体にまたがる処理も可能です。\n",
        "文字列 `str1` をまたがって一文字ずつの繰り返し処理を行う場合は次のように書きます。\n",
        "ここで、`c` には取り出された一文字（の文字列）が代入されています。\n",
        "\n",
        "---\n",
        "```Python\n",
        "for c in str1:\n",
        "    実行文\n",
        "```\n",
        "---\n",
        "\n",
        "`str1` で与えられる文字列を一文字ずつ大文字で出力する処理は以下のようになります。"
      ]
    },
    {
      "cell_type": "code",
      "execution_count": 185,
      "metadata": {
        "id": "M7YUkWN7SJPk",
        "outputId": "63c8201e-00fb-44f9-a301-308695997cfa",
        "colab": {
          "base_uri": "https://localhost:8080/",
          "height": 269
        }
      },
      "outputs": [
        {
          "output_type": "stream",
          "name": "stdout",
          "text": [
            "A\n",
            "P\n",
            "P\n",
            "L\n",
            "E\n",
            " \n",
            "A\n",
            "N\n",
            "D\n",
            " \n",
            "P\n",
            "E\n",
            "N\n"
          ]
        },
        {
          "output_type": "execute_result",
          "data": {
            "text/plain": [
              "'A'"
            ],
            "application/vnd.google.colaboratory.intrinsic+json": {
              "type": "string"
            }
          },
          "metadata": {},
          "execution_count": 185
        }
      ],
      "source": [
        "str1 = 'Apple and pen'\n",
        "for c in str1:\n",
        "    print(c.upper())"
      ]
    },
    {
      "cell_type": "markdown",
      "metadata": {
        "id": "C6aJIVEzSJPk"
      },
      "source": [
        "## 練習\n",
        "\n",
        "ATGCの4種類の文字から成る文字列 `str_atgc` が引数として与えられたとき、次のようなリスト `list_count` を返す関数 `atgc_countlist` を作成してください。ただし、 `list_count` の要素は、各塩基 `bp` に対して `str_atgc` 中の `bp` の出現回数と `bp` の名前を格納した（長さ2の）リストとします。\n",
        "\n",
        "ヒント：文字列 `'ATGC'` に対する繰り返しを用いることができます。\n",
        "\n",
        "以下のセルの `...` のところを書き換えて `atgc_countlist(str_atgc)` を作成してください。"
      ]
    },
    {
      "cell_type": "code",
      "execution_count": 199,
      "metadata": {
        "id": "mXSCcpKqSJPk",
        "outputId": "5a998fa8-28a9-4237-dcaa-b656e02bcd1b",
        "colab": {
          "base_uri": "https://localhost:8080/"
        }
      },
      "outputs": [
        {
          "output_type": "execute_result",
          "data": {
            "text/plain": [
              "[[2, 'T'], [3, 'G'], [4, 'C'], [5, 'A']]"
            ]
          },
          "metadata": {},
          "execution_count": 199
        }
      ],
      "source": [
        "def atgc_countlist(str_atgc):\n",
        "    a=str_atgc.count('A')\n",
        "    t=str_atgc.count('T')\n",
        "    g=str_atgc.count('G')\n",
        "    c=str_atgc.count('C')\n",
        "    return sorted(([a, 'A'],[t, 'T'],[g, 'G'],[c, 'C']))\n",
        "\n",
        "atgc_countlist('AAGCCCCATGGTAA')"
      ]
    },
    {
      "cell_type": "markdown",
      "metadata": {
        "id": "PPqTRl85SJPk"
      },
      "source": [
        "上のセルで解答を作成した後、以下のセルを実行し、実行結果が `True` になることを確認してください。"
      ]
    },
    {
      "cell_type": "code",
      "execution_count": 200,
      "metadata": {
        "tags": [
          "raises-exception"
        ],
        "id": "uSlcXfgOSJPk",
        "outputId": "1dac209d-751f-4a6a-97d8-2ea037b494db",
        "colab": {
          "base_uri": "https://localhost:8080/"
        }
      },
      "outputs": [
        {
          "output_type": "stream",
          "name": "stdout",
          "text": [
            "True\n"
          ]
        }
      ],
      "source": [
        "\n",
        "print(sorted(atgc_countlist('AAGCCCCATGGTAA')) == sorted([[5, 'A'], [2, 'T'], [3, 'G'], [4, 'C']]))"
      ]
    },
    {
      "cell_type": "markdown",
      "metadata": {
        "id": "PhSMwALNSJPk"
      },
      "source": [
        "## for文によるリスト初期化の短縮記法\n",
        "\n",
        "先に、リストの要素の自乗から成るリストを求める例を説明しました。"
      ]
    },
    {
      "cell_type": "code",
      "execution_count": 203,
      "metadata": {
        "id": "Tz2phyPSSJPl",
        "outputId": "b7fc636d-e63c-4994-dd62-d5a4d4c1af82",
        "colab": {
          "base_uri": "https://localhost:8080/"
        }
      },
      "outputs": [
        {
          "output_type": "execute_result",
          "data": {
            "text/plain": [
              "[9, 16, 25, 36, 49]"
            ]
          },
          "metadata": {},
          "execution_count": 203
        }
      ],
      "source": [
        "numbers = [3,4,5,6,7]\n",
        "\n",
        "squares1 = []\n",
        "for x in numbers:\n",
        "    squares1.append(x**2)\n",
        "squares1"
      ]
    },
    {
      "cell_type": "markdown",
      "metadata": {
        "id": "-2WJh0bzSJPl"
      },
      "source": [
        "詳しくは6-1で説明されますが、**内包表記**を用いて書き換えると、以下のように1行で書くことができます。"
      ]
    },
    {
      "cell_type": "code",
      "execution_count": 202,
      "metadata": {
        "id": "wgpzq8xGSJPl",
        "outputId": "65cfbee0-b186-4aec-ed5c-371b7e7a9c85",
        "colab": {
          "base_uri": "https://localhost:8080/"
        }
      },
      "outputs": [
        {
          "output_type": "execute_result",
          "data": {
            "text/plain": [
              "[0, 1, 4, 9, 16, 25]"
            ]
          },
          "metadata": {},
          "execution_count": 202
        }
      ],
      "source": [
        "squares2 = [x**2 for x in numbers]\n",
        "squares2"
      ]
    },
    {
      "cell_type": "markdown",
      "metadata": {
        "id": "KPdrQS2LSJPl"
      },
      "source": [
        "すなわち、\n",
        "```Python\n",
        "[x を含む式 for x in リストを返す式]\n",
        "```\n",
        "という式は、\"リストを返す式\" が返したリストの各要素を `x` に代入して \"`x` を含む式\" を計算し、\n",
        "その結果をリストにして返します。\n",
        "もちろん、変数は `x` でなくてもよいです。"
      ]
    },
    {
      "cell_type": "code",
      "execution_count": 204,
      "metadata": {
        "id": "Dw8z3g66SJPl",
        "outputId": "84fd7cbe-f052-4e25-9d94-4ccebd17691a",
        "colab": {
          "base_uri": "https://localhost:8080/"
        }
      },
      "outputs": [
        {
          "output_type": "execute_result",
          "data": {
            "text/plain": [
              "[9, 16, 25, 36, 49]"
            ]
          },
          "metadata": {},
          "execution_count": 204
        }
      ],
      "source": [
        "[y**2 for y in numbers]"
      ]
    },
    {
      "cell_type": "markdown",
      "metadata": {
        "id": "8lszhzWVSJPm"
      },
      "source": [
        "## ▲オブジェクトの等価性と同一性\n",
        "\n",
        "1-3で、Pythonにおける値はオブジェクトと総称されますと述べました。\n",
        "ここでは、オブジェクトの等価性と同一性について説明します。\n",
        "\n",
        "既に見てきたように、演算子 `==` を用いて**オブジェクトの等価性**を判定できます。"
      ]
    },
    {
      "cell_type": "code",
      "execution_count": 259,
      "metadata": {
        "id": "J5t864G6SJPm"
      },
      "outputs": [],
      "source": [
        "a = []\n",
        "b = []"
      ]
    },
    {
      "cell_type": "markdown",
      "metadata": {
        "id": "i5zWKFCSSJPm"
      },
      "source": [
        "このとき、`a` と `b` の値はどちらも空リストなので、以下のように `a` の値と `b` の値は等価です。"
      ]
    },
    {
      "cell_type": "code",
      "execution_count": 249,
      "metadata": {
        "id": "tkUM0ICLSJPm",
        "outputId": "e643a72b-c690-42d6-e22b-93cbb4429e34",
        "colab": {
          "base_uri": "https://localhost:8080/"
        }
      },
      "outputs": [
        {
          "output_type": "execute_result",
          "data": {
            "text/plain": [
              "True"
            ]
          },
          "metadata": {},
          "execution_count": 249
        }
      ],
      "source": [
        "a == b"
      ]
    },
    {
      "cell_type": "markdown",
      "metadata": {
        "id": "e3lFwylGSJPm"
      },
      "source": [
        "しかし、`[`  で始まり `]` で終わる式を評価すると、\n",
        "必ず新しいリスト（オブジェクト）が作られて返されるので、\n",
        "`a` と `b` の値は同一ではありません。\n",
        "\n",
        "**オブジェクトの同一性**は演算子 **`is`** を用いて判定できます。"
      ]
    },
    {
      "cell_type": "code",
      "execution_count": 250,
      "metadata": {
        "id": "o6tGTCtySJPm",
        "outputId": "297eabb2-a462-4155-f5d7-2e89a3d1ae87",
        "colab": {
          "base_uri": "https://localhost:8080/"
        }
      },
      "outputs": [
        {
          "output_type": "execute_result",
          "data": {
            "text/plain": [
              "False"
            ]
          },
          "metadata": {},
          "execution_count": 250
        }
      ],
      "source": [
        "a is b"
      ]
    },
    {
      "cell_type": "markdown",
      "metadata": {
        "id": "73I7uPaqSJPm"
      },
      "source": [
        "リストの要素はオブジェクトなので、要素ごとに等価性と同一性が定まります。\n",
        "\n",
        "例として、`a` と `b` を要素とするリスト `c` を作ります。"
      ]
    },
    {
      "cell_type": "code",
      "execution_count": 251,
      "metadata": {
        "id": "BNH_TfYGSJPm",
        "outputId": "37a4bfc5-2d9d-4424-9515-d60ed1b39809",
        "colab": {
          "base_uri": "https://localhost:8080/"
        }
      },
      "outputs": [
        {
          "output_type": "execute_result",
          "data": {
            "text/plain": [
              "[[], []]"
            ]
          },
          "metadata": {},
          "execution_count": 251
        }
      ],
      "source": [
        "c = [a, b]\n",
        "c"
      ]
    },
    {
      "cell_type": "code",
      "execution_count": 252,
      "metadata": {
        "id": "S75TSJAtSJPm",
        "outputId": "5eed0d9d-daab-4bb6-f123-e5247383fd08",
        "colab": {
          "base_uri": "https://localhost:8080/"
        }
      },
      "outputs": [
        {
          "output_type": "execute_result",
          "data": {
            "text/plain": [
              "False"
            ]
          },
          "metadata": {},
          "execution_count": 252
        }
      ],
      "source": [
        "c[0] is c[1]"
      ]
    },
    {
      "cell_type": "markdown",
      "metadata": {
        "id": "1xRw6pQHSJPm"
      },
      "source": [
        "`a` を変化させてみましょう。"
      ]
    },
    {
      "cell_type": "code",
      "execution_count": 253,
      "metadata": {
        "id": "E-SeIxqASJPn",
        "outputId": "dfe780de-813f-4cd4-b281-6ca7860778c4",
        "colab": {
          "base_uri": "https://localhost:8080/"
        }
      },
      "outputs": [
        {
          "output_type": "execute_result",
          "data": {
            "text/plain": [
              "[1]"
            ]
          },
          "metadata": {},
          "execution_count": 253
        }
      ],
      "source": [
        "a.append(1)\n",
        "a"
      ]
    },
    {
      "cell_type": "markdown",
      "metadata": {
        "id": "gk82uZbHSJPn"
      },
      "source": [
        "すると `c` は以下のようになります。"
      ]
    },
    {
      "cell_type": "code",
      "execution_count": 254,
      "metadata": {
        "id": "1EYBQIjjSJPn",
        "outputId": "776881ac-061b-4961-c552-891611e810d6",
        "colab": {
          "base_uri": "https://localhost:8080/"
        }
      },
      "outputs": [
        {
          "output_type": "execute_result",
          "data": {
            "text/plain": [
              "[[1], []]"
            ]
          },
          "metadata": {},
          "execution_count": 254
        }
      ],
      "source": [
        "c"
      ]
    },
    {
      "cell_type": "markdown",
      "metadata": {
        "id": "ErzrRROdSJPn"
      },
      "source": [
        "ここで、`a` と `b` は等価でなくなりました。"
      ]
    },
    {
      "cell_type": "code",
      "execution_count": 255,
      "metadata": {
        "id": "ut989FFVSJPn",
        "outputId": "c889accb-ed24-44f8-cd26-a5d39288c087",
        "colab": {
          "base_uri": "https://localhost:8080/"
        }
      },
      "outputs": [
        {
          "output_type": "execute_result",
          "data": {
            "text/plain": [
              "False"
            ]
          },
          "metadata": {},
          "execution_count": 255
        }
      ],
      "source": [
        "a == b"
      ]
    },
    {
      "cell_type": "markdown",
      "metadata": {
        "id": "w2cWv5cQSJPn"
      },
      "source": [
        "次に、`b` を要素として二重に含むリスト `d` を作ります。"
      ]
    },
    {
      "cell_type": "code",
      "execution_count": 256,
      "metadata": {
        "id": "zhlTLgsJSJPn",
        "outputId": "48e023a4-c5e5-46c3-bb8f-34cf2a7c1613",
        "colab": {
          "base_uri": "https://localhost:8080/"
        }
      },
      "outputs": [
        {
          "output_type": "execute_result",
          "data": {
            "text/plain": [
              "[[], []]"
            ]
          },
          "metadata": {},
          "execution_count": 256
        }
      ],
      "source": [
        "d = [b, b]\n",
        "d"
      ]
    },
    {
      "cell_type": "code",
      "execution_count": 257,
      "metadata": {
        "id": "vnh6FKIVSJPn",
        "outputId": "b26ca0e0-c12f-4978-9f11-26f7088f8371",
        "colab": {
          "base_uri": "https://localhost:8080/"
        }
      },
      "outputs": [
        {
          "output_type": "execute_result",
          "data": {
            "text/plain": [
              "True"
            ]
          },
          "metadata": {},
          "execution_count": 257
        }
      ],
      "source": [
        "d[0] is d[1]"
      ]
    },
    {
      "cell_type": "markdown",
      "metadata": {
        "id": "wzBNWcOCSJPn"
      },
      "source": [
        "`b` を変化させてみましょう。"
      ]
    },
    {
      "cell_type": "code",
      "execution_count": 260,
      "metadata": {
        "id": "3NZKNDI8SJPn",
        "outputId": "4ae9064d-3ed0-4350-ac0b-ca638ff2b77d",
        "colab": {
          "base_uri": "https://localhost:8080/"
        }
      },
      "outputs": [
        {
          "output_type": "execute_result",
          "data": {
            "text/plain": [
              "[1]"
            ]
          },
          "metadata": {},
          "execution_count": 260
        }
      ],
      "source": [
        "b.append(1)\n",
        "b"
      ]
    },
    {
      "cell_type": "markdown",
      "metadata": {
        "id": "MBKO_xNaSJPn"
      },
      "source": [
        "すると `d` は以下のようになります。"
      ]
    },
    {
      "cell_type": "code",
      "execution_count": 261,
      "metadata": {
        "id": "50hPxKbaSJPn",
        "outputId": "314aaec2-d337-4090-ac6e-1a1ff1adf154",
        "colab": {
          "base_uri": "https://localhost:8080/"
        }
      },
      "outputs": [
        {
          "output_type": "execute_result",
          "data": {
            "text/plain": [
              "[[1], [1]]"
            ]
          },
          "metadata": {},
          "execution_count": 261
        }
      ],
      "source": [
        "d"
      ]
    },
    {
      "cell_type": "markdown",
      "metadata": {
        "id": "HL-Tgx_6SJPo"
      },
      "source": [
        "演算子 `==` でリストを比較すると、要素まで見て等価性を判定します。"
      ]
    },
    {
      "cell_type": "code",
      "execution_count": 262,
      "metadata": {
        "id": "74yzhQyVSJPo",
        "outputId": "a8f6f670-d070-4795-85d0-b3f7cac4adf3",
        "colab": {
          "base_uri": "https://localhost:8080/"
        }
      },
      "outputs": [
        {
          "output_type": "stream",
          "name": "stdout",
          "text": [
            "[] [1]\n"
          ]
        },
        {
          "output_type": "execute_result",
          "data": {
            "text/plain": [
              "False"
            ]
          },
          "metadata": {},
          "execution_count": 262
        }
      ],
      "source": [
        "print(a, b)\n",
        "a == b"
      ]
    },
    {
      "cell_type": "markdown",
      "metadata": {
        "id": "SUpjf_CTSJPo"
      },
      "source": [
        "演算子 `==` は、要素の比較も `==` で行います。"
      ]
    },
    {
      "cell_type": "code",
      "execution_count": 263,
      "metadata": {
        "id": "xXV2IG1nSJPo",
        "outputId": "181a081a-ae3f-4a61-f540-fd8e77f97db9",
        "colab": {
          "base_uri": "https://localhost:8080/"
        }
      },
      "outputs": [
        {
          "output_type": "stream",
          "name": "stdout",
          "text": [
            "[[1], [1]] [[1], [1]]\n"
          ]
        },
        {
          "output_type": "execute_result",
          "data": {
            "text/plain": [
              "True"
            ]
          },
          "metadata": {},
          "execution_count": 263
        }
      ],
      "source": [
        "print(c, d)\n",
        "c == d"
      ]
    },
    {
      "cell_type": "markdown",
      "metadata": {
        "id": "vNjSmgNHSJPo"
      },
      "source": [
        "一方、オブジェクトの同一性は変化しません。"
      ]
    },
    {
      "cell_type": "code",
      "execution_count": 264,
      "metadata": {
        "id": "Sk7iTersSJPo",
        "outputId": "70b2b03b-219d-42aa-80d5-ea0dc1c4f31a",
        "colab": {
          "base_uri": "https://localhost:8080/"
        }
      },
      "outputs": [
        {
          "output_type": "execute_result",
          "data": {
            "text/plain": [
              "False"
            ]
          },
          "metadata": {},
          "execution_count": 264
        }
      ],
      "source": [
        "a is b"
      ]
    },
    {
      "cell_type": "markdown",
      "metadata": {
        "id": "zxG93_ZhSJPo"
      },
      "source": [
        "`==` の否定形は `!=` で、`is` の否定形は **`is not`** です。\n",
        "`not x == y` は `x != y` と書けます。`not x is y` は `x is not y` と書けます。\n",
        "`is not` はこれで1つの演算子なので注意してください。"
      ]
    },
    {
      "cell_type": "code",
      "execution_count": 265,
      "metadata": {
        "id": "0Moxs92gSJPo",
        "outputId": "d712e0d3-d638-4c48-8537-08207ea8b449",
        "colab": {
          "base_uri": "https://localhost:8080/"
        }
      },
      "outputs": [
        {
          "output_type": "execute_result",
          "data": {
            "text/plain": [
              "False"
            ]
          },
          "metadata": {},
          "execution_count": 265
        }
      ],
      "source": [
        "c != d"
      ]
    },
    {
      "cell_type": "code",
      "execution_count": 266,
      "metadata": {
        "id": "K0dHZVQ-SJPo",
        "outputId": "67215f12-c614-45db-d5ae-97bd7c51462f",
        "colab": {
          "base_uri": "https://localhost:8080/"
        }
      },
      "outputs": [
        {
          "output_type": "execute_result",
          "data": {
            "text/plain": [
              "True"
            ]
          },
          "metadata": {},
          "execution_count": 266
        }
      ],
      "source": [
        "a is not b"
      ]
    },
    {
      "cell_type": "markdown",
      "metadata": {
        "id": "9R6MtYVISJPo"
      },
      "source": [
        "## 練習の解答"
      ]
    },
    {
      "cell_type": "code",
      "execution_count": null,
      "metadata": {
        "id": "VGINYX_XSJPo"
      },
      "outputs": [],
      "source": [
        "def remove_evenindex(ln):\n",
        "    ln2 = ln[1::2]\n",
        "    return ln2\n",
        "#remove_evenindex(['a', 'b', 'c', 'd', 'e', 'f', 'g'])"
      ]
    },
    {
      "cell_type": "code",
      "execution_count": null,
      "metadata": {
        "id": "9qmFG5rBSJPo"
      },
      "outputs": [],
      "source": [
        "def change_domain(email, domain):\n",
        "    return '@'.join([email.split('@')[0], domain])"
      ]
    },
    {
      "cell_type": "code",
      "execution_count": null,
      "metadata": {
        "id": "5PNQYAmMSJPo"
      },
      "outputs": [],
      "source": [
        "def reverse_totuple(ln):\n",
        "    ln.reverse()\n",
        "    tup = tuple(ln)\n",
        "    return tup\n",
        "#reverse_totuple([1, 2, 3, 4, 5])"
      ]
    },
    {
      "cell_type": "code",
      "execution_count": null,
      "metadata": {
        "id": "-DWE1VrxSJPo"
      },
      "outputs": [],
      "source": [
        "def sum_list(ln):\n",
        "    int_sum = 0\n",
        "    for value in ln:\n",
        "        int_sum += value\n",
        "    return int_sum\n",
        "#sum_list([10, 20, 30])"
      ]
    },
    {
      "cell_type": "code",
      "execution_count": 268,
      "metadata": {
        "id": "Erp5FFOqSJPo",
        "outputId": "867279b7-4250-4f86-f617-facdff26d21f",
        "colab": {
          "base_uri": "https://localhost:8080/"
        }
      },
      "outputs": [
        {
          "output_type": "execute_result",
          "data": {
            "text/plain": [
              "[[5, 'A'], [2, 'T'], [3, 'G'], [4, 'C']]"
            ]
          },
          "metadata": {},
          "execution_count": 268
        }
      ],
      "source": [
        "def atgc_countlist(str_atgc):\n",
        "    list_count = []\n",
        "    for value in 'ATGC':\n",
        "        int_bpcnt = str_atgc.count(value)\n",
        "        list_count.append([int_bpcnt, value])\n",
        "    return list_count\n",
        "atgc_countlist('AAGCCCCATGGTAA')"
      ]
    },
    {
      "cell_type": "code",
      "execution_count": null,
      "metadata": {
        "id": "pKK_uy3PSJPo"
      },
      "outputs": [],
      "source": []
    }
  ],
  "metadata": {
    "kernelspec": {
      "display_name": "Python 3",
      "language": "python",
      "name": "python3"
    },
    "language_info": {
      "name": "python"
    },
    "colab": {
      "provenance": []
    }
  },
  "nbformat": 4,
  "nbformat_minor": 0
}