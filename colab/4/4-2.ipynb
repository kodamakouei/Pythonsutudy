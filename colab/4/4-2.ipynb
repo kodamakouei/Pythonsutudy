{
  "cells": [
    {
      "cell_type": "code",
      "execution_count": 1,
      "metadata": {
        "id": "5rhYnxuHZ9uO",
        "outputId": "5ad64ee8-d767-4ba1-b373-b431dac416e1",
        "colab": {
          "base_uri": "https://localhost:8080/"
        }
      },
      "outputs": [
        {
          "output_type": "stream",
          "name": "stdout",
          "text": [
            "--2025-08-29 12:12:39--  https://raw.githubusercontent.com/utokyo-ipp/utokyo-ipp.github.io/master/colab/4/utf-8.txt\n",
            "Resolving raw.githubusercontent.com (raw.githubusercontent.com)... 185.199.108.133, 185.199.109.133, 185.199.110.133, ...\n",
            "Connecting to raw.githubusercontent.com (raw.githubusercontent.com)|185.199.108.133|:443... connected.\n",
            "HTTP request sent, awaiting response... 200 OK\n",
            "Length: 15 [text/plain]\n",
            "Saving to: ‘./utf-8.txt’\n",
            "\n",
            "\rutf-8.txt             0%[                    ]       0  --.-KB/s               \rutf-8.txt           100%[===================>]      15  --.-KB/s    in 0s      \n",
            "\n",
            "2025-08-29 12:12:39 (263 KB/s) - ‘./utf-8.txt’ saved [15/15]\n",
            "\n",
            "--2025-08-29 12:12:39--  https://raw.githubusercontent.com/utokyo-ipp/utokyo-ipp.github.io/master/colab/4/shift_jis.txt\n",
            "Resolving raw.githubusercontent.com (raw.githubusercontent.com)... 185.199.108.133, 185.199.109.133, 185.199.110.133, ...\n",
            "Connecting to raw.githubusercontent.com (raw.githubusercontent.com)|185.199.108.133|:443... connected.\n",
            "HTTP request sent, awaiting response... 200 OK\n",
            "Length: 10 [application/octet-stream]\n",
            "Saving to: ‘./shift_jis.txt’\n",
            "\n",
            "shift_jis.txt       100%[===================>]      10  --.-KB/s    in 0s      \n",
            "\n",
            "2025-08-29 12:12:39 (167 KB/s) - ‘./shift_jis.txt’ saved [10/10]\n",
            "\n",
            "--2025-08-29 12:12:39--  https://raw.githubusercontent.com/utokyo-ipp/utokyo-ipp.github.io/master/colab/4/test.txt\n",
            "Resolving raw.githubusercontent.com (raw.githubusercontent.com)... 185.199.109.133, 185.199.108.133, 185.199.110.133, ...\n",
            "Connecting to raw.githubusercontent.com (raw.githubusercontent.com)|185.199.109.133|:443... connected.\n",
            "HTTP request sent, awaiting response... 200 OK\n",
            "Length: 446 [text/plain]\n",
            "Saving to: ‘./test.txt’\n",
            "\n",
            "test.txt            100%[===================>]     446  --.-KB/s    in 0s      \n",
            "\n",
            "2025-08-29 12:12:40 (8.16 MB/s) - ‘./test.txt’ saved [446/446]\n",
            "\n",
            "--2025-08-29 12:12:40--  https://raw.githubusercontent.com/utokyo-ipp/utokyo-ipp.github.io/master/colab/4/sample.txt\n",
            "Resolving raw.githubusercontent.com (raw.githubusercontent.com)... 185.199.111.133, 185.199.110.133, 185.199.109.133, ...\n",
            "Connecting to raw.githubusercontent.com (raw.githubusercontent.com)|185.199.111.133|:443... connected.\n",
            "HTTP request sent, awaiting response... 200 OK\n",
            "Length: 446 [text/plain]\n",
            "Saving to: ‘./sample.txt’\n",
            "\n",
            "sample.txt          100%[===================>]     446  --.-KB/s    in 0s      \n",
            "\n",
            "2025-08-29 12:12:40 (8.29 MB/s) - ‘./sample.txt’ saved [446/446]\n",
            "\n",
            "--2025-08-29 12:12:40--  https://raw.githubusercontent.com/utokyo-ipp/utokyo-ipp.github.io/master/colab/4/text/novel.txt\n",
            "Resolving raw.githubusercontent.com (raw.githubusercontent.com)... 185.199.108.133, 185.199.109.133, 185.199.110.133, ...\n",
            "Connecting to raw.githubusercontent.com (raw.githubusercontent.com)|185.199.108.133|:443... connected.\n",
            "HTTP request sent, awaiting response... 200 OK\n",
            "Length: 696 [text/plain]\n",
            "Saving to: ‘text/novel.txt’\n",
            "\n",
            "novel.txt           100%[===================>]     696  --.-KB/s    in 0s      \n",
            "\n",
            "2025-08-29 12:12:40 (30.0 MB/s) - ‘text/novel.txt’ saved [696/696]\n",
            "\n"
          ]
        }
      ],
      "source": [
        "##================================================\n",
        "## このセルを最初に実行せよ---Run this cell first.\n",
        "##================================================\n",
        "!wget -P . https://raw.githubusercontent.com/utokyo-ipp/utokyo-ipp.github.io/master/colab/4/utf-8.txt\n",
        "!wget -P . https://raw.githubusercontent.com/utokyo-ipp/utokyo-ipp.github.io/master/colab/4/shift_jis.txt\n",
        "!wget -P . https://raw.githubusercontent.com/utokyo-ipp/utokyo-ipp.github.io/master/colab/4/test.txt\n",
        "!wget -P . https://raw.githubusercontent.com/utokyo-ipp/utokyo-ipp.github.io/master/colab/4/sample.txt\n",
        "!wget -P text https://raw.githubusercontent.com/utokyo-ipp/utokyo-ipp.github.io/master/colab/4/text/novel.txt"
      ]
    },
    {
      "cell_type": "markdown",
      "metadata": {
        "id": "vEWmDsIEZ9uQ"
      },
      "source": [
        "# 4-2. イテラブルとイテレータ\n",
        "\n",
        "イテラブルとイテレータについて説明します。\n",
        "\n",
        "参考\n",
        "\n",
        "- https://docs.python.org/ja/3/tutorial/classes.html#iterators\n",
        "- https://docs.python.org/ja/3/glossary.html#term-iterable\n",
        "- https://docs.python.org/ja/3/library/stdtypes.html#typeiter"
      ]
    },
    {
      "cell_type": "markdown",
      "metadata": {
        "id": "uPfBr19bZ9uR"
      },
      "source": [
        "## for文による繰り返しとファイルオブジェクト\n",
        "\n",
        "ファイルオブジェクトは、for文の `in` の後に指定することができます。\n",
        "このとき、ファイルから各行の文字列（改行文字を含む）を順次取り出します。"
      ]
    },
    {
      "cell_type": "code",
      "execution_count": 8,
      "metadata": {
        "id": "zu8vc2GKZ9uR",
        "outputId": "afffa5b8-be09-4a46-ae74-ba2e57c66f97",
        "colab": {
          "base_uri": "https://localhost:8080/"
        }
      },
      "outputs": [
        {
          "output_type": "execute_result",
          "data": {
            "text/plain": [
              "['Lorem ipsum dolor sit amet, consectetur adipiscing elit, sed do eiusmod tempor incididunt ut labore et dolore magna aliqua. Ut enim ad minim veniam, quis nostrud exercitation ullamco laboris nisi ut aliquip ex ea commodo consequat.\\n',\n",
              " 'Duis aute irure dolor in reprehenderit in voluptate velit esse cillum dolore eu fugiat nulla pariatur.\\n',\n",
              " 'Excepteur sint occaecat cupidatat non proident, sunt in culpa qui officia deserunt mollit anim id est laborum.\\n']"
            ]
          },
          "metadata": {},
          "execution_count": 8
        }
      ],
      "source": [
        "lines = []\n",
        "with open('sample.txt', 'r') as f:\n",
        "    for line in f:\n",
        "        lines.append(line)\n",
        "lines"
      ]
    },
    {
      "cell_type": "markdown",
      "metadata": {
        "id": "kJHYWWpWZ9uR"
      },
      "source": [
        "for文による行の取り出しは、`readline` メソッドと同様に、ファイルオブジェクトを消費します。\n",
        "\n",
        "ファイルオブジェクト `f` をfor文で処理をすると、`f` が終端に到達するまで繰り返されます。\n",
        "したがって、再度 `f` をfor文に与えても何も実行されません。"
      ]
    },
    {
      "cell_type": "code",
      "execution_count": 9,
      "metadata": {
        "id": "TWmOxmoQZ9uR",
        "outputId": "79125615-951f-4be6-ebce-f1baa31e368a",
        "colab": {
          "base_uri": "https://localhost:8080/"
        }
      },
      "outputs": [
        {
          "output_type": "stream",
          "name": "stdout",
          "text": [
            "---- 最初 ----\n",
            "Lorem ipsum dolor sit amet, consectetur adipiscing elit, sed do eiusmod tempor incididunt ut labore et dolore magna aliqua. Ut enim ad minim veniam, quis nostrud exercitation ullamco laboris nisi ut aliquip ex ea commodo consequat.\n",
            "\n",
            "Duis aute irure dolor in reprehenderit in voluptate velit esse cillum dolore eu fugiat nulla pariatur.\n",
            "\n",
            "Excepteur sint occaecat cupidatat non proident, sunt in culpa qui officia deserunt mollit anim id est laborum.\n",
            "\n",
            "---- もう一度 ----\n"
          ]
        }
      ],
      "source": [
        "with open('sample.txt', 'r') as f:\n",
        "    print('---- 最初 ----')\n",
        "    for line in f:\n",
        "        print(line)\n",
        "    print('---- もう一度 ----')\n",
        "    for line in f:\n",
        "        print(line)"
      ]
    },
    {
      "cell_type": "markdown",
      "metadata": {
        "id": "YnlQkpDKZ9uR"
      },
      "source": [
        "ファイルをfor文によって二度読みたい場合は、\n",
        "もう一度ファイルをオープンして、ファイルのオブジェクトを新たに生成してください。"
      ]
    },
    {
      "cell_type": "markdown",
      "metadata": {
        "id": "rWavBBimZ9uR"
      },
      "source": [
        "### 練習\n",
        "文字列 `name` をファイル名とするファイルの最後の行を文字列として返す関数 `last_line(name)` を、\n",
        "ファイルオブジェクトに対するfor文を用いて定義してください。"
      ]
    },
    {
      "cell_type": "code",
      "execution_count": 31,
      "metadata": {
        "colab": {
          "base_uri": "https://localhost:8080/"
        },
        "id": "nHzCDNKpZ9uS",
        "outputId": "e451e904-73fe-4ade-b3a5-74f36beee99f"
      },
      "outputs": [
        {
          "output_type": "stream",
          "name": "stdout",
          "text": [
            "Excepteur sint occaecat cupidatat non proident, sunt in culpa qui officia deserunt mollit anim id est laborum.\n",
            "\n"
          ]
        }
      ],
      "source": [
        "def last_line(name):\n",
        "  with open(name,'r') as f:\n",
        "    for i in f:\n",
        "      pass\n",
        "    return i\n",
        "\n",
        "with open('sample.txt','r') as f:\n",
        "  print(f.readlines()[-1])"
      ]
    },
    {
      "cell_type": "markdown",
      "metadata": {
        "id": "y5UT3C-uZ9uS"
      },
      "source": [
        "定義ができたら、次のセルを実行して、エラーがでないことを確認してください。"
      ]
    },
    {
      "cell_type": "code",
      "execution_count": 30,
      "metadata": {
        "tags": [
          "raises-exception"
        ],
        "id": "akesKrcVZ9uS"
      },
      "outputs": [],
      "source": [
        "assert last_line('sample.txt') == 'Excepteur sint occaecat cupidatat non proident, sunt in culpa qui officia deserunt mollit anim id est laborum.\\n'"
      ]
    },
    {
      "cell_type": "markdown",
      "metadata": {
        "id": "wtVUCGFzZ9uS"
      },
      "source": [
        "## for文とイテラブルとイテレータ\n",
        "\n",
        "さて、[3-2](../3/3-2.ipynb)でも示したように、for文は、ファイルオブジェクトを含む様々なオブジェクトに対して繰り返す処理を記述できます\n",
        "（[1-3](../1/1-3.ipynb)で説明があったように、Pythonにおける値はオブジェクトと総称されます。）\n",
        "\n",
        "for文によって繰り返すことができるオブジェクトのことを総称して、**イテラブル** (iterable) と呼びます。\n",
        "\n",
        "for文が、様々なデータ型をイテラブルとして統一的に扱えるのは、繰り返して取り出す操作を表現する**イテレータ** (iterator) を経由するからです。\n",
        "\n",
        "iterateは繰り返すという意味なので、itaratorは繰り返すもの（反復子とも呼ばれる）、iterableは繰り返すことができるもの、という意味です。"
      ]
    },
    {
      "cell_type": "markdown",
      "metadata": {
        "id": "Q99FiADMZ9uS"
      },
      "source": [
        "## `iter`\n",
        "\n",
        "組み込み関数 **`iter`** は、イテラブルからイテレータを作ります。たとえば、"
      ]
    },
    {
      "cell_type": "code",
      "execution_count": 44,
      "metadata": {
        "id": "ZF2n5heUZ9uS"
      },
      "outputs": [],
      "source": [
        "it = iter([0,1,2])"
      ]
    },
    {
      "cell_type": "markdown",
      "metadata": {
        "id": "SrPDSkX4Z9uS"
      },
      "source": [
        "この `it` は、`0` `1` `2` を順に取り出すイテレータです。\n",
        "\n",
        "このとき、`iter` に渡されるオブジェクトの種類に応じて、適切なイテレータが構成されます。\n",
        "この仕組みによって、様々なデータ型を統一的に扱えるわけです。"
      ]
    },
    {
      "cell_type": "markdown",
      "metadata": {
        "id": "Z06K-n9dZ9uS"
      },
      "source": [
        "## `next`\n",
        "\n",
        "さて、`iter` が返したイテレータは、どのように使うのでしょうか。\n",
        "\n",
        "組み込み関数 **`next`** は、イテレータに対して繰り返しを1回分先に進める操作を与えます。具体例を見ましょう。"
      ]
    },
    {
      "cell_type": "code",
      "execution_count": 52,
      "metadata": {
        "id": "Xgy66ngHZ9uT",
        "outputId": "38d8b348-2515-486d-dda5-825a5554ae0e",
        "colab": {
          "base_uri": "https://localhost:8080/"
        }
      },
      "outputs": [
        {
          "data": {
            "text/plain": [
              "0"
            ]
          },
          "execution_count": 52,
          "metadata": {},
          "output_type": "execute_result"
        }
      ],
      "source": [
        "it = iter([0,1,2])\n",
        "next(it)"
      ]
    },
    {
      "cell_type": "code",
      "execution_count": 53,
      "metadata": {
        "id": "bCWKL7AgZ9uT",
        "outputId": "6f3f6ac1-9a3c-416c-b225-433d2a48e80d",
        "colab": {
          "base_uri": "https://localhost:8080/"
        }
      },
      "outputs": [
        {
          "output_type": "execute_result",
          "data": {
            "text/plain": [
              "1"
            ]
          },
          "metadata": {},
          "execution_count": 53
        }
      ],
      "source": [
        "next(it)"
      ]
    },
    {
      "cell_type": "code",
      "execution_count": 54,
      "metadata": {
        "id": "tjXEclvNZ9uT",
        "outputId": "e2f61ab1-11a5-427e-c92b-81c72ab604d2",
        "colab": {
          "base_uri": "https://localhost:8080/"
        }
      },
      "outputs": [
        {
          "output_type": "execute_result",
          "data": {
            "text/plain": [
              "2"
            ]
          },
          "metadata": {},
          "execution_count": 54
        }
      ],
      "source": [
        "next(it)"
      ]
    },
    {
      "cell_type": "markdown",
      "metadata": {
        "id": "dLUAHO-2Z9uT"
      },
      "source": [
        "`next(it)` を呼び出す毎に、`it` から順に要素が取り出されています。\n",
        "\n",
        "与えられたイテレータが繰り返しの終端に到達していたときには、`StopIteration` という例外（処理を緊急停止させる割り込み）が発生します。"
      ]
    },
    {
      "cell_type": "code",
      "execution_count": 55,
      "metadata": {
        "id": "GTGpRnz9Z9uT",
        "outputId": "b8205c16-5ba5-446e-bbf2-e6c76c72897b",
        "colab": {
          "base_uri": "https://localhost:8080/",
          "height": 145
        }
      },
      "outputs": [
        {
          "output_type": "error",
          "ename": "StopIteration",
          "evalue": "",
          "traceback": [
            "\u001b[0;31m---------------------------------------------------------------------------\u001b[0m",
            "\u001b[0;31mStopIteration\u001b[0m                             Traceback (most recent call last)",
            "\u001b[0;32m/tmp/ipython-input-600241529.py\u001b[0m in \u001b[0;36m<cell line: 0>\u001b[0;34m()\u001b[0m\n\u001b[0;32m----> 1\u001b[0;31m \u001b[0mnext\u001b[0m\u001b[0;34m(\u001b[0m\u001b[0mit\u001b[0m\u001b[0;34m)\u001b[0m\u001b[0;34m\u001b[0m\u001b[0;34m\u001b[0m\u001b[0m\n\u001b[0m",
            "\u001b[0;31mStopIteration\u001b[0m: "
          ]
        }
      ],
      "source": [
        "next(it)"
      ]
    },
    {
      "cell_type": "markdown",
      "metadata": {
        "id": "tMiIvGnRZ9uT"
      },
      "source": [
        "## for文の仕組み\n",
        "\n",
        "for文は、実は `iter` `next` `StopIteration` を使ったwhile文の形で表現できます。具体的には、"
      ]
    },
    {
      "cell_type": "code",
      "execution_count": 56,
      "metadata": {
        "id": "8NW-6hZvZ9uT",
        "outputId": "c656c0c1-ab5d-47aa-9767-1d27d3683c11",
        "colab": {
          "base_uri": "https://localhost:8080/"
        }
      },
      "outputs": [
        {
          "output_type": "stream",
          "name": "stdout",
          "text": [
            "0\n",
            "1\n",
            "2\n"
          ]
        }
      ],
      "source": [
        "for x in [0,1,2]:\n",
        "    print(x)"
      ]
    },
    {
      "cell_type": "markdown",
      "metadata": {
        "id": "ESr3MjqVZ9uT"
      },
      "source": [
        "このfor文は、次のwhile文と等価です。"
      ]
    },
    {
      "cell_type": "code",
      "execution_count": 57,
      "metadata": {
        "tags": [],
        "id": "D6XRD8qZZ9uT",
        "outputId": "42e7796f-5e23-41e4-eacc-99f9efa8b2f5",
        "colab": {
          "base_uri": "https://localhost:8080/"
        }
      },
      "outputs": [
        {
          "output_type": "stream",
          "name": "stdout",
          "text": [
            "0\n",
            "1\n",
            "2\n"
          ]
        }
      ],
      "source": [
        "try:\n",
        "    it = iter([0,1,2])\n",
        "    while True:\n",
        "        x = next(it)\n",
        "        print(x)\n",
        "except StopIteration:\n",
        "    pass"
      ]
    },
    {
      "cell_type": "markdown",
      "metadata": {
        "id": "Sy7n5ySmZ9uT"
      },
      "source": [
        "このtry-except文は、発生した例外を捉えて、適切に処理するための構文です。\n",
        "ここでは、発生した `StopIteration` を捉えて、何もせずに（`pass`）次に処理を進めるという意味になります。\n",
        "結果として、コードセルの実行が成功裡に完了しています。\n",
        "（例外とtry-except文の詳細は、[公式チュートリアル](https://docs.python.org/ja/3/tutorial/errors.html)を参照してください。）\n",
        "\n"
      ]
    },
    {
      "cell_type": "markdown",
      "metadata": {
        "tags": [],
        "id": "jKO-FheXZ9uT"
      },
      "source": [
        "## イテレータは特殊なイテラブル\n",
        "\n",
        "イテレータ自身も実はイテラブルです。したがって、イテレータをfor文で繰り返すことができます。"
      ]
    },
    {
      "cell_type": "code",
      "execution_count": 58,
      "metadata": {
        "id": "8f2q_8nFZ9uT",
        "outputId": "05048117-3719-413a-b6f6-f62265151cf8",
        "colab": {
          "base_uri": "https://localhost:8080/"
        }
      },
      "outputs": [
        {
          "output_type": "stream",
          "name": "stdout",
          "text": [
            "0\n",
            "1\n",
            "2\n"
          ]
        }
      ],
      "source": [
        "it = iter([0,1,2])\n",
        "for x in it:\n",
        "    print(x)"
      ]
    },
    {
      "cell_type": "markdown",
      "metadata": {
        "id": "n__zA7QbZ9uT"
      },
      "source": [
        "しかし、単なるイテラブルではありません。1つのfor文で使い切りのイテラブルです。"
      ]
    },
    {
      "cell_type": "code",
      "execution_count": 59,
      "metadata": {
        "id": "3SGEsHqcZ9uT"
      },
      "outputs": [],
      "source": [
        "for x in it:\n",
        "    print('これは実行されない')"
      ]
    },
    {
      "cell_type": "markdown",
      "metadata": {
        "id": "3_Vuh9kxZ9uU"
      },
      "source": [
        "これは、イテレータ `it` に対して `iter` を適用した時に、`it` 自体が返されるという仕組みによって実現されています。"
      ]
    },
    {
      "cell_type": "code",
      "execution_count": 60,
      "metadata": {
        "id": "Rjxn4rTgZ9uU",
        "outputId": "b96f1186-f3e4-42f2-a0cd-9003c0f149b3",
        "colab": {
          "base_uri": "https://localhost:8080/"
        }
      },
      "outputs": [
        {
          "output_type": "execute_result",
          "data": {
            "text/plain": [
              "True"
            ]
          },
          "metadata": {},
          "execution_count": 60
        }
      ],
      "source": [
        "it = iter([0,1,2])\n",
        "it is iter(it)"
      ]
    },
    {
      "cell_type": "markdown",
      "metadata": {
        "id": "uXK-hodeZ9uU"
      },
      "source": [
        "この **`is`** は、[2-2](../2/2-2.ipynb)に説明がありますが、その両辺が同一オブジェクトかどうかを調べる演算子です。\n",
        "\n",
        "最初のfor文の繰り返しによって終端に到達したイテレータ `it` は、その後の `next(it)` において `StopIteration` を発生させ続けます。\n",
        "したがって、後続するfor文では、繰り返し処理に入ることなく即座に終了するわけです。\n",
        "上に示したwhile文の形で考えると、わかりやすいでしょう。"
      ]
    },
    {
      "cell_type": "markdown",
      "metadata": {
        "id": "GvlG9-jOZ9uU"
      },
      "source": [
        "### 練習\n",
        "\n",
        "リストをもらって、そのイテレータを作り、最初の要素だけ取り出した後、\n",
        "そのイテレータを返す関数 `but_first(ls)` を定義してください。"
      ]
    },
    {
      "cell_type": "code",
      "execution_count": 74,
      "metadata": {
        "id": "AKzfbqi-Z9uU"
      },
      "outputs": [],
      "source": [
        "def but_first(ls):\n",
        "  it=iter(ls)\n",
        "  next(it)\n",
        "  return it\n",
        "\n",
        "#but_first([0,2,4,6,8])"
      ]
    },
    {
      "cell_type": "markdown",
      "metadata": {
        "id": "H57C3yRPZ9uU"
      },
      "source": [
        "定義ができたら、次のセルを実行して、エラーがでないことを確認してください。"
      ]
    },
    {
      "cell_type": "code",
      "execution_count": 75,
      "metadata": {
        "tags": [
          "raises-exception"
        ],
        "id": "L_90-XcrZ9uU"
      },
      "outputs": [],
      "source": [
        "it = but_first([0,2,4,6,8])\n",
        "assert type(it) == type(iter([])) # type(it) では it は消費されない\n",
        "assert list(it) == [2,4,6,8]"
      ]
    },
    {
      "cell_type": "markdown",
      "metadata": {
        "id": "uKq8iAZkZ9uU"
      },
      "source": [
        "## ファイルオブジェクトはイテレータ\n",
        "\n",
        "ファイルオブジェクトは `readline` メソッドによって、一行ずつ消費しながら、行の文字列を取り出せます。\n",
        "そして、for文で末尾まで繰り返すと、for文で繰り返すことはもうできません。\n",
        "\n",
        "ここまで読んだ方は既に気付いているでしょうが、ファイルオブジェクトはイテレータです。\n",
        "\n"
      ]
    },
    {
      "cell_type": "code",
      "execution_count": 76,
      "metadata": {
        "id": "nCAfW6yKZ9uU"
      },
      "outputs": [],
      "source": [
        "f = open('sample.txt', 'r')"
      ]
    },
    {
      "cell_type": "code",
      "execution_count": 77,
      "metadata": {
        "id": "BuyCMjA4Z9uX",
        "outputId": "1578a055-f377-4bea-e2b4-c073e2308492",
        "colab": {
          "base_uri": "https://localhost:8080/",
          "height": 53
        }
      },
      "outputs": [
        {
          "output_type": "execute_result",
          "data": {
            "text/plain": [
              "'Lorem ipsum dolor sit amet, consectetur adipiscing elit, sed do eiusmod tempor incididunt ut labore et dolore magna aliqua. Ut enim ad minim veniam, quis nostrud exercitation ullamco laboris nisi ut aliquip ex ea commodo consequat.\\n'"
            ],
            "application/vnd.google.colaboratory.intrinsic+json": {
              "type": "string"
            }
          },
          "metadata": {},
          "execution_count": 77
        }
      ],
      "source": [
        "next(f)"
      ]
    },
    {
      "cell_type": "code",
      "execution_count": 78,
      "metadata": {
        "id": "Ak103_vvZ9uX",
        "outputId": "0d1a11b7-62e8-4095-f3a7-2279ecc1782d",
        "colab": {
          "base_uri": "https://localhost:8080/",
          "height": 35
        }
      },
      "outputs": [
        {
          "output_type": "execute_result",
          "data": {
            "text/plain": [
              "'Duis aute irure dolor in reprehenderit in voluptate velit esse cillum dolore eu fugiat nulla pariatur.\\n'"
            ],
            "application/vnd.google.colaboratory.intrinsic+json": {
              "type": "string"
            }
          },
          "metadata": {},
          "execution_count": 78
        }
      ],
      "source": [
        "next(f)"
      ]
    },
    {
      "cell_type": "code",
      "execution_count": 79,
      "metadata": {
        "id": "jzrVp4ycZ9uX",
        "outputId": "47228e4d-51cc-490f-ab50-b437f31d461c",
        "colab": {
          "base_uri": "https://localhost:8080/",
          "height": 35
        }
      },
      "outputs": [
        {
          "output_type": "execute_result",
          "data": {
            "text/plain": [
              "'Excepteur sint occaecat cupidatat non proident, sunt in culpa qui officia deserunt mollit anim id est laborum.\\n'"
            ],
            "application/vnd.google.colaboratory.intrinsic+json": {
              "type": "string"
            }
          },
          "metadata": {},
          "execution_count": 79
        }
      ],
      "source": [
        "next(f)"
      ]
    },
    {
      "cell_type": "code",
      "execution_count": 80,
      "metadata": {
        "tags": [
          "raises-exception"
        ],
        "id": "nj-MLI-oZ9uX",
        "outputId": "40427796-7a15-4d12-fb22-afdb48fea2e5",
        "colab": {
          "base_uri": "https://localhost:8080/",
          "height": 145
        }
      },
      "outputs": [
        {
          "output_type": "error",
          "ename": "StopIteration",
          "evalue": "",
          "traceback": [
            "\u001b[0;31m---------------------------------------------------------------------------\u001b[0m",
            "\u001b[0;31mStopIteration\u001b[0m                             Traceback (most recent call last)",
            "\u001b[0;32m/tmp/ipython-input-4256387510.py\u001b[0m in \u001b[0;36m<cell line: 0>\u001b[0;34m()\u001b[0m\n\u001b[0;32m----> 1\u001b[0;31m \u001b[0mnext\u001b[0m\u001b[0;34m(\u001b[0m\u001b[0mf\u001b[0m\u001b[0;34m)\u001b[0m\u001b[0;34m\u001b[0m\u001b[0;34m\u001b[0m\u001b[0m\n\u001b[0m",
            "\u001b[0;31mStopIteration\u001b[0m: "
          ]
        }
      ],
      "source": [
        "next(f)"
      ]
    },
    {
      "cell_type": "markdown",
      "metadata": {
        "id": "zC7ibweqZ9uX"
      },
      "source": [
        "ファイルオブジェクト `f` に対する `f.readline()` と `next(f)` の振舞いは、`f` が終端に到達していないときは同一です。\n",
        "`f` が終端にあるときは、`f.readline()` は `''` を返しますが、`next(f)` は `StopIteration` を発生させます。"
      ]
    },
    {
      "cell_type": "code",
      "execution_count": 81,
      "metadata": {
        "id": "UcL7wmpUZ9uX"
      },
      "outputs": [],
      "source": [
        "f.close()"
      ]
    },
    {
      "cell_type": "markdown",
      "metadata": {
        "id": "GAzeEt3AZ9uX"
      },
      "source": [
        "## イテラブルはイテレータではない\n",
        "\n",
        "イテラブルは一般に、イテレータではありません。\n",
        "具体的には、リスト・タプル・文字列・辞書はイテラブルですが、イテレータではありません。\n",
        "[3-2](../3/3-2.ipynb)で紹介した `range` 関数の返す range オブジェクトも、イテラブルですがイテレータではありません。\n",
        "\n",
        "したがって、`next` が適用可能ではなく、`iter` の適用によって毎回別のイテレータが返されます。\n",
        "つまり、これまで見てきたように、複数のfor文で何度も繰り返す処理が実行できます。"
      ]
    },
    {
      "cell_type": "code",
      "execution_count": 82,
      "metadata": {
        "tags": [],
        "id": "WY86G1jiZ9uY",
        "outputId": "60e365b7-f75b-4a3e-f8d2-a7a136d72872",
        "colab": {
          "base_uri": "https://localhost:8080/"
        }
      },
      "outputs": [
        {
          "output_type": "stream",
          "name": "stdout",
          "text": [
            "1\n",
            "2\n",
            "3\n",
            "1\n",
            "2\n",
            "3\n"
          ]
        }
      ],
      "source": [
        "xs = [1,2,3]\n",
        "for x in xs:\n",
        "    print(x)\n",
        "for x in xs:\n",
        "    print(x)"
      ]
    },
    {
      "cell_type": "code",
      "execution_count": 83,
      "metadata": {
        "id": "OOcNoDyKZ9uY",
        "outputId": "15ccb2cc-fad9-499b-ad59-ad6d9303fd97",
        "colab": {
          "base_uri": "https://localhost:8080/"
        }
      },
      "outputs": [
        {
          "output_type": "stream",
          "name": "stdout",
          "text": [
            "0\n",
            "1\n",
            "2\n",
            "0\n",
            "1\n",
            "2\n"
          ]
        }
      ],
      "source": [
        "r = range(3)\n",
        "for x in r:\n",
        "    print(x)\n",
        "for x in r:\n",
        "    print(x)"
      ]
    },
    {
      "cell_type": "markdown",
      "metadata": {
        "id": "4u-Xcb3tZ9uY"
      },
      "source": [
        "## イテレータを返す `enumerate`\n",
        "\n",
        "[3-2](../3/3-2.ipynb)で紹介した組み込み関数の **`enumerate`** は、イテレータを返します。"
      ]
    },
    {
      "cell_type": "code",
      "execution_count": 99,
      "metadata": {
        "id": "gWog6xIlZ9uY"
      },
      "outputs": [],
      "source": [
        "it = enumerate([10,20,30])"
      ]
    },
    {
      "cell_type": "code",
      "execution_count": 100,
      "metadata": {
        "id": "8n0-TI33Z9uY",
        "outputId": "d07743e3-9d10-427e-ebee-cf8794ff5bea",
        "colab": {
          "base_uri": "https://localhost:8080/"
        }
      },
      "outputs": [
        {
          "output_type": "execute_result",
          "data": {
            "text/plain": [
              "(0, 10)"
            ]
          },
          "metadata": {},
          "execution_count": 100
        }
      ],
      "source": [
        "next(it)"
      ]
    },
    {
      "cell_type": "code",
      "execution_count": 101,
      "metadata": {
        "id": "jMmDVoprZ9uY",
        "outputId": "84b1d715-bd6e-4f5e-c8b8-dcdc46a31d28",
        "colab": {
          "base_uri": "https://localhost:8080/"
        }
      },
      "outputs": [
        {
          "output_type": "stream",
          "name": "stdout",
          "text": [
            "(1, 20)\n",
            "(2, 30)\n"
          ]
        }
      ],
      "source": [
        "for x in it:\n",
        "    print(x)"
      ]
    },
    {
      "cell_type": "code",
      "execution_count": 102,
      "metadata": {
        "id": "wEKRTqI0Z9uY",
        "outputId": "7ced9107-a908-4733-a7c4-a237b4183ffe",
        "colab": {
          "base_uri": "https://localhost:8080/"
        }
      },
      "outputs": [
        {
          "output_type": "stream",
          "name": "stdout",
          "text": [
            "0 番目の文字 = A\n",
            "1 番目の文字 = C\n",
            "2 番目の文字 = D\n",
            "3 番目の文字 = B\n"
          ]
        }
      ],
      "source": [
        "for i, c in enumerate('ACDB'):\n",
        "    print(i, '番目の文字 =', c)"
      ]
    },
    {
      "cell_type": "markdown",
      "metadata": {
        "id": "bY8KNHP8Z9uY"
      },
      "source": [
        "一方、`enumerate` はイテラブルを引数として受け取ります。上の例で、リストも文字列もイテラブルです。\n",
        "\n",
        "イテレータもイテラブルなので、`enumerate` の引数になり得ます。\n",
        "したがって、ファイルオブジェクトも、次のように `enumerate` に与えることができます。"
      ]
    },
    {
      "cell_type": "code",
      "execution_count": 103,
      "metadata": {
        "id": "WZqPJWbMZ9uY",
        "outputId": "4f864f6d-cb01-45b0-de86-fd91f130d1c7",
        "colab": {
          "base_uri": "https://localhost:8080/"
        }
      },
      "outputs": [
        {
          "output_type": "stream",
          "name": "stdout",
          "text": [
            "0 行目:\n",
            "Lorem ipsum dolor sit amet, consectetur adipiscing elit, sed do eiusmod tempor incididunt ut labore et dolore magna aliqua. Ut enim ad minim veniam, quis nostrud exercitation ullamco laboris nisi ut aliquip ex ea commodo consequat.\n",
            "\n",
            "1 行目:\n",
            "Duis aute irure dolor in reprehenderit in voluptate velit esse cillum dolore eu fugiat nulla pariatur.\n",
            "\n",
            "2 行目:\n",
            "Excepteur sint occaecat cupidatat non proident, sunt in culpa qui officia deserunt mollit anim id est laborum.\n",
            "\n"
          ]
        }
      ],
      "source": [
        "with open('sample.txt', 'r') as f:\n",
        "    for i, s in enumerate(f):\n",
        "        print(i, '行目:')\n",
        "        print(s)"
      ]
    },
    {
      "cell_type": "markdown",
      "metadata": {
        "id": "KdL634oQZ9uY"
      },
      "source": [
        "変数 `i` は `0` から順に増えていきます。変数 `s` には各行の文字列が代入されます。\n",
        "`i` は `0` から始まりますが、各行の行番号と考えられます。"
      ]
    },
    {
      "cell_type": "markdown",
      "metadata": {
        "id": "yL_CtAovZ9uY"
      },
      "source": [
        "## ▲イテラブルとイテレータの定義\n",
        "\n",
        "イテラブルとイテレータの形式的な定義をまとめます。\n",
        "\n",
        "* イテラブル：\n",
        "  - `iter` を適用可能。 **`__iter__`** メソッドを持つ。\n",
        "* イテレータ：\n",
        "  - `next` を適用可能。 **`__next__`** メソッドを持つ。\n",
        "  - `iter` を適用したとき、引数のオブジェクトをそのまま返す。\n",
        "\n",
        "`iter(x)` は `x.__iter__()` と等価なので、`iter` を適用可能であることと、`__iter__` メソッドを持つことは同義です。\n",
        "同様に、`next(x)` は `x.__next__()` と等価なので、 `next` を適用可能であることと、`__next__` メソッドを持つことは同義です。\n",
        "\n",
        "`__iter__` メソッドと `__next__` メソッドについては、[6-3](../6/6-3.ipynb)で改めて説明します。"
      ]
    },
    {
      "cell_type": "markdown",
      "metadata": {
        "id": "LNYSjnSPZ9uY"
      },
      "source": [
        "## 練習の解答"
      ]
    },
    {
      "cell_type": "code",
      "execution_count": null,
      "metadata": {
        "id": "zzp17o8HZ9uY"
      },
      "outputs": [],
      "source": [
        "def last_line(name):\n",
        "    with open(name, 'r', encoding='utf-8') as f:\n",
        "        for line in f:\n",
        "            pass\n",
        "    return line"
      ]
    },
    {
      "cell_type": "code",
      "execution_count": null,
      "metadata": {
        "id": "2LfhHc5MZ9uZ"
      },
      "outputs": [],
      "source": [
        "def last_line(name):\n",
        "    f = open(name, 'r', encoding='utf-8')\n",
        "    for line in f:\n",
        "        pass\n",
        "    f.close()\n",
        "    return line"
      ]
    },
    {
      "cell_type": "code",
      "execution_count": null,
      "metadata": {
        "id": "iLF1MY1BZ9uZ"
      },
      "outputs": [],
      "source": [
        "def but_first(ls):\n",
        "    it = iter(ls)\n",
        "    next(it)\n",
        "    return it"
      ]
    },
    {
      "cell_type": "code",
      "execution_count": null,
      "metadata": {
        "id": "d05Nj-fxZ9uZ"
      },
      "outputs": [],
      "source": []
    }
  ],
  "metadata": {
    "kernelspec": {
      "display_name": "Python 3",
      "language": "python",
      "name": "python3"
    },
    "language_info": {
      "name": "python"
    },
    "colab": {
      "provenance": []
    }
  },
  "nbformat": 4,
  "nbformat_minor": 0
}