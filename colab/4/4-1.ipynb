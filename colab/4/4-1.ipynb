{
  "cells": [
    {
      "cell_type": "code",
      "execution_count": 2,
      "metadata": {
        "colab": {
          "base_uri": "https://localhost:8080/"
        },
        "id": "U9v_tbLH2B_R",
        "outputId": "ee2fd85e-7ca1-4e3a-c9b6-861fc881bae5"
      },
      "outputs": [
        {
          "output_type": "stream",
          "name": "stdout",
          "text": [
            "--2025-08-28 04:20:17--  https://raw.githubusercontent.com/utokyo-ipp/utokyo-ipp.github.io/master/colab/4/utf-8.txt\n",
            "Resolving raw.githubusercontent.com (raw.githubusercontent.com)... 185.199.108.133, 185.199.109.133, 185.199.110.133, ...\n",
            "Connecting to raw.githubusercontent.com (raw.githubusercontent.com)|185.199.108.133|:443... connected.\n",
            "HTTP request sent, awaiting response... 200 OK\n",
            "Length: 15 [text/plain]\n",
            "Saving to: ‘./utf-8.txt’\n",
            "\n",
            "\rutf-8.txt             0%[                    ]       0  --.-KB/s               \rutf-8.txt           100%[===================>]      15  --.-KB/s    in 0s      \n",
            "\n",
            "2025-08-28 04:20:17 (142 KB/s) - ‘./utf-8.txt’ saved [15/15]\n",
            "\n",
            "--2025-08-28 04:20:17--  https://raw.githubusercontent.com/utokyo-ipp/utokyo-ipp.github.io/master/colab/4/shift_jis.txt\n",
            "Resolving raw.githubusercontent.com (raw.githubusercontent.com)... 185.199.109.133, 185.199.111.133, 185.199.108.133, ...\n",
            "Connecting to raw.githubusercontent.com (raw.githubusercontent.com)|185.199.109.133|:443... connected.\n",
            "HTTP request sent, awaiting response... 200 OK\n",
            "Length: 10 [application/octet-stream]\n",
            "Saving to: ‘./shift_jis.txt’\n",
            "\n",
            "shift_jis.txt       100%[===================>]      10  --.-KB/s    in 0s      \n",
            "\n",
            "2025-08-28 04:20:18 (579 KB/s) - ‘./shift_jis.txt’ saved [10/10]\n",
            "\n",
            "--2025-08-28 04:20:18--  https://raw.githubusercontent.com/utokyo-ipp/utokyo-ipp.github.io/master/colab/4/test.txt\n",
            "Resolving raw.githubusercontent.com (raw.githubusercontent.com)... 185.199.108.133, 185.199.109.133, 185.199.110.133, ...\n",
            "Connecting to raw.githubusercontent.com (raw.githubusercontent.com)|185.199.108.133|:443... connected.\n",
            "HTTP request sent, awaiting response... 200 OK\n",
            "Length: 446 [text/plain]\n",
            "Saving to: ‘./test.txt’\n",
            "\n",
            "test.txt            100%[===================>]     446  --.-KB/s    in 0s      \n",
            "\n",
            "2025-08-28 04:20:18 (22.7 MB/s) - ‘./test.txt’ saved [446/446]\n",
            "\n",
            "--2025-08-28 04:20:18--  https://raw.githubusercontent.com/utokyo-ipp/utokyo-ipp.github.io/master/colab/4/sample.txt\n",
            "Resolving raw.githubusercontent.com (raw.githubusercontent.com)... 185.199.108.133, 185.199.109.133, 185.199.110.133, ...\n",
            "Connecting to raw.githubusercontent.com (raw.githubusercontent.com)|185.199.108.133|:443... connected.\n",
            "HTTP request sent, awaiting response... 200 OK\n",
            "Length: 446 [text/plain]\n",
            "Saving to: ‘./sample.txt’\n",
            "\n",
            "sample.txt          100%[===================>]     446  --.-KB/s    in 0s      \n",
            "\n",
            "2025-08-28 04:20:18 (7.16 MB/s) - ‘./sample.txt’ saved [446/446]\n",
            "\n",
            "--2025-08-28 04:20:18--  https://raw.githubusercontent.com/utokyo-ipp/utokyo-ipp.github.io/master/colab/4/text/novel.txt\n",
            "Resolving raw.githubusercontent.com (raw.githubusercontent.com)... 185.199.108.133, 185.199.109.133, 185.199.110.133, ...\n",
            "Connecting to raw.githubusercontent.com (raw.githubusercontent.com)|185.199.108.133|:443... connected.\n",
            "HTTP request sent, awaiting response... 200 OK\n",
            "Length: 696 [text/plain]\n",
            "Saving to: ‘text/novel.txt’\n",
            "\n",
            "novel.txt           100%[===================>]     696  --.-KB/s    in 0s      \n",
            "\n",
            "2025-08-28 04:20:18 (30.9 MB/s) - ‘text/novel.txt’ saved [696/696]\n",
            "\n"
          ]
        }
      ],
      "source": [
        "##================================================\n",
        "## このセルを最初に実行せよ---Run this cell first.\n",
        "##================================================\n",
        "!wget -P . https://raw.githubusercontent.com/utokyo-ipp/utokyo-ipp.github.io/master/colab/4/utf-8.txt\n",
        "!wget -P . https://raw.githubusercontent.com/utokyo-ipp/utokyo-ipp.github.io/master/colab/4/shift_jis.txt\n",
        "!wget -P . https://raw.githubusercontent.com/utokyo-ipp/utokyo-ipp.github.io/master/colab/4/test.txt\n",
        "!wget -P . https://raw.githubusercontent.com/utokyo-ipp/utokyo-ipp.github.io/master/colab/4/sample.txt\n",
        "!wget -P text https://raw.githubusercontent.com/utokyo-ipp/utokyo-ipp.github.io/master/colab/4/text/novel.txt"
      ]
    },
    {
      "cell_type": "markdown",
      "metadata": {
        "id": "xrYIXbW82B_T"
      },
      "source": [
        "# 4-1. ファイル入出力の基本\n",
        "ファイル入出力の基本について説明します。\n",
        "\n",
        "参考\n",
        "\n",
        "- https://docs.python.org/ja/3/tutorial/inputoutput.html#reading-and-writing-files\n",
        "\n",
        "## ファイルのオープン\n",
        "**ファイル**から文字列を読み込んだり、ファイルに書き込んだりするには、\n",
        "まず、**`open()`** という関数によってファイルを**オープン**する（開く）必要があります。"
      ]
    },
    {
      "cell_type": "code",
      "execution_count": 3,
      "metadata": {
        "id": "plNv3FfJ2B_U"
      },
      "outputs": [],
      "source": [
        "f = open('sample.txt', 'r')"
      ]
    },
    {
      "cell_type": "markdown",
      "metadata": {
        "id": "R8obpbkf2B_V"
      },
      "source": [
        "変数 `f` には、ファイルを読み書きするためのデータが入ります。\n",
        "これを**ファイルオブジェクト**と呼びます。"
      ]
    },
    {
      "cell_type": "markdown",
      "metadata": {
        "id": "G0l3sQvf2B_V"
      },
      "source": [
        "`'sample.txt'` はファイル名で、そのファイルの絶対パス名か、このノートブックからの相対パス名を指定します。\n",
        "\n",
        "ここでは、`sample.txt` という名前のファイルがこのノートブックと同じディレクトリにあることを想定しています。\n",
        "\n",
        "たとえば、`novel.txt` というファイルが、ノートブックの1段上のディレクトリ（このディレクトリが入っているディレクトリ）にあるならば、`'../novel.txt'` と指定します。\n",
        "ノートブックの1段上のディレクトリに置かれている `data` というディレクトリにあるならば、`'../data/novel.txt'` となります\n",
        "（4-3にもう少し詳しい解説があります）。"
      ]
    },
    {
      "cell_type": "markdown",
      "metadata": {
        "id": "gqO3lcN22B_W"
      },
      "source": [
        "`'r'` はファイルをどのモードで開くかを指しており、`'r'`は**読み込みモード**を意味します。\n",
        "このモードで開いたファイルに書き込みすることはできません。\n",
        "\n",
        "よく使われるモードは、次の3種類です。\n",
        "\n",
        "引数 | モード\n",
        "---|:---\n",
        "`'r'` | 読み込み\n",
        "`'w'` | 書き込み\n",
        "`'a'` | 追記\n",
        "\n",
        "モードの引数がなかった場合は、`'r'` であると解釈されます。\n",
        "書き込みについては後でも説明します。\n",
        "\n",
        "モードの詳細は[公式ドキュメント](https://docs.python.org/ja/3/library/functions.html#open)を参照。"
      ]
    },
    {
      "cell_type": "markdown",
      "metadata": {
        "id": "idc2lweZ2B_W"
      },
      "source": [
        "## ファイルのクローズ\n",
        "\n",
        "ファイルオブジェクトを使い終わったら、原則として、**`close()`** メソッドを呼び出して、**クローズ**する（閉じる）必要があります。"
      ]
    },
    {
      "cell_type": "code",
      "execution_count": 4,
      "metadata": {
        "id": "RYjkCv2q2B_W"
      },
      "outputs": [],
      "source": [
        "f.close()"
      ]
    },
    {
      "cell_type": "markdown",
      "metadata": {
        "id": "LBCaOAuS2B_X"
      },
      "source": [
        "`close()` を呼び出さずに放置すると、そのファイルがまだ使用中だと認識されてしまいます。\n",
        "これは、同じファイルを利用しようとする他のプログラムの働きを阻害します。（個室のトイレをイメージしてください。）\n",
        "\n",
        "`close()` の呼び出しは重要ですが、忘れがちなものでもあります。\n",
        "後述するwith文を使うのが安全です。"
      ]
    },
    {
      "cell_type": "markdown",
      "metadata": {
        "id": "W8pWCEOd2B_X"
      },
      "source": [
        "## 行の読み込み\n",
        "ファイルオブジェクトには、**`readline()`** というメソッドを適用することができます。\n",
        "ファイルから新たに1行を読んで文字列として返します。\n",
        "この「1行」というのは、正確には、ファイルの先頭もしくは改行文字の次の文字から、ファイルの終わりもしくは改行文字までの文字列です。\n",
        "1行は必ずしも改行文字で終わらないという点に注意して下さい。\n",
        "\n",
        "ファイルの終わりに来たとき、`readline()` は `''` という空文字列を返します。\n",
        "\n",
        "以下のようにして `readline()` を使ってファイルを行単位で読んでみましょう。\n",
        "\n",
        "ファイルを読み終わると空文字列が返ることを確認してください。"
      ]
    },
    {
      "cell_type": "code",
      "execution_count": 5,
      "metadata": {
        "id": "vxP60OAc2B_X"
      },
      "outputs": [],
      "source": [
        "f = open('sample.txt', 'r')"
      ]
    },
    {
      "cell_type": "code",
      "execution_count": 6,
      "metadata": {
        "colab": {
          "base_uri": "https://localhost:8080/",
          "height": 53
        },
        "id": "PXxpfxz92B_Y",
        "outputId": "f2dad8b8-9848-4899-b6f7-84866a907c71"
      },
      "outputs": [
        {
          "output_type": "execute_result",
          "data": {
            "text/plain": [
              "'Lorem ipsum dolor sit amet, consectetur adipiscing elit, sed do eiusmod tempor incididunt ut labore et dolore magna aliqua. Ut enim ad minim veniam, quis nostrud exercitation ullamco laboris nisi ut aliquip ex ea commodo consequat.\\n'"
            ],
            "application/vnd.google.colaboratory.intrinsic+json": {
              "type": "string"
            }
          },
          "metadata": {},
          "execution_count": 6
        }
      ],
      "source": [
        "f.readline()"
      ]
    },
    {
      "cell_type": "code",
      "execution_count": 7,
      "metadata": {
        "colab": {
          "base_uri": "https://localhost:8080/",
          "height": 35
        },
        "id": "pW3aAAUB2B_Y",
        "outputId": "65fe9e4e-af85-4b6d-a3fa-370e070c3f96"
      },
      "outputs": [
        {
          "output_type": "execute_result",
          "data": {
            "text/plain": [
              "'Duis aute irure dolor in reprehenderit in voluptate velit esse cillum dolore eu fugiat nulla pariatur.\\n'"
            ],
            "application/vnd.google.colaboratory.intrinsic+json": {
              "type": "string"
            }
          },
          "metadata": {},
          "execution_count": 7
        }
      ],
      "source": [
        "f.readline()"
      ]
    },
    {
      "cell_type": "code",
      "execution_count": 8,
      "metadata": {
        "colab": {
          "base_uri": "https://localhost:8080/",
          "height": 35
        },
        "id": "pds7-YLp2B_Y",
        "outputId": "f634efdd-e373-4aed-f211-b63dec76cdd8"
      },
      "outputs": [
        {
          "output_type": "execute_result",
          "data": {
            "text/plain": [
              "'Excepteur sint occaecat cupidatat non proident, sunt in culpa qui officia deserunt mollit anim id est laborum.\\n'"
            ],
            "application/vnd.google.colaboratory.intrinsic+json": {
              "type": "string"
            }
          },
          "metadata": {},
          "execution_count": 8
        }
      ],
      "source": [
        "f.readline()"
      ]
    },
    {
      "cell_type": "code",
      "execution_count": 9,
      "metadata": {
        "colab": {
          "base_uri": "https://localhost:8080/",
          "height": 35
        },
        "id": "sNgOvics2B_Y",
        "outputId": "71f7a23b-2f1f-42a1-dfd4-d42a006df819"
      },
      "outputs": [
        {
          "output_type": "execute_result",
          "data": {
            "text/plain": [
              "''"
            ],
            "application/vnd.google.colaboratory.intrinsic+json": {
              "type": "string"
            }
          },
          "metadata": {},
          "execution_count": 9
        }
      ],
      "source": [
        "f.readline()"
      ]
    },
    {
      "cell_type": "code",
      "execution_count": 10,
      "metadata": {
        "id": "bC7IctLQ2B_Y"
      },
      "outputs": [],
      "source": [
        "f.close()"
      ]
    },
    {
      "cell_type": "markdown",
      "metadata": {
        "id": "glY9e1QD2B_Y"
      },
      "source": [
        "`readline()` メソッドの呼び出しは、ファイルオブジェクトを消費します。\n",
        "改めて読み出したいときには、再度オープンして新しいオブジェクトを使ってください。"
      ]
    },
    {
      "cell_type": "markdown",
      "metadata": {
        "id": "BQmu9hnd2B_Y"
      },
      "source": [
        "## 練習\n",
        "文字列 `name` をファイル名とするファイルの最後の行を文字列として返す関数 `last_line(name)` を定義してください。"
      ]
    },
    {
      "cell_type": "code",
      "execution_count": 19,
      "metadata": {
        "colab": {
          "base_uri": "https://localhost:8080/",
          "height": 35
        },
        "id": "RwA5Lrdi2B_Y",
        "outputId": "93125f3a-6c60-40bc-cb77-e71ebccbf0a2"
      },
      "outputs": [
        {
          "output_type": "execute_result",
          "data": {
            "text/plain": [
              "'Excepteur sint occaecat cupidatat non proident, sunt in culpa qui officia deserunt mollit anim id est laborum.\\n'"
            ],
            "application/vnd.google.colaboratory.intrinsic+json": {
              "type": "string"
            }
          },
          "metadata": {},
          "execution_count": 19
        }
      ],
      "source": [
        "def last_line(name):\n",
        "  f=open(name,'r')\n",
        "  a=''\n",
        "  for i in f:\n",
        "    a=i\n",
        "  f.close()\n",
        "  return a\n",
        "\n",
        "\n",
        "last_line('sample.txt')"
      ]
    },
    {
      "cell_type": "markdown",
      "metadata": {
        "id": "KiEm8JLg2B_Y"
      },
      "source": [
        "上のセルで解答を作成した後、以下のセルを実行し、実行結果が `True` になることを確認してください。"
      ]
    },
    {
      "cell_type": "code",
      "execution_count": 20,
      "metadata": {
        "tags": [
          "raises-exception"
        ],
        "colab": {
          "base_uri": "https://localhost:8080/"
        },
        "id": "iiDU5AJ92B_Y",
        "outputId": "0b894120-36f6-42ea-97d5-a3d2cc814838"
      },
      "outputs": [
        {
          "output_type": "stream",
          "name": "stdout",
          "text": [
            "True\n"
          ]
        }
      ],
      "source": [
        "print(last_line('sample.txt')==\"Excepteur sint occaecat cupidatat non proident, sunt in culpa qui officia deserunt mollit anim id est laborum.\\n\")"
      ]
    },
    {
      "cell_type": "markdown",
      "metadata": {
        "id": "_kAiLp9k2B_Z"
      },
      "source": [
        "## ファイル全体の読み込み\n",
        "\n",
        "ファイル全体を一括で読み込んで、1つの文字列を取得したいときには、**`read()`** メソッドを利用します。"
      ]
    },
    {
      "cell_type": "code",
      "execution_count": 37,
      "metadata": {
        "colab": {
          "base_uri": "https://localhost:8080/",
          "height": 71
        },
        "id": "eAL6avK22B_Z",
        "outputId": "c81485e2-51b2-4546-866c-5ebbf13ddf2a"
      },
      "outputs": [
        {
          "output_type": "execute_result",
          "data": {
            "text/plain": [
              "'Lorem ipsum dolor sit amet, consectetur adipiscing elit, sed do eiusmod tempor incididunt ut labore et dolore magna aliqua. Ut enim ad minim veniam, quis nostrud exercitation ullamco laboris nisi ut aliquip ex ea commodo consequat.\\nDuis aute irure dolor in reprehenderit in voluptate velit esse cillum dolore eu fugiat nulla pariatur.\\nExcepteur sint occaecat cupidatat non proident, sunt in culpa qui officia deserunt mollit anim id est laborum.\\n'"
            ],
            "application/vnd.google.colaboratory.intrinsic+json": {
              "type": "string"
            }
          },
          "metadata": {},
          "execution_count": 37
        }
      ],
      "source": [
        "f = open('sample.txt', 'r')\n",
        "f.read()"
      ]
    },
    {
      "cell_type": "markdown",
      "metadata": {
        "id": "DqB9Nopu2B_Z"
      },
      "source": [
        "一度 `read()` を呼ぶと、ファイルの終端に達するので、それ以降は空文字列を返します。"
      ]
    },
    {
      "cell_type": "code",
      "execution_count": 38,
      "metadata": {
        "colab": {
          "base_uri": "https://localhost:8080/",
          "height": 35
        },
        "id": "df9TZFR72B_Z",
        "outputId": "84787aa2-5134-4ab3-de89-5cbb9d69566a"
      },
      "outputs": [
        {
          "output_type": "execute_result",
          "data": {
            "text/plain": [
              "''"
            ],
            "application/vnd.google.colaboratory.intrinsic+json": {
              "type": "string"
            }
          },
          "metadata": {},
          "execution_count": 38
        }
      ],
      "source": [
        "f.read()"
      ]
    },
    {
      "cell_type": "code",
      "execution_count": 39,
      "metadata": {
        "id": "WUx8ozWa2B_Z"
      },
      "outputs": [],
      "source": [
        "f.close()"
      ]
    },
    {
      "cell_type": "markdown",
      "metadata": {
        "id": "0YrN57wM2B_Z"
      },
      "source": [
        "`read()` メソッドは、内部的には `readline()` メソッドを呼んでいます。\n",
        "したがって、`read()` メソッドも同様にファイルオブジェクトを消費します。"
      ]
    },
    {
      "cell_type": "markdown",
      "metadata": {
        "id": "QY7QtoDS2B_b"
      },
      "source": [
        "## 練習\n",
        "\n",
        "文字列 `name` をファイル名とするファイルをオープンして、\n",
        "`read()` メソッドによってファイル全体を文字列として読み込み、\n",
        "その文字数を返す関数 `number_of_characters(name)` を作成してください。\n",
        "\n",
        "注意：`return` する前にファイルをクローズすることを忘れないようにしてください。"
      ]
    },
    {
      "cell_type": "code",
      "execution_count": 40,
      "metadata": {
        "id": "hn7gBLcs2B_b"
      },
      "outputs": [],
      "source": [
        "def  number_of_characters(name):\n",
        "  with open(name,'r') as f:\n",
        "    return len(f.read())"
      ]
    },
    {
      "cell_type": "markdown",
      "metadata": {
        "id": "gOR-xyGE2B_b"
      },
      "source": [
        "上のセルで解答を作成した後、以下のセルを実行し、実行結果が `True` になることを確認してください。"
      ]
    },
    {
      "cell_type": "code",
      "execution_count": 41,
      "metadata": {
        "tags": [
          "raises-exception"
        ],
        "colab": {
          "base_uri": "https://localhost:8080/"
        },
        "id": "wE-zG7e_2B_b",
        "outputId": "a448b366-4e9b-4751-b466-21b8b22a2ded"
      },
      "outputs": [
        {
          "output_type": "stream",
          "name": "stdout",
          "text": [
            "True\n"
          ]
        }
      ],
      "source": [
        "print(number_of_characters('sample.txt') == 446)"
      ]
    },
    {
      "cell_type": "markdown",
      "metadata": {
        "id": "st5uZbG32B_b"
      },
      "source": [
        "## 編集中のファイルの動作\n",
        "\n",
        "プログラムでファイルを開くと、そのプログラム内でそのファイルを閉じるまでは、他のプログラムでそのファイルを編集することはできません。\n",
        "\n",
        "下のセルを実行した後で、Windowsならエクスプローラ、macOSならFinderで上のファイルを探して、削除してみてください。\n",
        "「ファイルを閉じてから再実行してください。（Windowsの場合）」といったメッセージが出て、削除ができないはずです。   "
      ]
    },
    {
      "cell_type": "code",
      "execution_count": 42,
      "metadata": {
        "id": "-EcVa1V22B_b"
      },
      "outputs": [],
      "source": [
        "f = open('test.txt', 'r')"
      ]
    },
    {
      "cell_type": "markdown",
      "metadata": {
        "id": "QzIw_h0N2B_b"
      },
      "source": [
        "下のセルを実行した後だと削除できます。"
      ]
    },
    {
      "cell_type": "code",
      "execution_count": 43,
      "metadata": {
        "id": "phKiZROy2B_b"
      },
      "outputs": [],
      "source": [
        "f.close()"
      ]
    },
    {
      "cell_type": "markdown",
      "metadata": {
        "id": "HwhPzOy-2B_b"
      },
      "source": [
        "## ファイルに対するwith文"
      ]
    },
    {
      "cell_type": "markdown",
      "metadata": {
        "id": "3a2bgo-j2B_b"
      },
      "source": [
        "ファイルのオブジェクトは、with文に指定することができます。\n",
        "\n",
        "---\n",
        "```Python\n",
        "with ファイルオブジェクト as 変数:\n",
        "    ...\n",
        "\n",
        "```\n",
        "---\n",
        "\n",
        "**`with`** の次には、`open` によってファイルをオープンする式を書きます。\n",
        "\n",
        "また、**`as`** の次には、ファイルのオブジェクトが格納される変数を書きます。\n",
        "\n",
        "with文は処理後にファイルのクローズを自動的にやってくれますので、\n",
        "ファイルに対して `close()` を呼び出す必要がありません。"
      ]
    },
    {
      "cell_type": "code",
      "execution_count": 44,
      "metadata": {
        "colab": {
          "base_uri": "https://localhost:8080/"
        },
        "id": "JBL9ivzZ2B_c",
        "outputId": "095e1599-b46a-4a40-f340-18d00dc59030"
      },
      "outputs": [
        {
          "output_type": "stream",
          "name": "stdout",
          "text": [
            "Lorem ipsum dolor sit amet, consectetur adipiscing elit, sed do eiusmod tempor incididunt ut labore et dolore magna aliqua. Ut enim ad minim veniam, quis nostrud exercitation ullamco laboris nisi ut aliquip ex ea commodo consequat.\n",
            "Duis aute irure dolor in reprehenderit in voluptate velit esse cillum dolore eu fugiat nulla pariatur.\n",
            "Excepteur sint occaecat cupidatat non proident, sunt in culpa qui officia deserunt mollit anim id est laborum.\n",
            "\n"
          ]
        }
      ],
      "source": [
        "with open('sample.txt', 'r') as f:\n",
        "    print(f.read())"
      ]
    },
    {
      "cell_type": "markdown",
      "metadata": {
        "id": "cAw5ZoUp2B_c"
      },
      "source": [
        "## ファイルへの書き込み\n",
        "\n",
        "ファイルへの書き込みは、`print` 関数を使って行えます。\n",
        "`file` 引数に書き込み先のファイルオブジェクトを指定します。\n",
        "`file` は3.3で説明されているキーワード引数と呼ばれる引数ですので、\n",
        "以下のように `file=...` という形で指定します。"
      ]
    },
    {
      "cell_type": "code",
      "execution_count": 57,
      "metadata": {
        "colab": {
          "base_uri": "https://localhost:8080/"
        },
        "id": "gW2U06Gn2B_f",
        "outputId": "a58eda1e-40c8-4dd9-f023-06d9976b6c5a"
      },
      "outputs": [
        {
          "output_type": "stream",
          "name": "stdout",
          "text": [
            "hello\n",
            "world\n",
            "\n"
          ]
        }
      ],
      "source": [
        "with open('print-test.txt', 'w') as f:\n",
        "    print('hello\\nworld', file=f)\n",
        "\n",
        "with open('print-test.txt','r') as f:\n",
        "  print(f.read())"
      ]
    },
    {
      "cell_type": "markdown",
      "metadata": {
        "id": "gqTNw0oR2B_f"
      },
      "source": [
        "文字列の中の `\\n` は改行文字を表します。`\\n` は**エスケープシーケンス**（2-1に説明があります）の一種です。\n",
        "エスケープシーケンスには、この他に、復帰文字を表す `\\r` やタブを表す `\\t` などがあります。\n",
        "\n",
        "ファイルの読み書きのモードとしては、**書き込みモード**を意味する `'w'` を指定しています。既に同じ名前のファイルが存在する場合は上書きされます（以前の内容はなくなります）。ファイルがない場合は、新たに作成されます。\n",
        "\n",
        "`'a'` を指定すると、ファイルが存在する場合、既存の内容の後に追記されます。ファイルがない場合は、新たに作成されます。\n",
        "\n",
        "`print` 関数は、デフォルトで、与えられた文字列の末尾に改行文字を加えて印字します。\n",
        "末尾に加える文字は、`end` 引数で指定できます。"
      ]
    },
    {
      "cell_type": "code",
      "execution_count": 58,
      "metadata": {
        "colab": {
          "base_uri": "https://localhost:8080/"
        },
        "id": "mp5_lGO42B_f",
        "outputId": "d0985fad-a984-43a6-e850-2ea766fa84b6"
      },
      "outputs": [
        {
          "output_type": "stream",
          "name": "stdout",
          "text": [
            "hello\n",
            "world\n",
            "hello world\n",
            "\n"
          ]
        }
      ],
      "source": [
        "with open('print-test.txt', 'a') as f:\n",
        "    print('hello', 'world\\n', end='', file=f) # 改行文字を加えない\n",
        "with open('print-test.txt','r') as f:\n",
        "  print(f.read())"
      ]
    },
    {
      "cell_type": "markdown",
      "metadata": {
        "id": "r73bNW6W2B_f"
      },
      "source": [
        "また、複数の印字対象を渡すと、デフォルトで、空白文字で区切って印字します。\n",
        "この区切り文字は、`sep` 引数で指定できます。"
      ]
    },
    {
      "cell_type": "code",
      "execution_count": 59,
      "metadata": {
        "colab": {
          "base_uri": "https://localhost:8080/"
        },
        "id": "4Y4_HjIu2B_f",
        "outputId": "b01bfdc2-be4e-47f5-ce62-c0b6e511423d"
      },
      "outputs": [
        {
          "output_type": "stream",
          "name": "stdout",
          "text": [
            "hello\n",
            "world\n",
            "hello world\n",
            "hello, world\n",
            "\n"
          ]
        }
      ],
      "source": [
        "with open('print-test.txt', 'a') as f:\n",
        "    print('hello', 'world', sep=', ', file=f) # 'hello, world'が印字される\n",
        "\n",
        "with open('print-test.txt','r') as f:\n",
        "  print(f.read())"
      ]
    },
    {
      "cell_type": "markdown",
      "metadata": {
        "id": "hyCiWqFP2B_f"
      },
      "source": [
        "この他にも、ファイルオブジェクトには、より原始的な書き込み用メソッドが用意されています。\n",
        "**`write()`** メソッドは、与えられた1つの文字列を単に書き込みます。\n",
        "次に示すように、`write()` メソッドと `read()` メソッドは、対で使うことが良くあります。"
      ]
    },
    {
      "cell_type": "code",
      "execution_count": 61,
      "metadata": {
        "colab": {
          "base_uri": "https://localhost:8080/"
        },
        "id": "sNEVLqJn2B_f",
        "outputId": "622197b8-b5a5-4e3f-a3e2-b91b082fdb94"
      },
      "outputs": [
        {
          "output_type": "stream",
          "name": "stdout",
          "text": [
            "hello\n",
            "world\n",
            "hello world\n",
            "hello, world\n",
            "\n",
            "hello\n",
            "world\n",
            "\n"
          ]
        }
      ],
      "source": [
        "with open('sample.txt') as src, open('sample.txt.bak', 'w') as dst:\n",
        "    dst.write(src.read())\n",
        "\n",
        "with open('print-test.txt','r') as f:\n",
        "  print(f.read())\n",
        "with open('sample.txt.bak','r') as f:\n",
        "  print(f.read())"
      ]
    },
    {
      "cell_type": "markdown",
      "metadata": {
        "id": "gJsetunr2B_f"
      },
      "source": [
        "このコードは、`sample.txt` を `sample.txt.bak` にコピーします。"
      ]
    },
    {
      "cell_type": "markdown",
      "metadata": {
        "id": "_5WYFh2n2B_f"
      },
      "source": [
        "## 練習\n",
        "\n",
        "2つのファイル名 `infile`, `outfile` を引数として、`infile` の半角英文字を全て大文字にした結果を `outfile` に書き込む `file_upper(infile, outfile)` という関数を作成してください。   \n",
        "\n",
        "なお、半角英文字の小文字を大文字に変換するには `upper()` というメソッドが使えます。\n",
        "たとえば `line` という名前の変数に半角文字列が入っている場合、`line.upper()` とすれば大文字に変換した文字列を返します。"
      ]
    },
    {
      "cell_type": "code",
      "execution_count": null,
      "metadata": {
        "id": "E2F4J-JW2B_f"
      },
      "outputs": [],
      "source": [
        "def file_upper(infile,outfile):\n",
        "    ..."
      ]
    },
    {
      "cell_type": "markdown",
      "metadata": {
        "id": "Un-voS1J2B_g"
      },
      "source": [
        "上のセルで解答を作成した後、以下のセルを実行し、実行結果が `True` になることを確認してください。"
      ]
    },
    {
      "cell_type": "code",
      "execution_count": null,
      "metadata": {
        "tags": [
          "raises-exception"
        ],
        "id": "VM-L4pCy2B_g"
      },
      "outputs": [],
      "source": [
        "with open('print-test.txt', 'w') as f:\n",
        "    print('hello', 'world', file=f)\n",
        "file_upper('print-test.txt', 'print-test-upper.txt')\n",
        "with open('print-test-upper.txt', 'r') as f:\n",
        "    print(f.read() == 'HELLO WORLD\\n')"
      ]
    },
    {
      "cell_type": "markdown",
      "metadata": {
        "id": "wvT7haUv2B_g"
      },
      "source": [
        "## ファイルの読み書きにおける文字コード指定\n",
        "\n",
        "`open` でファイルを開くと、通常そのファイルをテキストモードで開きます（テキストモード以外にバイナリモードもあります）。\n",
        "\n",
        "テキストモードでファイルを開くときは、さらに特定の**文字コード**によってそのファイルを開こうとします。\n",
        "文字コードを指定しないと、デフォルトの文字コードでそのファイルを開こうとしますが、\n",
        "この文字コードがファイルを書き込む際に指定したものと異なる場合、エラーが出たり文字化けしてしまいます。\n",
        "\n",
        "デフォルトの文字コードは、WindowsはShift_JIS、macOSやLinuxはUTF-8になっていることが多いです。\n",
        "UTF-8で文字を記録されたファイルをWindowsで、ただ `open('utf-8.txt', 'w')` のように文字コードを指定せずに開くとエラーが出ます。\n",
        "同じく、Shift_JISで文字を記録されたファイルをmacOSで `open('shift_jis.txt', 'w')` として開くとエラーが出ます。\n",
        "\n",
        "なお、この教材の冒頭で `open('sample.txt', 'r')` と、文字コードを指定せずにファイルを開きましたがエラーは出ませんでしたね。\n",
        "これは、`sample.txt` では半角英数字しか使われておらず、半角英数字に関しては、Shift_JISもUTF-8も共通のルールでエンコードされているためです。"
      ]
    },
    {
      "cell_type": "code",
      "execution_count": null,
      "metadata": {
        "tags": [
          "raises-exception"
        ],
        "id": "6nRmrz0P2B_g"
      },
      "outputs": [],
      "source": [
        "# macOSならこちらでエラー\n",
        "with open('shift_jis.txt', 'r') as f:\n",
        "    print(f.read())\n",
        "\n",
        "# Windowsならこちらでエラー\n",
        "with open('utf-8.txt', 'r') as f:\n",
        "    print(f.read())"
      ]
    },
    {
      "cell_type": "markdown",
      "metadata": {
        "id": "N7hstKvD2B_g"
      },
      "source": [
        "特に半角英数以外の文字を記録する際は文字コードを指定すること、またそのようなファイルを開くときは、記録するときに指定した文字コードでファイルを開いてください。\n",
        "\n",
        "文字コードは、`open` のキーワード引数として\n",
        "`encoding='utf-8'`（文字コードにUTF-8を指定する場合）のように指定することができます。\n",
        "\n",
        "なお、日本語の文字コードには `UTF-8`, `Shift_JIS`, `EUC-JP` などがありますが、PythonではOSの種類に限らず、UTF-8という文字コードがよく使われます。本授業でもUTF-8を推奨します。"
      ]
    },
    {
      "cell_type": "code",
      "execution_count": null,
      "metadata": {
        "tags": [
          "raises-exception"
        ],
        "id": "KyZ2C8D12B_g"
      },
      "outputs": [],
      "source": [
        "# 文字コードを指定しないとmacOSならこちらでエラー\n",
        "with open('shift_jis.txt', 'r', encoding='shift_jis') as f:\n",
        "    print(f.read())\n",
        "\n",
        "# 文字コードを指定しないとWindowsならこちらでエラー\n",
        "with open('utf-8.txt', 'r', encoding='utf-8') as f:\n",
        "    print(f.read())\n",
        "\n",
        "# 文字コードを指定してファイルに書き込む場合\n",
        "with open('text.txt', 'w', encoding='utf-8') as f:\n",
        "    f.write('かきくけこ')\n",
        "with open('text.txt', 'r', encoding='utf-8') as f:\n",
        "    print(f.read())"
      ]
    },
    {
      "cell_type": "markdown",
      "metadata": {
        "id": "8Rmn8bNR2B_g"
      },
      "source": [
        "## 改行文字の削除\n",
        "\n",
        "ファイルをテキストモードで開いて `read()` や `readline()` を呼び出すと、\n",
        "`str` 型の文字列として読み込まれます。\n",
        "\n",
        "文字列の末尾にある改行文字の削除には、2-1で紹介した `rstrip` メソッドが使えます。\n",
        "ただし、無引数で呼び出すと、改行文字以外の空白文字もまとめて削除されます。"
      ]
    },
    {
      "cell_type": "code",
      "execution_count": null,
      "metadata": {
        "id": "BBTSCoJn2B_g"
      },
      "outputs": [],
      "source": [
        "'あいうえお \\n'.rstrip()"
      ]
    },
    {
      "cell_type": "markdown",
      "metadata": {
        "id": "SZREtTOP2B_g"
      },
      "source": [
        "削除する空白文字を改行文字 `'\\n'` に限定したい場合には、 `rstrip` の引数に指定します。"
      ]
    },
    {
      "cell_type": "code",
      "execution_count": null,
      "metadata": {
        "id": "ZrI4Hqbb2B_g"
      },
      "outputs": [],
      "source": [
        "'あいうえお \\n\\n'.rstrip('\\n')"
      ]
    },
    {
      "cell_type": "markdown",
      "metadata": {
        "id": "hpfLNy7X2B_h"
      },
      "source": [
        "上の例から分かるように、末尾の改行文字をただ1つ削除したい場合には、 `rstrip('\\n')` は適していません。\n",
        "しかし、 `readline()` の返す文字列には、末尾に高々1つの `'\\n'` しか存在しないので、 `rstrip('\\n')` で問題ありません。"
      ]
    },
    {
      "cell_type": "code",
      "execution_count": null,
      "metadata": {
        "id": "sQ3DDQYs2B_h"
      },
      "outputs": [],
      "source": [
        "with open('text/novel.txt', 'r', encoding='utf-8') as f:\n",
        "    while True:\n",
        "        line = f.readline()\n",
        "        if line == '':\n",
        "            break\n",
        "        print(line)\n",
        "\n",
        "print('------ 末尾の改行文字を削除すると以下のようになります-------')\n",
        "with open('text/novel.txt', 'r', encoding='utf-8') as f:\n",
        "    while True:\n",
        "        line = f.readline()\n",
        "        if line == '':\n",
        "            break\n",
        "        print(line.rstrip('\\n'))"
      ]
    },
    {
      "cell_type": "markdown",
      "metadata": {
        "id": "Fc-B4O2C2B_h"
      },
      "source": [
        "## 練習の解答"
      ]
    },
    {
      "cell_type": "code",
      "execution_count": null,
      "metadata": {
        "id": "xJRthTLF2B_h"
      },
      "outputs": [],
      "source": [
        "def  number_of_characters(name):\n",
        "    f = open(name, 'r')\n",
        "    s = f.read()\n",
        "    f.close()\n",
        "    return len(s)"
      ]
    },
    {
      "cell_type": "code",
      "execution_count": null,
      "metadata": {
        "id": "oVMl9_032B_h"
      },
      "outputs": [],
      "source": [
        "def last_line(name):\n",
        "    last = ''\n",
        "    with open(name, 'r') as f:\n",
        "        while True:\n",
        "            line = f.readline()\n",
        "            if line == '':\n",
        "                return last\n",
        "            last = line"
      ]
    },
    {
      "cell_type": "code",
      "execution_count": null,
      "metadata": {
        "id": "QP9QGFWC2B_h"
      },
      "outputs": [],
      "source": [
        "def file_upper(infile,outfile):\n",
        "    with open(infile, 'r') as f:\n",
        "        with open(outfile, 'w') as g:\n",
        "            g.write(f.read().upper())"
      ]
    },
    {
      "cell_type": "markdown",
      "metadata": {
        "id": "h1uTAhIr2B_h"
      },
      "source": [
        "以下のように1つのwith文に複数の `open` を書くこともできます。"
      ]
    },
    {
      "cell_type": "code",
      "execution_count": null,
      "metadata": {
        "id": "5dOZsEBF2B_h"
      },
      "outputs": [],
      "source": [
        "def file_upper(infile,outfile):\n",
        "    with open(infile, 'r') as f, open(outfile, 'w') as g:\n",
        "        g.write(f.read().upper())"
      ]
    },
    {
      "cell_type": "code",
      "execution_count": null,
      "metadata": {
        "id": "62qt7jdM2B_h"
      },
      "outputs": [],
      "source": []
    }
  ],
  "metadata": {
    "kernelspec": {
      "display_name": "Python 3",
      "language": "python",
      "name": "python3"
    },
    "language_info": {
      "name": "python"
    },
    "colab": {
      "provenance": []
    }
  },
  "nbformat": 4,
  "nbformat_minor": 0
}