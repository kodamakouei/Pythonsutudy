{
  "cells": [
    {
      "cell_type": "code",
      "execution_count": 1,
      "metadata": {
        "id": "U0UGZX8yY3uS",
        "outputId": "5eded3bf-df97-4eae-f0bf-764b876733d8",
        "colab": {
          "base_uri": "https://localhost:8080/"
        }
      },
      "outputs": [
        {
          "output_type": "stream",
          "name": "stdout",
          "text": [
            "--2025-09-04 06:25:07--  https://raw.githubusercontent.com/utokyo-ipp/utokyo-ipp.github.io/master/colab/5/factorial.py\n",
            "Resolving raw.githubusercontent.com (raw.githubusercontent.com)... 185.199.110.133, 185.199.109.133, 185.199.108.133, ...\n",
            "Connecting to raw.githubusercontent.com (raw.githubusercontent.com)|185.199.110.133|:443... connected.\n",
            "HTTP request sent, awaiting response... 200 OK\n",
            "Length: 109 [text/plain]\n",
            "Saving to: ‘./factorial.py’\n",
            "\n",
            "\rfactorial.py          0%[                    ]       0  --.-KB/s               \rfactorial.py        100%[===================>]     109  --.-KB/s    in 0s      \n",
            "\n",
            "2025-09-04 06:25:07 (2.06 MB/s) - ‘./factorial.py’ saved [109/109]\n",
            "\n",
            "--2025-09-04 06:25:07--  https://raw.githubusercontent.com/utokyo-ipp/utokyo-ipp.github.io/master/colab/5/fig/py_open_2.png\n",
            "Resolving raw.githubusercontent.com (raw.githubusercontent.com)... 185.199.108.133, 185.199.109.133, 185.199.110.133, ...\n",
            "Connecting to raw.githubusercontent.com (raw.githubusercontent.com)|185.199.108.133|:443... connected.\n",
            "HTTP request sent, awaiting response... 200 OK\n",
            "Length: 22815 (22K) [image/png]\n",
            "Saving to: ‘fig/py_open_2.png’\n",
            "\n",
            "py_open_2.png       100%[===================>]  22.28K  --.-KB/s    in 0.001s  \n",
            "\n",
            "2025-09-04 06:25:07 (32.9 MB/s) - ‘fig/py_open_2.png’ saved [22815/22815]\n",
            "\n",
            "--2025-09-04 06:25:07--  https://raw.githubusercontent.com/utokyo-ipp/utokyo-ipp.github.io/master/colab/5/fig/py_open_1.png\n",
            "Resolving raw.githubusercontent.com (raw.githubusercontent.com)... 185.199.108.133, 185.199.109.133, 185.199.110.133, ...\n",
            "Connecting to raw.githubusercontent.com (raw.githubusercontent.com)|185.199.108.133|:443... connected.\n",
            "HTTP request sent, awaiting response... 200 OK\n",
            "Length: 36596 (36K) [image/png]\n",
            "Saving to: ‘fig/py_open_1.png’\n",
            "\n",
            "py_open_1.png       100%[===================>]  35.74K  --.-KB/s    in 0.006s  \n",
            "\n",
            "2025-09-04 06:25:07 (5.48 MB/s) - ‘fig/py_open_1.png’ saved [36596/36596]\n",
            "\n",
            "--2025-09-04 06:25:07--  https://raw.githubusercontent.com/utokyo-ipp/utokyo-ipp.github.io/master/colab/5/fig/py_conv_1.png\n",
            "Resolving raw.githubusercontent.com (raw.githubusercontent.com)... 185.199.108.133, 185.199.109.133, 185.199.111.133, ...\n",
            "Connecting to raw.githubusercontent.com (raw.githubusercontent.com)|185.199.108.133|:443... connected.\n",
            "HTTP request sent, awaiting response... 200 OK\n",
            "Length: 27636 (27K) [image/png]\n",
            "Saving to: ‘fig/py_conv_1.png’\n",
            "\n",
            "py_conv_1.png       100%[===================>]  26.99K  --.-KB/s    in 0.002s  \n",
            "\n",
            "2025-09-04 06:25:08 (17.1 MB/s) - ‘fig/py_conv_1.png’ saved [27636/27636]\n",
            "\n",
            "--2025-09-04 06:25:08--  https://raw.githubusercontent.com/utokyo-ipp/utokyo-ipp.github.io/master/colab/5/fig/py_conv_2.png\n",
            "Resolving raw.githubusercontent.com (raw.githubusercontent.com)... 185.199.108.133, 185.199.109.133, 185.199.110.133, ...\n",
            "Connecting to raw.githubusercontent.com (raw.githubusercontent.com)|185.199.108.133|:443... connected.\n",
            "HTTP request sent, awaiting response... 200 OK\n",
            "Length: 59488 (58K) [image/png]\n",
            "Saving to: ‘fig/py_conv_2.png’\n",
            "\n",
            "py_conv_2.png       100%[===================>]  58.09K  --.-KB/s    in 0.009s  \n",
            "\n",
            "2025-09-04 06:25:08 (6.65 MB/s) - ‘fig/py_conv_2.png’ saved [59488/59488]\n",
            "\n"
          ]
        }
      ],
      "source": [
        "##================================================\n",
        "## このセルを最初に実行せよ---Run this cell first.\n",
        "##================================================\n",
        "!wget -P . https://raw.githubusercontent.com/utokyo-ipp/utokyo-ipp.github.io/master/colab/5/factorial.py\n",
        "!wget -P fig https://raw.githubusercontent.com/utokyo-ipp/utokyo-ipp.github.io/master/colab/5/fig/py_open_2.png\n",
        "!wget -P fig https://raw.githubusercontent.com/utokyo-ipp/utokyo-ipp.github.io/master/colab/5/fig/py_open_1.png\n",
        "!wget -P fig https://raw.githubusercontent.com/utokyo-ipp/utokyo-ipp.github.io/master/colab/5/fig/py_conv_1.png\n",
        "!wget -P fig https://raw.githubusercontent.com/utokyo-ipp/utokyo-ipp.github.io/master/colab/5/fig/py_conv_2.png"
      ]
    },
    {
      "cell_type": "markdown",
      "metadata": {
        "id": "5HiDeeWOY3uX"
      },
      "source": [
        "# 5-3. NumPyライブラリ\n",
        "\n",
        "NumPyについて説明します。\n",
        "\n",
        "参考\n",
        "\n",
        "- https://docs.scipy.org/doc/numpy/user/quickstart.html\n",
        "- https://docs.scipy.org/doc/numpy/user/basics.html\n",
        "\n",
        "**NumPy**とは、多次元配列を効率的に扱うライブラリです。\n",
        "Pythonの標準ライブラリではありませんが、科学技術計算や機械学習など、ベクトルや行列の演算が多用される分野では、事実上の標準ライブラリとしての地位を確立しています。\n",
        "\n",
        "NumPyを用いるには、まず、**`numpy`** モジュールをインポートする必要があります。\n",
        "慣習として、`np` と別名をつけて利用されます。"
      ]
    },
    {
      "cell_type": "code",
      "execution_count": 2,
      "metadata": {
        "id": "cKrmGOwrY3ua"
      },
      "outputs": [],
      "source": [
        "import numpy as np"
      ]
    },
    {
      "cell_type": "markdown",
      "metadata": {
        "id": "j3nSS5YZY3ub"
      },
      "source": [
        "NumPyでは、Python標準の数値やリストの代わりに、特別な数値や配列を用いることで、格段に効率的な配列演算を実現します。\n",
        "以下では、配列の基本的な操作や機能を説明します。"
      ]
    },
    {
      "cell_type": "markdown",
      "metadata": {
        "id": "sdeBAwvPY3uc"
      },
      "source": [
        "## 配列の構築\n",
        "\n",
        "**配列**とは、特定の型の値の並びです。\n",
        "**`numpy.array()`** 関数で構築できます。\n",
        "このとき、配列の要素はPython標準のリストやタプルで指定します。\n",
        "どちらを用いて作成しても全く同じ配列を作成できます。"
      ]
    },
    {
      "cell_type": "code",
      "execution_count": 3,
      "metadata": {
        "id": "0tUbc3ytY3uc",
        "outputId": "6c61a1a4-3399-474d-854a-30a8587ee646",
        "colab": {
          "base_uri": "https://localhost:8080/"
        }
      },
      "outputs": [
        {
          "output_type": "stream",
          "name": "stdout",
          "text": [
            "[1 2 3]\n",
            "[1 2 3]\n"
          ]
        }
      ],
      "source": [
        "a = np.array([1,2,3]) # リストから配列作成\n",
        "print(a)\n",
        "b = np.array((1,2,3)) # タプルからの配列作成\n",
        "print(b)"
      ]
    },
    {
      "cell_type": "markdown",
      "metadata": {
        "id": "O-YnsJ8UY3ud"
      },
      "source": [
        "`print` の結果はリストと似ていますが、要素が `,` ではなく空白で区切られているに注意してください。\n",
        "`print` ではなく、式の評価結果の場合、より違いが明示されます。"
      ]
    },
    {
      "cell_type": "code",
      "execution_count": 4,
      "metadata": {
        "id": "4izt6VWXY3ue",
        "outputId": "78578ab5-503b-4b26-be5d-f471f6820304",
        "colab": {
          "base_uri": "https://localhost:8080/"
        }
      },
      "outputs": [
        {
          "output_type": "execute_result",
          "data": {
            "text/plain": [
              "array([1, 2, 3])"
            ]
          },
          "metadata": {},
          "execution_count": 4
        }
      ],
      "source": [
        "a"
      ]
    },
    {
      "cell_type": "markdown",
      "metadata": {
        "id": "dSgpcETIY3ue"
      },
      "source": [
        "配列は **`numpy.ndarray`** というデータ型によって実現されています。\n",
        "組み込み関数 `type()` を使うと、データ型を調べられます。"
      ]
    },
    {
      "cell_type": "code",
      "execution_count": 5,
      "metadata": {
        "id": "UOYuYg7XY3uf",
        "outputId": "3409f95d-c10c-4e2e-c4c9-621db6f527b0",
        "colab": {
          "base_uri": "https://localhost:8080/"
        }
      },
      "outputs": [
        {
          "output_type": "execute_result",
          "data": {
            "text/plain": [
              "numpy.ndarray"
            ]
          },
          "metadata": {},
          "execution_count": 5
        }
      ],
      "source": [
        "type(np.array([1,2,3,4,5])) # 配列の型"
      ]
    },
    {
      "cell_type": "code",
      "execution_count": 6,
      "metadata": {
        "id": "1nlp0dUgY3ug",
        "outputId": "fccfd4ee-dc46-466a-ff46-9219e2caaef4",
        "colab": {
          "base_uri": "https://localhost:8080/"
        }
      },
      "outputs": [
        {
          "output_type": "execute_result",
          "data": {
            "text/plain": [
              "list"
            ]
          },
          "metadata": {},
          "execution_count": 6
        }
      ],
      "source": [
        "type([1,2,3,4,5])"
      ]
    },
    {
      "cell_type": "markdown",
      "metadata": {
        "id": "05eTbcv3Y3ug"
      },
      "source": [
        "`array()` が、リストではなく `ndarray` を返していることがわかります。\n",
        "\n",
        "### 要素型\n",
        "\n",
        "配列の要素を構成する値には幾つかの型がありますが、次の4つの型を知っていればとりあえずは十分です。\n",
        "\n",
        "| 型名       | 説明           |\n",
        "|---         |---             |\n",
        "| **`numpy.int32`**      | 整数（32-bit）を表す型   |\n",
        "| **`numpy.float64`**    | 実数（64-bit）を表す型   |\n",
        "| **`numpy.complex128`** | 複素数（64-bit実数の組）を表す型 |\n",
        "| **`numpy.bool_`**      | 真理値を表す型 |\n",
        "\n",
        "配列は、リストと異なり、型の異なる要素を混在させることはできません。\n",
        "\n",
        "`array()` の `dtype` 引数に、要素型を表すオブジェクトや文字列値を与えることで、指定された要素型の配列を構築できます。"
      ]
    },
    {
      "cell_type": "code",
      "execution_count": 11,
      "metadata": {
        "id": "MKWmdLowY3uh",
        "outputId": "64ea458f-fcbe-4067-9f7d-086fcd751f9e",
        "colab": {
          "base_uri": "https://localhost:8080/"
        }
      },
      "outputs": [
        {
          "output_type": "stream",
          "name": "stdout",
          "text": [
            "[-1  0  1]\n"
          ]
        }
      ],
      "source": [
        "print(np.array([-1,0,1], dtype=np.int32)) # np.int32の代わりに'int32'でも同じ"
      ]
    },
    {
      "cell_type": "markdown",
      "metadata": {
        "id": "j_iV1DkZY3uh"
      },
      "source": [
        "実数には、小数点が付与されて印字されます。"
      ]
    },
    {
      "cell_type": "code",
      "execution_count": 12,
      "metadata": {
        "id": "eBXdrxzUY3uh",
        "outputId": "2bf27688-fc0c-4faf-dfc6-b10ecc0702a7",
        "colab": {
          "base_uri": "https://localhost:8080/"
        }
      },
      "outputs": [
        {
          "output_type": "stream",
          "name": "stdout",
          "text": [
            "[-1.  0.  1.]\n"
          ]
        }
      ],
      "source": [
        "print(np.array([-1,0,1], dtype=np.float64)) # np.float64の代わりに'float64'でも同じ"
      ]
    },
    {
      "cell_type": "markdown",
      "metadata": {
        "id": "dqvi_GtxY3uh"
      },
      "source": [
        "複素数は実部と虚部を表す実数の組であり、虚部には `j` が付与されて印字されます。"
      ]
    },
    {
      "cell_type": "code",
      "execution_count": 16,
      "metadata": {
        "id": "M5A8iSlQY3ui",
        "outputId": "db645b03-d385-40d3-a534-8dbbb5eedeea",
        "colab": {
          "base_uri": "https://localhost:8080/"
        }
      },
      "outputs": [
        {
          "output_type": "stream",
          "name": "stdout",
          "text": [
            "[-1.+0.j  0.+0.j  1.+0.j]\n"
          ]
        }
      ],
      "source": [
        "print(np.array([-1,0,1], dtype=np.complex128)) # np.complex128の代わりに'complex128'でも同じ"
      ]
    },
    {
      "cell_type": "markdown",
      "metadata": {
        "id": "0rykvtUJY3ui"
      },
      "source": [
        "数値から真理値への変換では、`0` が `False` で、`0` 以外が `True` になります。"
      ]
    },
    {
      "cell_type": "code",
      "execution_count": 17,
      "metadata": {
        "id": "9K4uMc9iY3ui",
        "outputId": "3a0dad8c-5e04-41bc-9c5b-b946dcf9ca00",
        "colab": {
          "base_uri": "https://localhost:8080/"
        }
      },
      "outputs": [
        {
          "output_type": "stream",
          "name": "stdout",
          "text": [
            "[ True False  True]\n"
          ]
        }
      ],
      "source": [
        "print(np.array([-1,0,1], dtype=np.bool_)) # np.bool_の代わりに'bool'でも同じ"
      ]
    },
    {
      "cell_type": "markdown",
      "metadata": {
        "id": "9oKnKl--Y3ui"
      },
      "source": [
        "### 多次元配列\n",
        "\n",
        "**多次元配列**は、配列の中に配列がある入れ子の配列です。\n",
        "入れ子のリストやタプルを `numpy.array()` に渡すことで構築できます。"
      ]
    },
    {
      "cell_type": "code",
      "execution_count": 22,
      "metadata": {
        "id": "U5SvbV1HY3um",
        "outputId": "49460cb9-6125-4885-b390-fb80a37fb6ee",
        "colab": {
          "base_uri": "https://localhost:8080/"
        }
      },
      "outputs": [
        {
          "output_type": "stream",
          "name": "stdout",
          "text": [
            "[[1 2]\n",
            " [3 4]\n",
            " [5 6]]\n"
          ]
        }
      ],
      "source": [
        "print(np.array([[1,2],[3,4],[5,6]])) # 2次元配列の構築"
      ]
    },
    {
      "cell_type": "code",
      "execution_count": 19,
      "metadata": {
        "id": "KkkWFVyrY3um",
        "outputId": "7926a435-5104-40b3-8710-09c3ed1d1ecd",
        "colab": {
          "base_uri": "https://localhost:8080/"
        }
      },
      "outputs": [
        {
          "output_type": "stream",
          "name": "stdout",
          "text": [
            "[[[1 2]\n",
            "  [3 4]]\n",
            "\n",
            " [[5 6]\n",
            "  [7 8]]]\n"
          ]
        }
      ],
      "source": [
        "print(np.array([[[1,2],[3,4]],[[5,6],[7,8]]])) # 3次元配列の構築"
      ]
    },
    {
      "cell_type": "markdown",
      "metadata": {
        "id": "XW2Ur_gwY3um"
      },
      "source": [
        "上の例からわかるように、2次元配列は行列のように、3次元配列は行列の配列のように印字されます。\n",
        "\n",
        "多次元配列は、要素となる配列の長さが等しいことが想定されます。\n",
        "つまり、2次元配列は、行列のように各行の長さが等しくなければなりません。"
      ]
    },
    {
      "cell_type": "code",
      "execution_count": 20,
      "metadata": {
        "id": "aWF1HW1KY3um",
        "outputId": "ec4ab5f6-2a38-4645-8fa4-90c019319e59",
        "colab": {
          "base_uri": "https://localhost:8080/",
          "height": 168
        }
      },
      "outputs": [
        {
          "output_type": "error",
          "ename": "ValueError",
          "evalue": "setting an array element with a sequence. The requested array has an inhomogeneous shape after 1 dimensions. The detected shape was (2,) + inhomogeneous part.",
          "traceback": [
            "\u001b[0;31m---------------------------------------------------------------------------\u001b[0m",
            "\u001b[0;31mValueError\u001b[0m                                Traceback (most recent call last)",
            "\u001b[0;32m/tmp/ipython-input-2398807576.py\u001b[0m in \u001b[0;36m<cell line: 0>\u001b[0;34m()\u001b[0m\n\u001b[0;32m----> 1\u001b[0;31m \u001b[0mprint\u001b[0m\u001b[0;34m(\u001b[0m\u001b[0mnp\u001b[0m\u001b[0;34m.\u001b[0m\u001b[0marray\u001b[0m\u001b[0;34m(\u001b[0m\u001b[0;34m[\u001b[0m\u001b[0;34m[\u001b[0m\u001b[0;36m1\u001b[0m\u001b[0;34m,\u001b[0m\u001b[0;36m2\u001b[0m\u001b[0;34m]\u001b[0m\u001b[0;34m,\u001b[0m\u001b[0;34m[\u001b[0m\u001b[0;36m3\u001b[0m\u001b[0;34m]\u001b[0m\u001b[0;34m]\u001b[0m\u001b[0;34m)\u001b[0m\u001b[0;34m)\u001b[0m \u001b[0;31m# 行の長さが異なる場合\u001b[0m\u001b[0;34m\u001b[0m\u001b[0;34m\u001b[0m\u001b[0m\n\u001b[0m",
            "\u001b[0;31mValueError\u001b[0m: setting an array element with a sequence. The requested array has an inhomogeneous shape after 1 dimensions. The detected shape was (2,) + inhomogeneous part."
          ]
        }
      ],
      "source": [
        "print(np.array([[1,2],[3]])) # 行の長さが異なる場合"
      ]
    },
    {
      "cell_type": "markdown",
      "metadata": {
        "id": "SLk07ZPtY3um"
      },
      "source": [
        "このように行の長さが異なる場合は、多次元配列とは見做されません。\n",
        "\n",
        "多次元配列の各次元の長さの組を、多次元配列の**形** (shape) と呼びます。\n",
        "特に2次元配列の場合、行列と同様に、行数（内側にある配列の数）と列数（内側にある配列の要素数）の組を使って、行数×列数で形を表記します。\n",
        "\n",
        "1次元配列に対して **`reshape()`** メソッドを使うと、引数で指定された形の多次元配列に変換することができます。"
      ]
    },
    {
      "cell_type": "code",
      "execution_count": 21,
      "metadata": {
        "id": "L5W9wuBdY3um",
        "outputId": "0ac3d4e5-f724-438c-d068-aa6ddfd37896",
        "colab": {
          "base_uri": "https://localhost:8080/"
        }
      },
      "outputs": [
        {
          "output_type": "execute_result",
          "data": {
            "text/plain": [
              "array([[0, 1, 2],\n",
              "       [3, 4, 5]])"
            ]
          },
          "metadata": {},
          "execution_count": 21
        }
      ],
      "source": [
        "a1 = np.array([0, 1, 2, 3, 4, 5]) # 1次元配列\n",
        "a2 = a1.reshape(2,3)              # 2×3の2次元配列\n",
        "a2"
      ]
    },
    {
      "cell_type": "markdown",
      "metadata": {
        "id": "EvzhwX2_Y3un"
      },
      "source": [
        "ここで、`reshape()` を適用する前後の配列（ここでは `a1` と `a2`）は、内部的にデータを共有していることに注意してください。\n",
        "つまり、`a1` の要素を更新すると、`a2` にも影響を及ぼします。"
      ]
    },
    {
      "cell_type": "code",
      "execution_count": 29,
      "metadata": {
        "id": "tKg-odKAY3un",
        "outputId": "1cd542f5-639e-4f73-bcb7-d16604a0ce33",
        "colab": {
          "base_uri": "https://localhost:8080/"
        }
      },
      "outputs": [
        {
          "output_type": "stream",
          "name": "stdout",
          "text": [
            "[0 6 2 3 4 5]\n",
            "[[0 6 2]\n",
            " [3 4 5]]\n"
          ]
        }
      ],
      "source": [
        "a1[1] = 6\n",
        "print(a1)\n",
        "print(a2)"
      ]
    },
    {
      "cell_type": "markdown",
      "metadata": {
        "id": "HEg07oMuY3un"
      },
      "source": [
        "**`ravel()`** メソッドを使うと、多次元配列を1次元配列に戻すことができます。"
      ]
    },
    {
      "cell_type": "code",
      "execution_count": 30,
      "metadata": {
        "id": "rQ3zLcvkY3un",
        "outputId": "8826aca1-0ecf-4f3b-b035-b52add17d2ae",
        "colab": {
          "base_uri": "https://localhost:8080/"
        }
      },
      "outputs": [
        {
          "output_type": "stream",
          "name": "stdout",
          "text": [
            "[[0 1 2]\n",
            " [3 4 5]]\n",
            "[0 1 2 3 4 5]\n"
          ]
        }
      ],
      "source": [
        "a = np.array([0, 1, 2, 3, 4, 5]).reshape(2,3)\n",
        "print(a)\n",
        "print(a.ravel())"
      ]
    },
    {
      "cell_type": "markdown",
      "metadata": {
        "id": "AU0Z-oOiY3un"
      },
      "source": [
        "`ravel()` の結果も、`reshape()` と同様に、元の配列と要素を共有します。"
      ]
    },
    {
      "cell_type": "code",
      "execution_count": 31,
      "metadata": {
        "id": "ClXUTHdMY3un",
        "outputId": "fe056717-9a38-4324-908e-303ca29c42d0",
        "colab": {
          "base_uri": "https://localhost:8080/"
        }
      },
      "outputs": [
        {
          "output_type": "stream",
          "name": "stdout",
          "text": [
            "[0 6 2 3 4 5]\n"
          ]
        }
      ],
      "source": [
        "elems = np.array([0, 1, 2, 3, 4, 5])\n",
        "a = elems.reshape(2,3).ravel() # ravel()は要素をelemsと共有\n",
        "elems[1] = 6\n",
        "print(a)"
      ]
    },
    {
      "cell_type": "markdown",
      "metadata": {
        "id": "ZvzzXQPrY3un"
      },
      "source": [
        "なお、要素をコピーして変換する **`flatten()`** メソッドもありますが、コピーしない `ravel()` の方が効率的です。"
      ]
    },
    {
      "cell_type": "markdown",
      "metadata": {
        "id": "ihSe5OJTY3uo"
      },
      "source": [
        "### ▲**配列のデータ属性**\n",
        "\n",
        "配列はオブジェクトであり、その配列に関する様々な情報を属性として保持します。\n",
        "（オブジェクトの属性については6-3に簡単な説明があります。）\n",
        "配列が持つ代表的なデータ属性（メソッド以外の属性）を次の表にまとめます。\n",
        "\n",
        "| 属性 | 意味 |\n",
        "|---   |---   |\n",
        "| `a.dtype` | 配列 `a` の要素型 |\n",
        "| `a.shape` | 配列 `a` の形（各次元の長さのタプル）|\n",
        "| `a.ndim` | 配列 `a` の次元数（`len(a.shape)` と等しい）|\n",
        "| `a.size` | 配列 `a` の要素数（`a.shape` の総乗と等しい）|\n",
        "| `a.flat` | 配列 `a` の1次元表現（`a.ravel()` と等しい）|\n",
        "| `a.T` | 配列 `a` を転置した配列（`a` と要素を共有）|"
      ]
    },
    {
      "cell_type": "markdown",
      "metadata": {
        "id": "y0GWdL5qY3uo"
      },
      "source": [
        "## 配列要素を生成する構築関数\n",
        "\n",
        "要素を生成して配列を構築する代表的な関数を紹介します。\n",
        "特に断りが無い場合、ここで紹介する関数は、`array()` と同様に `dtype` 引数で要素型を指定可能です。\n",
        "\n",
        "### `arange`\n",
        "\n",
        "**`numpy.arange()`** は、組み込み関数 `range()` の配列版です（`arange` は array range の略）。\n",
        "開始値・終了値・刻み幅を引数にとります。\n",
        "デフォルトの開始値は `0`、刻み幅は `1` です。\n",
        "`range()` と違って、引数の値は整数に限定されません。\n"
      ]
    },
    {
      "cell_type": "code",
      "execution_count": 32,
      "metadata": {
        "id": "w6lElEWlY3uo",
        "outputId": "fdf2ac89-af98-41b3-d191-9db4c91256d5",
        "colab": {
          "base_uri": "https://localhost:8080/"
        }
      },
      "outputs": [
        {
          "output_type": "stream",
          "name": "stdout",
          "text": [
            "[0 1 2]\n",
            "[0.  0.2 0.4 0.6 0.8]\n"
          ]
        }
      ],
      "source": [
        "print(np.arange(3)) # range(3)に対応する配列\n",
        "print(np.arange(0, 1, 0.2)) # 0を開始値として0.2刻みで1未満の要素を生成"
      ]
    },
    {
      "cell_type": "markdown",
      "metadata": {
        "id": "Gr4JjzQaY3uo"
      },
      "source": [
        "### `linspace`\n",
        "**`numpy.linspace()`** 関数は、範囲を等分割した値からなる配列を生成します。\n",
        "第1引数と第2引数には、それぞれ範囲の開始値と終了値、第3引数には分割数を指定します。"
      ]
    },
    {
      "cell_type": "code",
      "execution_count": 33,
      "metadata": {
        "id": "xczZ9eW-Y3uo",
        "outputId": "8beadd13-9dd1-417d-c276-8df21add89b7",
        "colab": {
          "base_uri": "https://localhost:8080/"
        }
      },
      "outputs": [
        {
          "output_type": "stream",
          "name": "stdout",
          "text": [
            "[0.         0.33333333 0.66666667 1.        ]\n"
          ]
        }
      ],
      "source": [
        "print(np.linspace(0, 1, 4)) # 0から1の値を4分割した値を要素に持つ配列"
      ]
    },
    {
      "cell_type": "markdown",
      "metadata": {
        "id": "3RAdNgv5Y3uo"
      },
      "source": [
        "### `zeros` と `ones`\n",
        "**`numpy.zeros()`** 関数は、`0` からなる配列を生成します。\n",
        "同様に、**`numpy.ones()`** 関数は、`1` からなる配列を生成します。\n",
        "どちらも、生成される形を第1引数に取ります。\n",
        "デフォルトの要素型は、実数です。"
      ]
    },
    {
      "cell_type": "code",
      "execution_count": 34,
      "metadata": {
        "id": "cPV4tBJCY3uu",
        "outputId": "7ff7fbed-96bc-4a34-b34a-dbcb8a556f9b",
        "colab": {
          "base_uri": "https://localhost:8080/"
        }
      },
      "outputs": [
        {
          "output_type": "stream",
          "name": "stdout",
          "text": [
            "[0. 0. 0. 0.]\n",
            "[[0. 0. 0.]\n",
            " [0. 0. 0.]]\n",
            "[1. 1. 1. 1.]\n",
            "[[1. 1. 1.]\n",
            " [1. 1. 1.]]\n"
          ]
        }
      ],
      "source": [
        "print(np.zeros(4))     # 長さ4の1次元配列\n",
        "print(np.zeros((2,3))) # 2×3の2次元配列を生成\n",
        "print(np.ones(4))     # 長さ4の1次元配列\n",
        "print(np.ones((2,3))) # 2×3の2次元配列を生成"
      ]
    },
    {
      "cell_type": "markdown",
      "metadata": {
        "id": "uY2dd3pMY3uu"
      },
      "source": [
        "### `random.rand`\n",
        "**`numpy.random.rand()`** 関数は、0 以上 1 未満の乱数からなる配列を生成します。\n",
        "引数には生成される配列の形を指定します。\n",
        "要素型は実数に限定されます。"
      ]
    },
    {
      "cell_type": "code",
      "execution_count": 40,
      "metadata": {
        "id": "Ja4wPBW6Y3uv",
        "outputId": "b7724915-1aad-4c2b-e5ca-af981de21478",
        "colab": {
          "base_uri": "https://localhost:8080/"
        }
      },
      "outputs": [
        {
          "output_type": "stream",
          "name": "stdout",
          "text": [
            "[0.03491506 0.63419469 0.36187255 0.28148692]\n",
            "[[0.9566137  0.57790965 0.90397884]\n",
            " [0.30684039 0.43953473 0.79897178]]\n"
          ]
        }
      ],
      "source": [
        "print(np.random.rand(4))   # 長さ4の1次元配列\n",
        "print(np.random.rand(2,3)) # 2×3の2次元配列を生成\n"
      ]
    },
    {
      "cell_type": "markdown",
      "metadata": {
        "id": "QTf65xxlY3uv"
      },
      "source": [
        "この他にも、**`numpy.random.randn()`**・**`numpy.random.binomial()`**・**`numpy.random.poisson()`** は、それぞれ、正規分布・二項分布・ポアソン分布の乱数からなる配列を生成します。"
      ]
    },
    {
      "cell_type": "markdown",
      "metadata": {
        "id": "gOoTPXRbY3uv"
      },
      "source": [
        "## 練習\n",
        "\n",
        "引数に整数 $n$ を取り、$i$ から始まる連番の整数からなる配列を$i$番目 ($i\\ge 0$) の行として持つ $n\\times n$ の2次元配列を返す関数 `range_square_matrix()` を、`arange()` を用いて定義してください。\n",
        "\n",
        "たとえば、`range_square_matrix(3)` は、\n",
        "```\n",
        "[[0 1 2]\n",
        " [1 2 3]\n",
        " [2 3 4]]\n",
        "```\n",
        "と印字されるような2次元配列を返します。"
      ]
    },
    {
      "cell_type": "code",
      "execution_count": 47,
      "metadata": {
        "id": "91yMRhG5Y3uv",
        "outputId": "8b5ad205-283f-4259-ca46-74c0e0b29232",
        "colab": {
          "base_uri": "https://localhost:8080/",
          "height": 317
        }
      },
      "outputs": [
        {
          "output_type": "error",
          "ename": "TypeError",
          "evalue": "can only concatenate list (not \"int\") to list",
          "traceback": [
            "\u001b[0;31m---------------------------------------------------------------------------\u001b[0m",
            "\u001b[0;31mTypeError\u001b[0m                                 Traceback (most recent call last)",
            "\u001b[0;32m/tmp/ipython-input-1505161231.py\u001b[0m in \u001b[0;36m<cell line: 0>\u001b[0;34m()\u001b[0m\n\u001b[1;32m      9\u001b[0m   \u001b[0;32mreturn\u001b[0m \u001b[0mls\u001b[0m\u001b[0;34m\u001b[0m\u001b[0;34m\u001b[0m\u001b[0m\n\u001b[1;32m     10\u001b[0m \u001b[0;34m\u001b[0m\u001b[0m\n\u001b[0;32m---> 11\u001b[0;31m \u001b[0marange_square_matrix\u001b[0m\u001b[0;34m(\u001b[0m\u001b[0;36m3\u001b[0m\u001b[0;34m)\u001b[0m\u001b[0;34m\u001b[0m\u001b[0;34m\u001b[0m\u001b[0m\n\u001b[0m",
            "\u001b[0;32m/tmp/ipython-input-1505161231.py\u001b[0m in \u001b[0;36marange_square_matrix\u001b[0;34m(n)\u001b[0m\n\u001b[1;32m      4\u001b[0m   \u001b[0;32mfor\u001b[0m \u001b[0mi\u001b[0m \u001b[0;32min\u001b[0m \u001b[0mrange\u001b[0m\u001b[0;34m(\u001b[0m\u001b[0mn\u001b[0m\u001b[0;34m)\u001b[0m\u001b[0;34m:\u001b[0m\u001b[0;34m\u001b[0m\u001b[0;34m\u001b[0m\u001b[0m\n\u001b[1;32m      5\u001b[0m     \u001b[0;32mfor\u001b[0m \u001b[0mj\u001b[0m \u001b[0;32min\u001b[0m \u001b[0mrange\u001b[0m\u001b[0;34m(\u001b[0m\u001b[0mi\u001b[0m\u001b[0;34m,\u001b[0m\u001b[0mi\u001b[0m\u001b[0;34m+\u001b[0m\u001b[0mn\u001b[0m\u001b[0;34m-\u001b[0m\u001b[0;36m1\u001b[0m\u001b[0;34m)\u001b[0m\u001b[0;34m:\u001b[0m\u001b[0;34m\u001b[0m\u001b[0;34m\u001b[0m\u001b[0m\n\u001b[0;32m----> 6\u001b[0;31m       \u001b[0mlst\u001b[0m\u001b[0;34m=\u001b[0m\u001b[0mlst\u001b[0m\u001b[0;34m+\u001b[0m\u001b[0mj\u001b[0m\u001b[0;34m\u001b[0m\u001b[0;34m\u001b[0m\u001b[0m\n\u001b[0m\u001b[1;32m      7\u001b[0m   \u001b[0mls\u001b[0m\u001b[0;34m=\u001b[0m\u001b[0mnp\u001b[0m\u001b[0;34m.\u001b[0m\u001b[0marray\u001b[0m\u001b[0;34m(\u001b[0m\u001b[0mlst\u001b[0m\u001b[0;34m)\u001b[0m\u001b[0;34m\u001b[0m\u001b[0;34m\u001b[0m\u001b[0m\n\u001b[1;32m      8\u001b[0m   \u001b[0mls\u001b[0m\u001b[0;34m=\u001b[0m\u001b[0mls\u001b[0m\u001b[0;34m.\u001b[0m\u001b[0mreshape\u001b[0m\u001b[0;34m(\u001b[0m\u001b[0mn\u001b[0m\u001b[0;34m,\u001b[0m\u001b[0mn\u001b[0m\u001b[0;34m)\u001b[0m\u001b[0;34m\u001b[0m\u001b[0;34m\u001b[0m\u001b[0m\n",
            "\u001b[0;31mTypeError\u001b[0m: can only concatenate list (not \"int\") to list"
          ]
        }
      ],
      "source": [
        "def arange_square_matrix(n):\n",
        "  import numpy as np\n",
        "  lst=[]\n",
        "  for i in range(n):\n",
        "    for j in range(i,i+n-1):\n",
        "      lst=lst+j\n",
        "  ls=np.array(lst)\n",
        "  ls=ls.reshape(n,n)\n",
        "  return ls\n",
        "\n",
        "arange_square_matrix(3)"
      ]
    },
    {
      "cell_type": "markdown",
      "metadata": {
        "id": "GedhNFPjY3uv"
      },
      "source": [
        "以下のセルを実行して、`True` が表示されることを確認してください。"
      ]
    },
    {
      "cell_type": "code",
      "execution_count": 42,
      "metadata": {
        "tags": [
          "raises-exception"
        ],
        "id": "vNRgvg6iY3uv",
        "outputId": "f5443ef4-1e55-43b3-e4ae-11ec67bc0db9",
        "colab": {
          "base_uri": "https://localhost:8080/",
          "height": 280
        }
      },
      "outputs": [
        {
          "output_type": "error",
          "ename": "TypeError",
          "evalue": "can only concatenate list (not \"int\") to list",
          "traceback": [
            "\u001b[0;31m---------------------------------------------------------------------------\u001b[0m",
            "\u001b[0;31mTypeError\u001b[0m                                 Traceback (most recent call last)",
            "\u001b[0;32m/tmp/ipython-input-2608484642.py\u001b[0m in \u001b[0;36m<cell line: 0>\u001b[0;34m()\u001b[0m\n\u001b[0;32m----> 1\u001b[0;31m \u001b[0mprint\u001b[0m\u001b[0;34m(\u001b[0m\u001b[0mall\u001b[0m\u001b[0;34m(\u001b[0m\u001b[0mmap\u001b[0m\u001b[0;34m(\u001b[0m\u001b[0mall\u001b[0m\u001b[0;34m,\u001b[0m\u001b[0;34m(\u001b[0m\u001b[0marange_square_matrix\u001b[0m\u001b[0;34m(\u001b[0m\u001b[0;36m3\u001b[0m\u001b[0;34m)\u001b[0m \u001b[0;34m==\u001b[0m \u001b[0mnp\u001b[0m\u001b[0;34m.\u001b[0m\u001b[0marray\u001b[0m\u001b[0;34m(\u001b[0m\u001b[0;34m[\u001b[0m\u001b[0;34m[\u001b[0m\u001b[0;36m0\u001b[0m\u001b[0;34m,\u001b[0m\u001b[0;36m1\u001b[0m\u001b[0;34m,\u001b[0m\u001b[0;36m2\u001b[0m\u001b[0;34m]\u001b[0m\u001b[0;34m,\u001b[0m\u001b[0;34m[\u001b[0m\u001b[0;36m1\u001b[0m\u001b[0;34m,\u001b[0m\u001b[0;36m2\u001b[0m\u001b[0;34m,\u001b[0m\u001b[0;36m3\u001b[0m\u001b[0;34m]\u001b[0m\u001b[0;34m,\u001b[0m\u001b[0;34m[\u001b[0m\u001b[0;36m2\u001b[0m\u001b[0;34m,\u001b[0m\u001b[0;36m3\u001b[0m\u001b[0;34m,\u001b[0m\u001b[0;36m4\u001b[0m\u001b[0;34m]\u001b[0m\u001b[0;34m]\u001b[0m\u001b[0;34m)\u001b[0m\u001b[0;34m)\u001b[0m\u001b[0;34m)\u001b[0m\u001b[0;34m)\u001b[0m\u001b[0;34m)\u001b[0m\u001b[0;34m\u001b[0m\u001b[0;34m\u001b[0m\u001b[0m\n\u001b[0m",
            "\u001b[0;32m/tmp/ipython-input-2182004990.py\u001b[0m in \u001b[0;36marange_square_matrix\u001b[0;34m(n)\u001b[0m\n\u001b[1;32m      3\u001b[0m   \u001b[0;32mfor\u001b[0m \u001b[0mi\u001b[0m \u001b[0;32min\u001b[0m \u001b[0mrange\u001b[0m\u001b[0;34m(\u001b[0m\u001b[0mn\u001b[0m\u001b[0;34m)\u001b[0m\u001b[0;34m:\u001b[0m\u001b[0;34m\u001b[0m\u001b[0;34m\u001b[0m\u001b[0m\n\u001b[1;32m      4\u001b[0m     \u001b[0;32mfor\u001b[0m \u001b[0mj\u001b[0m \u001b[0;32min\u001b[0m \u001b[0mrange\u001b[0m\u001b[0;34m(\u001b[0m\u001b[0mi\u001b[0m\u001b[0;34m,\u001b[0m\u001b[0mn\u001b[0m\u001b[0;34m)\u001b[0m\u001b[0;34m:\u001b[0m\u001b[0;34m\u001b[0m\u001b[0;34m\u001b[0m\u001b[0m\n\u001b[0;32m----> 5\u001b[0;31m       \u001b[0mlst\u001b[0m\u001b[0;34m=\u001b[0m\u001b[0mlst\u001b[0m\u001b[0;34m+\u001b[0m\u001b[0mj\u001b[0m\u001b[0;34m\u001b[0m\u001b[0;34m\u001b[0m\u001b[0m\n\u001b[0m\u001b[1;32m      6\u001b[0m   \u001b[0mls\u001b[0m\u001b[0;34m=\u001b[0m\u001b[0marray\u001b[0m\u001b[0;34m(\u001b[0m\u001b[0mlst\u001b[0m\u001b[0;34m)\u001b[0m\u001b[0;34m\u001b[0m\u001b[0;34m\u001b[0m\u001b[0m\n\u001b[1;32m      7\u001b[0m   \u001b[0mls\u001b[0m\u001b[0;34m=\u001b[0m\u001b[0mls\u001b[0m\u001b[0;34m.\u001b[0m\u001b[0mreshape\u001b[0m\u001b[0;34m(\u001b[0m\u001b[0mn\u001b[0m\u001b[0;34m,\u001b[0m\u001b[0mn\u001b[0m\u001b[0;34m)\u001b[0m\u001b[0;34m\u001b[0m\u001b[0;34m\u001b[0m\u001b[0m\n",
            "\u001b[0;31mTypeError\u001b[0m: can only concatenate list (not \"int\") to list"
          ]
        }
      ],
      "source": [
        "print(all(map(all,(arange_square_matrix(3) == np.array([[0,1,2],[1,2,3],[2,3,4]])))))"
      ]
    },
    {
      "cell_type": "markdown",
      "metadata": {
        "id": "nL9fynsSY3uw"
      },
      "source": [
        "## 配列要素の操作\n",
        "\n",
        "### インデックスアクセス\n",
        "\n",
        "配列の要素には、リストの場合と同様に、`0` から始まるインデックスを使って参照できます。\n",
        "リストと同じく、配列の先頭要素のインデックスは `0`、最後の要素のインデックスは `-1` となります。"
      ]
    },
    {
      "cell_type": "code",
      "execution_count": null,
      "metadata": {
        "id": "dwFUU83QY3uw"
      },
      "outputs": [],
      "source": [
        "a = np.arange(3)\n",
        "print(a)"
      ]
    },
    {
      "cell_type": "code",
      "execution_count": null,
      "metadata": {
        "id": "tlM85l57Y3uw"
      },
      "outputs": [],
      "source": [
        "a[0]"
      ]
    },
    {
      "cell_type": "code",
      "execution_count": null,
      "metadata": {
        "id": "cOqtf5g1Y3uw"
      },
      "outputs": [],
      "source": [
        "a[-1]"
      ]
    },
    {
      "cell_type": "code",
      "execution_count": null,
      "metadata": {
        "id": "fBEWLWG6Y3ux"
      },
      "outputs": [],
      "source": [
        "a[-1] = 3 # 要素への代入もできる\n",
        "print(a)"
      ]
    },
    {
      "cell_type": "markdown",
      "metadata": {
        "id": "x559Kdb0Y3ux"
      },
      "source": [
        "多次元配列では、高次元（入れ子の外側）から順にインデックスを指定します。\n",
        "特に2次元配列、すなわち行列の場合は、行インデックスと列インデックスを順に指定します。"
      ]
    },
    {
      "cell_type": "code",
      "execution_count": null,
      "metadata": {
        "id": "xIGFB0ArY3ux"
      },
      "outputs": [],
      "source": [
        "a = np.arange(6).reshape(2,3)\n",
        "print(a)"
      ]
    },
    {
      "cell_type": "code",
      "execution_count": null,
      "metadata": {
        "id": "40SdN3J8Y3ux"
      },
      "outputs": [],
      "source": [
        "a[1,2] # 行と列のインデックスをまとめて指定"
      ]
    },
    {
      "cell_type": "code",
      "execution_count": null,
      "metadata": {
        "id": "XCv6BIMoY3ux"
      },
      "outputs": [],
      "source": [
        "a[1,2] = 6 # 要素への代入もできる\n",
        "print(a)"
      ]
    },
    {
      "cell_type": "markdown",
      "metadata": {
        "id": "Sp4dEUUHY3ux"
      },
      "source": [
        "### スライス\n",
        "\n",
        "リストと同様に、配列の**スライス**を構築できます。"
      ]
    },
    {
      "cell_type": "code",
      "execution_count": null,
      "metadata": {
        "id": "Wm_FJE5nY3uy"
      },
      "outputs": [],
      "source": [
        "a = np.arange(5)\n",
        "print(a)\n",
        "print(a[1:4])\n",
        "print(a[1:])\n",
        "print(a[:-2])\n",
        "print(a[::2])\n",
        "print(a[::-1])"
      ]
    },
    {
      "cell_type": "markdown",
      "metadata": {
        "id": "c5wjiws8Y3uy"
      },
      "source": [
        "配列のスライスに対して代入すると、右辺の値がコピーされて、スライス元の配列にまとめて代入されます。"
      ]
    },
    {
      "cell_type": "code",
      "execution_count": null,
      "metadata": {
        "id": "8rBXrUVdY3uy"
      },
      "outputs": [],
      "source": [
        "a = np.arange(5)\n",
        "print(a)\n",
        "a[1:4] = 6\n",
        "print(a)\n",
        "a = np.arange(5)\n",
        "a[::2] = 6\n",
        "print(a)"
      ]
    },
    {
      "cell_type": "markdown",
      "metadata": {
        "id": "oUWpwpGrY3uy"
      },
      "source": [
        "一方、リストに対しては、以下はエラーになります。"
      ]
    },
    {
      "cell_type": "code",
      "execution_count": null,
      "metadata": {
        "tags": [
          "raises-exception"
        ],
        "id": "ELz1KWVmY3uy"
      },
      "outputs": [],
      "source": [
        "a = [0,1,2,3,4]\n",
        "print(a)\n",
        "a[1:4] = 6"
      ]
    },
    {
      "cell_type": "code",
      "execution_count": null,
      "metadata": {
        "id": "n9RsVJCIY3uy"
      },
      "outputs": [],
      "source": [
        "a = [0,1,2,3,4]\n",
        "print(a)\n",
        "a[1:4] = [6]\n",
        "print(a)"
      ]
    },
    {
      "cell_type": "markdown",
      "metadata": {
        "id": "ugoiRVMzY3uz"
      },
      "source": [
        "このように、配列のスライスに対する代入の振舞いは、リストの場合と異なることに注意してください。\n",
        "\n",
        "多次元配列に対しては、インデックスの参照と同様に、高い次元のスライスから順に並べて指定します。"
      ]
    },
    {
      "cell_type": "code",
      "execution_count": null,
      "metadata": {
        "id": "eWBF7BbQY3uz"
      },
      "outputs": [],
      "source": [
        "a = np.arange(9).reshape(3,3)\n",
        "print(a)\n",
        "print(a[:2,:2])\n",
        "print(a[1:,1:])"
      ]
    },
    {
      "cell_type": "markdown",
      "metadata": {
        "id": "JY43AvYsY3uz"
      },
      "source": [
        "多次元配列に対するスライスは、入れ子リストに対するスライスとは意味が異なることに注意してください。"
      ]
    },
    {
      "cell_type": "markdown",
      "metadata": {
        "id": "-hr9vGGLY3uz"
      },
      "source": [
        "### for文\n",
        "\n",
        "リストと同様に、for文を用いて、配列要素への反復処理を記述できます。"
      ]
    },
    {
      "cell_type": "code",
      "execution_count": null,
      "metadata": {
        "id": "NXEW0qjbY3uz"
      },
      "outputs": [],
      "source": [
        "for v in np.arange(3):\n",
        "    print(v)"
      ]
    },
    {
      "cell_type": "markdown",
      "metadata": {
        "id": "m9JIHvWkY3uz"
      },
      "source": [
        "多次元配列の場合は、最外の配列に対して反復します。\n",
        "つまり、2次元配列の場合、行の配列に対する反復処理となります。"
      ]
    },
    {
      "cell_type": "code",
      "execution_count": null,
      "metadata": {
        "id": "wYZfP0ApY3uz"
      },
      "outputs": [],
      "source": [
        "for row in np.arange(6).reshape(2,3):\n",
        "    print(row)"
      ]
    },
    {
      "cell_type": "markdown",
      "metadata": {
        "id": "RIc7xNd6Y3u0"
      },
      "source": [
        "for文と併用される `enumerate()` の多次元配列版として、`numpy.ndenumerate()` 関数が提供されています。\n",
        "`numpy.ndenumerate()` は、（多次元）インデックスと要素の組を列挙します。"
      ]
    },
    {
      "cell_type": "code",
      "execution_count": null,
      "metadata": {
        "id": "M68mlCMTY3u0"
      },
      "outputs": [],
      "source": [
        "for idx, e in np.ndenumerate(np.arange(6).reshape(2,3)):\n",
        "    print(idx, e)"
      ]
    },
    {
      "cell_type": "code",
      "execution_count": null,
      "metadata": {
        "id": "dqru8QqhY3u0"
      },
      "outputs": [],
      "source": [
        "for idx, e in np.ndenumerate(np.arange(3)):\n",
        "    print(idx, e)"
      ]
    },
    {
      "cell_type": "markdown",
      "metadata": {
        "id": "RQHhXU8eY3u0"
      },
      "source": [
        "## 要素毎の演算\n",
        "\n",
        "配列に対する要素毎の演算は、簡潔に記述できます。\n",
        "しかも、for文で記述するより、効率がよいです。\n",
        "要素毎の演算を上手く使えるかどうかが、NumPyプログラミングの肝と言っても過言ではないでしょう。\n",
        "\n",
        "### **配列のスカラ演算**\n",
        "\n",
        "配列とスカラとの算術演算を記述すると、要素毎のスカラ演算となります。\n",
        "演算結果として、新しい配列が返ります。"
      ]
    },
    {
      "cell_type": "code",
      "execution_count": null,
      "metadata": {
        "id": "UUoY0wWSY3u0"
      },
      "outputs": [],
      "source": [
        "a = np.arange(4)\n",
        "print(a)\n",
        "\n",
        "print(a + 1) # 各要素に1を加算\n",
        "print(a - 1) # 各要素に1を減算\n",
        "print(a * 2) # 各要素に2を乗算\n",
        "print(a / 2) # 各要素を2で除算\n",
        "print(a // 2) # 各要素を2で整数除算\n",
        "print(a % 2) # 各要素に2の剰余演算\n",
        "print(a ** 2) # 各要素を2乗\n",
        "\n",
        "print(1 + a) # 左側がスカラでもよい\n",
        "print(1 - a) # 左側がスカラでもよい\n",
        "print(2 * a) # 左側がスカラでもよい\n",
        "b = a + 1\n",
        "print(1 / b) # 左側がスカラでもよい\n",
        "print(9 // b) # 左側がスカラでもよい"
      ]
    },
    {
      "cell_type": "markdown",
      "metadata": {
        "id": "UMWtP1LAY3u0"
      },
      "source": [
        "### **配列同士の演算**\n",
        "\n",
        "形が同じ配列同士の算術演算は、同じ位置の要素同士の演算となります。\n",
        "演算結果として、新しい配列が返ります。"
      ]
    },
    {
      "cell_type": "code",
      "execution_count": null,
      "metadata": {
        "id": "eHQL-PQFY3u1"
      },
      "outputs": [],
      "source": [
        "a = np.arange(4).reshape(2,2)\n",
        "b = np.arange(1,5).reshape(2,2)\n",
        "print(a)\n",
        "print(b)\n",
        "print(a + b)\n",
        "print(a - b)\n",
        "print(a * b)\n",
        "print(a / b)\n",
        "c = 3 * a\n",
        "print(c // b)\n",
        "print(a % b)\n",
        "print(a ** b)"
      ]
    },
    {
      "cell_type": "markdown",
      "metadata": {
        "id": "WHZXvJOAY3u1"
      },
      "source": [
        "実は、形が同じでない配列同士の算術演算も可能ですが、振舞いが複雑なので間違いやすいです。\n",
        "配列同士の算術演算は、形が同じ配列に限定する方が賢明です。"
      ]
    },
    {
      "cell_type": "markdown",
      "metadata": {
        "id": "HXD3nXCGY3u1"
      },
      "source": [
        "### ユニバーサル関数\n",
        "\n",
        "NumPyには**ユニバーサル関数**と呼ばれる、任意の形の配列を取り、各要素に所定の演算を与えた結果を返す関数があります。\n",
        "その代表例は、**`numpy.sqrt()`** 関数です。"
      ]
    },
    {
      "cell_type": "code",
      "execution_count": null,
      "metadata": {
        "id": "pUydDi2nY3u1"
      },
      "outputs": [],
      "source": [
        "a = np.zeros(3) + 2\n",
        "print(a)\n",
        "print(np.sqrt(a)) # 各要素はsqrt(2)\n",
        "b = np.zeros((2,2)) + 2\n",
        "print(np.sqrt(b)) # 各要素はsqrt(2)\n",
        "print(np.sqrt(2)) # スカラ（0次元配列）も扱える"
      ]
    },
    {
      "cell_type": "markdown",
      "metadata": {
        "id": "yvlTlabqY3u1"
      },
      "source": [
        "この他にも、多数のユニバーサル関数が提供されています。\n",
        "詳しくは、[ユニバーサル関数の一覧](https://docs.scipy.org/doc/numpy-1.14.0/reference/ufuncs.html#available-ufuncs)を参照してください。"
      ]
    },
    {
      "cell_type": "markdown",
      "metadata": {
        "id": "upc9BOXfY3u1"
      },
      "source": [
        "## よく使われる配列操作\n",
        "### `dot`\n",
        "\n",
        "**`numpy.dot()`** は、2つの配列を引数に取り、そのドット積を返します。\n",
        "両者が1次元配列のときは、ベクトル内積と等しいです。"
      ]
    },
    {
      "cell_type": "code",
      "execution_count": null,
      "metadata": {
        "id": "hNKlm0vXY3u1"
      },
      "outputs": [],
      "source": [
        "np.dot(np.arange(4), np.arange(1,5)) # 0*1 + 1*2 + 2*3 + 3*4"
      ]
    },
    {
      "cell_type": "markdown",
      "metadata": {
        "id": "ot3Hx2HMY3u2"
      },
      "source": [
        "2次元配列同士だと、行列乗算と等しいです。"
      ]
    },
    {
      "cell_type": "code",
      "execution_count": null,
      "metadata": {
        "id": "TvdBi-DAY3u2"
      },
      "outputs": [],
      "source": [
        "# [[0 1]     [[1 2]\n",
        "#  [2 3]] と  [3 4]] の行列積\n",
        "print(np.dot(np.arange(4).reshape(2,2), np.arange(1,5).reshape(2,2)))"
      ]
    },
    {
      "cell_type": "markdown",
      "metadata": {
        "id": "6dfboBKjY3u2"
      },
      "source": [
        "### `sort`\n",
        "\n",
        "**`numpy.sort()`** 関数は、昇順でソートされた新しい配列を返します。\n",
        "これは、組み込み関数 `sorted()` の配列版です。"
      ]
    },
    {
      "cell_type": "code",
      "execution_count": null,
      "metadata": {
        "id": "7Pm_l-sAY3u2"
      },
      "outputs": [],
      "source": [
        "a = np.array([3, 4, -1, 0, 2])\n",
        "print(a)\n",
        "print(np.sort(a))"
      ]
    },
    {
      "cell_type": "markdown",
      "metadata": {
        "id": "gSB_qmZdY3u2"
      },
      "source": [
        "一方、配列の **`sort()`** メソッドは、配列を破壊的に（インプレースで）ソートします。\n",
        "これは、リストの `sort()` メソッドの配列版です。"
      ]
    },
    {
      "cell_type": "code",
      "execution_count": null,
      "metadata": {
        "id": "I2i-HsNOY3u3"
      },
      "outputs": [],
      "source": [
        "a = np.array([3, 4, -1, 0, 2])\n",
        "print(a)\n",
        "a.sort()\n",
        "print(a)"
      ]
    },
    {
      "cell_type": "markdown",
      "metadata": {
        "id": "ho4kexvCY3u3"
      },
      "source": [
        "### `sum`, `max`, `min`, `mean`\n",
        "\n",
        "配列のメソッド **`sum()`**・**`max()`**・**`min()`**・**`mean()`** は、それぞれ総和・最大値・最小値・算術平均を返します。\n",
        "これらのメソッドは、引数が与えられない場合、全要素を集計した結果を返します。\n",
        "多次元配列の場合、集計する次元を指定できます。\n",
        "具体的には、2次元配列の場合、`0` を指定すると各列に、`1` を指定すると各行に、対応するメソッドを適用した結果が返されます。"
      ]
    },
    {
      "cell_type": "code",
      "execution_count": null,
      "metadata": {
        "id": "MpRFLM86Y3u3"
      },
      "outputs": [],
      "source": [
        "a = np.arange(6).reshape(2,3)\n",
        "print(a)\n",
        "print(a.sum())\n",
        "print(a.sum(0))\n",
        "print(a.sum(1))"
      ]
    },
    {
      "cell_type": "markdown",
      "metadata": {
        "id": "pfBg1CReY3u3"
      },
      "source": [
        "この他にも、多数の数学・統計関連のメソッドや関数が提供されています。\n",
        "詳しくは、[数学関数](https://docs.scipy.org/doc/numpy/reference/routines.math.html)や[統計関数](https://docs.scipy.org/doc/numpy/reference/routines.statistics.html)を参照してください。"
      ]
    },
    {
      "cell_type": "markdown",
      "metadata": {
        "id": "dUhMl6N_Y3u3"
      },
      "source": [
        "## 配列の保存と復元\n",
        "\n",
        "配列は、ファイルに保存したり、ファイルから読み出したりすることが、簡単にできます。\n",
        "\n",
        "**`numpy.savetxt()`** 関数は、与えられた配列を指定されたファイル名をつけてテキスト形式で保存します。"
      ]
    },
    {
      "cell_type": "code",
      "execution_count": null,
      "metadata": {
        "id": "mmwPhqPzY3u3"
      },
      "outputs": [],
      "source": [
        "np.savetxt('arange3.txt', np.arange(3))"
      ]
    },
    {
      "cell_type": "markdown",
      "metadata": {
        "id": "pVj2QwkCY3u3"
      },
      "source": [
        "この `arange3.txt` は、次のような内容になっているはずです。\n",
        "```\n",
        "0.000000000000000000e+00\n",
        "1.000000000000000000e+00\n",
        "2.000000000000000000e+00\n",
        "```\n",
        "2次元配列は、列が空白区切りで保存されます"
      ]
    },
    {
      "cell_type": "code",
      "execution_count": null,
      "metadata": {
        "id": "S0haffrtY3u3"
      },
      "outputs": [],
      "source": [
        "np.savetxt('arange2x3.txt', np.arange(6).reshape(2,3))"
      ]
    },
    {
      "cell_type": "markdown",
      "metadata": {
        "id": "zDJtPFkNY3u4"
      },
      "source": [
        "この `arange2x3.txt` は、次のような内容になっているはずです。\n",
        "```\n",
        "0.000000000000000000e+00 1.000000000000000000e+00 2.000000000000000000e+00\n",
        "3.000000000000000000e+00 4.000000000000000000e+00 5.000000000000000000e+00\n",
        "```\n",
        "\n",
        "一方、**`numpy.loadtxt()`** 関数は、与えられた名前のファイルに保存された配列を復元します。"
      ]
    },
    {
      "cell_type": "code",
      "execution_count": null,
      "metadata": {
        "id": "VEDuQqTLY3u4"
      },
      "outputs": [],
      "source": [
        "a = np.loadtxt('arange2x3.txt')\n",
        "print(a)"
      ]
    },
    {
      "cell_type": "markdown",
      "metadata": {
        "id": "VFELzpMmY3u4"
      },
      "source": [
        "保存するときに、列の区切り文字をデフォルトの `' '` 以外にしたい場合、`savetxt()` の `delimiter` 引数に区切り文字（列）を指定します。これを復元するときには、`loadtxt()` の `delimiter` 引数に同じ値を指定する必要があります。\n",
        "ただし、区切り文字列はASCII（正確にはLatin-1）で解釈可能でなければなりません。\n",
        "\n",
        "大規模な配列をテキスト形式で保存すると、ファイルサイズがとても大きくなります。\n",
        "そういう場合、圧縮保存が有用です。\n",
        "\n",
        "保存するファイル名の拡張子を `.gz` とすることで、`savetxt()` は自動的にGZip形式で圧縮して保存します。\n",
        "復元するファイル名の拡張子が `.gz` であれば、`loadtxt()` はGZip形式だと判断して、自動的に解凍して復元します。"
      ]
    },
    {
      "cell_type": "markdown",
      "metadata": {
        "id": "ufZ_H2IYY3u4"
      },
      "source": [
        "## ▲**真理値配列によるインデックスアクセス**\n",
        "\n",
        "配列に対して、比較演算を適用すると、算術演算と同様に要素毎に演算されて、真理値の配列が返ります。"
      ]
    },
    {
      "cell_type": "code",
      "execution_count": null,
      "metadata": {
        "id": "tr6j287VY3u4"
      },
      "outputs": [],
      "source": [
        "a = np.arange(6)\n",
        "print(a)\n",
        "print(a < 3)"
      ]
    },
    {
      "cell_type": "markdown",
      "metadata": {
        "id": "Ccs4InwTY3u4"
      },
      "source": [
        "このように作られた真理値配列は、インデックスとして利用することができます。\n",
        "これによって、条件を満たす範囲を取り出すような記述が可能になります。\n",
        "次の具体例を見てみましょう。"
      ]
    },
    {
      "cell_type": "code",
      "execution_count": null,
      "metadata": {
        "id": "BwvpTvQrY3u4"
      },
      "outputs": [],
      "source": [
        "a = np.array([0,1,2,-3,-4,5,-6,-7])\n",
        "print(a)\n",
        "print(a[a < 0]) # 負の要素を取り出し\n",
        "print(a[(a < 0) & (a % 2 == 0)]) # 負で偶数の要素を取り出し\n",
        "a[a < 0] = 8 # 負の要素を8に上書き\n",
        "print(a)"
      ]
    },
    {
      "cell_type": "markdown",
      "metadata": {
        "id": "XJJJuwTRY3u4"
      },
      "source": [
        "一見すると単なる条件式のように見えますが、インデックスとなるのは真理値ではなく真理値の配列です。\n",
        "したがって、真理値を返す `and`・`or`・`not` の代わりに、要素毎の演算を行う `&`・`|`・`~` を用いる必要があります。\n",
        "\n",
        "同様の記法は、7-1で扱うpandasライブラリでも利用されます。"
      ]
    },
    {
      "cell_type": "markdown",
      "metadata": {
        "id": "HbsnhU3BY3u5"
      },
      "source": [
        "## ▲線形代数の演算\n",
        "\n",
        "`numpy.dot()` は、2次元配列を与えたときには、行列積となりました。\n",
        "それだけでなく、行列積専用の **`numpy.matmul()`** も提供されています。\n",
        "\n",
        "また、単位行列は **`numpy.identity()`** 関数で作成することができます。\n",
        "引数に行列のサイズを指定します。"
      ]
    },
    {
      "cell_type": "code",
      "execution_count": null,
      "metadata": {
        "id": "1AMRLu9gY3u5"
      },
      "outputs": [],
      "source": [
        "I = np.identity(3)\n",
        "print(I)\n",
        "a = np.arange(9).reshape(3,3)\n",
        "print(a)\n",
        "print(np.matmul(a, I))"
      ]
    },
    {
      "cell_type": "markdown",
      "metadata": {
        "id": "ZYxlDkrJY3u5"
      },
      "source": [
        "**`numpy.linalg.norm()`** 関数は、与えられたベクトル（1次元配列）もしくは行列（2次元配列）のノルムを返します。"
      ]
    },
    {
      "cell_type": "code",
      "execution_count": null,
      "metadata": {
        "id": "PTLokAWzY3u5"
      },
      "outputs": [],
      "source": [
        "np.linalg.norm(np.ones(3)) # ユークリッドノルムを計算するのでsqrt(3)と等しい"
      ]
    },
    {
      "cell_type": "markdown",
      "metadata": {
        "id": "FXiJxXHQY3u5"
      },
      "source": [
        "NumPyでは、行列の分解、転置、行列式などの計算を含む線形代数の演算は、**`numpy.linalg`** モジュールで提供されています。\n",
        "詳しくは、[線形代数関連関数](https://docs.scipy.org/doc/numpy/reference/routines.linalg.html)を参照してください。"
      ]
    },
    {
      "cell_type": "markdown",
      "metadata": {
        "id": "-Bjr6ZOWY3u5"
      },
      "source": [
        "## 練習の解答"
      ]
    },
    {
      "cell_type": "code",
      "execution_count": null,
      "metadata": {
        "id": "Fo_BUg-CY3u5"
      },
      "outputs": [],
      "source": [
        "def arange_square_matrix(n):\n",
        "    return np.array([np.arange(i, n+i) for i in range(n)])"
      ]
    }
  ],
  "metadata": {
    "kernelspec": {
      "display_name": "Python 3",
      "language": "python",
      "name": "python3"
    },
    "language_info": {
      "name": "python"
    },
    "colab": {
      "provenance": []
    }
  },
  "nbformat": 4,
  "nbformat_minor": 0
}