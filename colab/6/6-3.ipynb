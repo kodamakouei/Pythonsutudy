{
  "cells": [
    {
      "cell_type": "code",
      "execution_count": 2,
      "metadata": {
        "id": "Rmfi8K6UWiHY",
        "outputId": "3c206add-3fd5-4f49-ee19-87b3e81551a0",
        "colab": {
          "base_uri": "https://localhost:8080/"
        }
      },
      "outputs": [
        {
          "output_type": "stream",
          "name": "stdout",
          "text": [
            "--2025-09-09 08:40:14--  https://raw.githubusercontent.com/utokyo-ipp/utokyo-ipp.github.io/master/colab/6/jugemu.txt\n",
            "Resolving raw.githubusercontent.com (raw.githubusercontent.com)... 185.199.110.133, 185.199.111.133, 185.199.108.133, ...\n",
            "Connecting to raw.githubusercontent.com (raw.githubusercontent.com)|185.199.110.133|:443... connected.\n",
            "HTTP request sent, awaiting response... 200 OK\n",
            "Length: 366 [text/plain]\n",
            "Saving to: ‘./jugemu.txt.1’\n",
            "\n",
            "jugemu.txt.1        100%[===================>]     366  --.-KB/s    in 0s      \n",
            "\n",
            "2025-09-09 08:40:14 (6.36 MB/s) - ‘./jugemu.txt.1’ saved [366/366]\n",
            "\n"
          ]
        }
      ],
      "source": [
        "##================================================\n",
        "## このセルを最初に実行せよ---Run this cell first.\n",
        "##================================================\n",
        "!wget -P . https://raw.githubusercontent.com/utokyo-ipp/utokyo-ipp.github.io/master/colab/6/jugemu.txt"
      ]
    },
    {
      "cell_type": "markdown",
      "metadata": {
        "id": "LxmMfQepWiHb"
      },
      "source": [
        "# 6-3. クラス\n",
        "\n",
        "Pythonにおけるオブジェクト指向プログラミングのうち、クラスを定義する方法について簡単に説明します。\n",
        "\n",
        "参考\n",
        "\n",
        "- https://docs.python.org/ja/3/tutorial/classes.html\n",
        "- https://docs.python.org/ja/3/reference/datamodel.html"
      ]
    },
    {
      "cell_type": "markdown",
      "metadata": {
        "id": "veEpyPsMWiHd"
      },
      "source": [
        "## クラス定義\n",
        "\n",
        "Pythonでは全てのデータはオブジェクトなのですが、\n",
        "以下では特に、クラス定義によって作成されたクラスを型とするデータを扱います。\n",
        "このようなデータは、**オブジェクト指向プログラミング**における典型的な**オブジェクト**です。\n",
        "そこで以下では、オブジェクトという用語をもっぱら使います。\n",
        "\n",
        "4-1で見たように、ファイルオブジェクトに対して `readline()` というメソッドを呼び出すと、\n",
        "ファイルの行が文字列として次々と返されます。\n",
        "ここでは、ファイルオブジェクトのようなオブジェクトで、\n",
        "`readline()` というメソッドが呼び出されると、常に `'Hello.\\n'` という文字列を返すようなものを作ってみましょう。\n",
        "\n",
        "そのためには、新しいクラスを定義します。\n",
        "**クラス**とは、オブジェクトの種類を意味します。\n",
        "新しいクラスを定義すると、そのクラスに属するオブジェクトを作ることができるようになります。\n",
        "それらのオブジェクトの型は、その新しいクラスになります。\n",
        "\n",
        "ここでは、ずっと `'Hello.\\n'` を返し続けるので、\n",
        "`HelloForEver` という名前を持つクラスを定義しましょう。\n",
        "そして、`HelloForEver` というクラスを型とするオブジェクトを作ります。"
      ]
    },
    {
      "cell_type": "code",
      "execution_count": 3,
      "metadata": {
        "id": "KBfSShrUWiHe"
      },
      "outputs": [],
      "source": [
        "class HelloForEver:\n",
        "    def readline(self):\n",
        "        return 'Hello.\\n'"
      ]
    },
    {
      "cell_type": "markdown",
      "metadata": {
        "id": "x0KR-1SwWiHe"
      },
      "source": [
        "一般にクラス定義は、以下のような形をしています。\n",
        "\n",
        "---\n",
        "```Python\n",
        "class クラス名:\n",
        "    def メソッド名(self, 引数, ...):\n",
        "        実行文\n",
        "    def メソッド名(self, 引数, ...):\n",
        "        実行文\n",
        "    ...\n",
        "```\n",
        "---\n",
        "メソッド定義は関数定義と同じ形をしていますが、\n",
        "クラス定義の中に入っています。\n",
        "メソッド定義において、その最初の引数には慣例として `self` という名前を付けます。\n",
        "この引数には、メソッドが呼び出されたオブジェクト自身が渡されます。\n",
        "\n",
        "上の例では、`readline` というメソッドが1つ定義されています。\n",
        "\n",
        "以下のようにして、このクラスのオブジェクトを作ることができます。"
      ]
    },
    {
      "cell_type": "code",
      "execution_count": 7,
      "metadata": {
        "id": "1bomn8I2WiHf"
      },
      "outputs": [],
      "source": [
        "f = HelloForEver()\n"
      ]
    },
    {
      "cell_type": "markdown",
      "metadata": {
        "id": "YjaOH997WiHf"
      },
      "source": [
        "`HelloForEver` を型とする新しいオブジェクトが作られて変数 `f` の値となります。\n",
        "\n",
        "一般に、オブジェクトの生成は、\n",
        "\n",
        "---\n",
        "```Python\n",
        "クラス名(式, ...)\n",
        "```\n",
        "---\n",
        "という式で行います。このようにオブジェクトを生成する式は**コンストラクタ**と呼ばれます。\n",
        "なお、上の例では、括弧の中に式は1つもありません。"
      ]
    },
    {
      "cell_type": "markdown",
      "metadata": {
        "id": "TQzfhDB9WiHg"
      },
      "source": [
        "このようにして作ったオブジェクトの型を確認してください。"
      ]
    },
    {
      "cell_type": "code",
      "execution_count": 5,
      "metadata": {
        "id": "JjCwrJv3WiHg",
        "outputId": "e012db29-fa4b-41d1-8879-89fcc17934e6",
        "colab": {
          "base_uri": "https://localhost:8080/"
        }
      },
      "outputs": [
        {
          "output_type": "execute_result",
          "data": {
            "text/plain": [
              "__main__.HelloForEver"
            ]
          },
          "metadata": {},
          "execution_count": 5
        }
      ],
      "source": [
        "type(f)"
      ]
    },
    {
      "cell_type": "markdown",
      "metadata": {
        "id": "CdPpnk5ZWiHg"
      },
      "source": [
        "`__main__.HelloForEver` と表示されたでしょう。\n",
        "`__main__` は、ノートブックの式が評価されているモジュールを指すので、\n",
        "このオブジェクトの型が、上で定義した `HelloForEver` クラスであることがわかります。\n",
        "クラスのコンストラクタによって生成されたオブジェクトを、そのクラスの**インスタンス**と言います。\n",
        "上のオブジェクトは `HelloForEver` クラスのインスタンスです。\n",
        "\n",
        "オブジェクトそのものは以下のように表示されます。"
      ]
    },
    {
      "cell_type": "code",
      "execution_count": 8,
      "metadata": {
        "id": "aqFPgsSVWiHh",
        "outputId": "f7436b33-fd0e-404e-b486-44fa753b4f9f",
        "colab": {
          "base_uri": "https://localhost:8080/"
        }
      },
      "outputs": [
        {
          "output_type": "execute_result",
          "data": {
            "text/plain": [
              "<__main__.HelloForEver at 0x7ea9956b9a90>"
            ]
          },
          "metadata": {},
          "execution_count": 8
        }
      ],
      "source": [
        "f"
      ]
    },
    {
      "cell_type": "markdown",
      "metadata": {
        "id": "ZsaNQMOjWiHh"
      },
      "source": [
        "このオブジェクトに対して、`readline` というメソッドを呼び出すことができます。"
      ]
    },
    {
      "cell_type": "code",
      "execution_count": 9,
      "metadata": {
        "id": "_vycjvGjWiHh",
        "outputId": "1d770423-9827-4006-c66c-9e31ac4b7088",
        "colab": {
          "base_uri": "https://localhost:8080/",
          "height": 35
        }
      },
      "outputs": [
        {
          "output_type": "execute_result",
          "data": {
            "text/plain": [
              "'Hello.\\n'"
            ],
            "application/vnd.google.colaboratory.intrinsic+json": {
              "type": "string"
            }
          },
          "metadata": {},
          "execution_count": 9
        }
      ],
      "source": [
        "f.readline()"
      ]
    },
    {
      "cell_type": "markdown",
      "metadata": {
        "id": "Dj61zj0sWiHh"
      },
      "source": [
        "この例では、`f` という変数に入っているオブジェクトが `self` という引数に渡されて、\n",
        "`readline` の本体である以下の文が実行されました。\n",
        "\n",
        "---\n",
        "```Python\n",
        "    return 'Hello.\\n'\n",
        "```\n",
        "---\n",
        "（この例では `self` は参照されていません。）\n",
        "\n",
        "何回やっても同じです。"
      ]
    },
    {
      "cell_type": "code",
      "execution_count": 10,
      "metadata": {
        "id": "1XR4kuU_WiHh",
        "outputId": "e5df27d5-61e5-4b9f-eaf5-a4256e0d7de6",
        "colab": {
          "base_uri": "https://localhost:8080/",
          "height": 35
        }
      },
      "outputs": [
        {
          "output_type": "execute_result",
          "data": {
            "text/plain": [
              "'Hello.\\n'"
            ],
            "application/vnd.google.colaboratory.intrinsic+json": {
              "type": "string"
            }
          },
          "metadata": {},
          "execution_count": 10
        }
      ],
      "source": [
        "f.readline()"
      ]
    },
    {
      "cell_type": "code",
      "execution_count": 11,
      "metadata": {
        "id": "zvr9sXP7WiHi",
        "outputId": "fee4b635-290e-44b0-a08d-e679a97eff2a",
        "colab": {
          "base_uri": "https://localhost:8080/",
          "height": 35
        }
      },
      "outputs": [
        {
          "output_type": "execute_result",
          "data": {
            "text/plain": [
              "'Hello.\\n'"
            ],
            "application/vnd.google.colaboratory.intrinsic+json": {
              "type": "string"
            }
          },
          "metadata": {},
          "execution_count": 11
        }
      ],
      "source": [
        "f.readline()"
      ]
    },
    {
      "cell_type": "markdown",
      "metadata": {
        "id": "gM4lHae1WiHi"
      },
      "source": [
        "## 初期化と属性\n",
        "\n",
        "以下の例では、初期化のメソッドが定義され、オブジェクトに属性が与えられます。\n",
        "\n",
        "**初期化**のメソッドは **`__init__`** という名前を持ち、\n",
        "オブジェクトが作られたときに自動的に呼び出されます。\n",
        "`__init__` の引数は、オブジェクト自身と、クラス名の後に与えられる式の値です。"
      ]
    },
    {
      "cell_type": "code",
      "execution_count": 12,
      "metadata": {
        "id": "QbBBstL8WiHi"
      },
      "outputs": [],
      "source": [
        "class HelloFile:\n",
        "    def __init__(self, n):\n",
        "        self.n = n\n",
        "    def readline(self):\n",
        "        if self.n == 0:\n",
        "            return ''\n",
        "        self.n = self.n - 1\n",
        "        return 'Hello.\\n'"
      ]
    },
    {
      "cell_type": "markdown",
      "metadata": {
        "id": "OA5z4zUjWiHi"
      },
      "source": [
        "この例では、以下のようにしてオブジェクトが作られます。"
      ]
    },
    {
      "cell_type": "code",
      "execution_count": 13,
      "metadata": {
        "id": "pq0p_-17WiHi"
      },
      "outputs": [],
      "source": [
        "f = HelloFile(3)"
      ]
    },
    {
      "cell_type": "markdown",
      "metadata": {
        "id": "PLLb1D4PWiHi"
      },
      "source": [
        "すると、`HelloFile` を型とする新しいオブジェクトが作られて、\n",
        "そのオブジェクト自身が `self` に、`3` が `n` に渡されて、\n",
        "`self.n = n` という文が実行されます。\n",
        "\n",
        "`self.n` という式は、このオブジェクトの `n` という名前の属性を表します。\n",
        "\n",
        "一般に、`class` の構文によって定義されたクラスを型とするオブジェクトは、\n",
        "属性を持つことができます。\n",
        "**属性**とは、個々のオブジェクトごとに記録される値であり、\n",
        "オブジェクト内の変数と考えられます。\n",
        "オブジェクトの属性は、オブジェクトに対してその**属性名**を指定して、参照したり設定したりできます。\n",
        "オブジェクトの属性は、`self.属性名` という式で参照されます。\n",
        "`self.属性名` を代入文の左辺に書けば、属性を設定することができます。\n",
        "\n",
        "`self.n = n` のうち、`self.` の次の `n` は属性を表し、\n",
        "右辺の `n` は、`__init__` メソッドの引数を表していますので、\n",
        "混同しないようにしてください。\n",
        "\n",
        "この例では、新しく作られたオブジェクトの `n` という属性が、引数 `n` の値である `3` に設定されます。\n",
        "\n",
        "`readline` メソッドは以下のように定義されています。\n",
        "\n",
        "---\n",
        "```Python\n",
        "    def readline(self):\n",
        "        if self.n == 0:\n",
        "            return ''\n",
        "        self.n = self.n - 1\n",
        "        return 'Hello.\\n'\n",
        "```\n",
        "---\n",
        "オブジェクトの属性 `n` を参照して、それが `0` ならば空文字列を返します。\n",
        "そうでなければ、属性 `n` を `1` 減らしてから文字列 `'Hello.\\n'` を返します。"
      ]
    },
    {
      "cell_type": "code",
      "execution_count": 14,
      "metadata": {
        "id": "xmZ5NyVpWiHi",
        "outputId": "8aec72db-8297-4af6-ce3b-bc355b1b01e7",
        "colab": {
          "base_uri": "https://localhost:8080/",
          "height": 35
        }
      },
      "outputs": [
        {
          "output_type": "execute_result",
          "data": {
            "text/plain": [
              "'Hello.\\n'"
            ],
            "application/vnd.google.colaboratory.intrinsic+json": {
              "type": "string"
            }
          },
          "metadata": {},
          "execution_count": 14
        }
      ],
      "source": [
        "f.readline()"
      ]
    },
    {
      "cell_type": "code",
      "execution_count": 15,
      "metadata": {
        "id": "aTMVhmpjWiHj",
        "outputId": "b1eafd50-ecd4-4053-b863-6f5c0dfb9ebf",
        "colab": {
          "base_uri": "https://localhost:8080/",
          "height": 35
        }
      },
      "outputs": [
        {
          "output_type": "execute_result",
          "data": {
            "text/plain": [
              "'Hello.\\n'"
            ],
            "application/vnd.google.colaboratory.intrinsic+json": {
              "type": "string"
            }
          },
          "metadata": {},
          "execution_count": 15
        }
      ],
      "source": [
        "f.readline()"
      ]
    },
    {
      "cell_type": "code",
      "execution_count": 16,
      "metadata": {
        "id": "ACxiAX2YWiHj",
        "outputId": "5a096ce8-3d62-4d69-cfb1-5097f0d7bbb6",
        "colab": {
          "base_uri": "https://localhost:8080/",
          "height": 35
        }
      },
      "outputs": [
        {
          "output_type": "execute_result",
          "data": {
            "text/plain": [
              "'Hello.\\n'"
            ],
            "application/vnd.google.colaboratory.intrinsic+json": {
              "type": "string"
            }
          },
          "metadata": {},
          "execution_count": 16
        }
      ],
      "source": [
        "f.readline()"
      ]
    },
    {
      "cell_type": "code",
      "execution_count": 17,
      "metadata": {
        "id": "IJ5zy4_AWiHj",
        "outputId": "b4c2ff74-847b-43c4-d1b7-8749082aa1ee",
        "colab": {
          "base_uri": "https://localhost:8080/",
          "height": 35
        }
      },
      "outputs": [
        {
          "output_type": "execute_result",
          "data": {
            "text/plain": [
              "''"
            ],
            "application/vnd.google.colaboratory.intrinsic+json": {
              "type": "string"
            }
          },
          "metadata": {},
          "execution_count": 17
        }
      ],
      "source": [
        "f.readline()"
      ]
    },
    {
      "cell_type": "markdown",
      "metadata": {
        "id": "-gODX6QXWiHj"
      },
      "source": [
        "変数 `f` の値であるオブジェクトの属性 `n` は、`f.n` という式によって参照できます。"
      ]
    },
    {
      "cell_type": "code",
      "execution_count": 18,
      "metadata": {
        "id": "tuKBLcy9WiHj",
        "outputId": "b66eb24b-44a4-4c6c-f23a-293ab2d604ab",
        "colab": {
          "base_uri": "https://localhost:8080/"
        }
      },
      "outputs": [
        {
          "output_type": "execute_result",
          "data": {
            "text/plain": [
              "0"
            ]
          },
          "metadata": {},
          "execution_count": 18
        }
      ],
      "source": [
        "f.n"
      ]
    },
    {
      "cell_type": "markdown",
      "metadata": {
        "id": "FQZ54ZMJWiHj"
      },
      "source": [
        "ここでは詳しく説明しませんが、オブジェクトのメソッドも属性の一種です。"
      ]
    },
    {
      "cell_type": "markdown",
      "metadata": {
        "id": "nV1lvb6yWiHj"
      },
      "source": [
        "## 継承\n",
        "\n",
        "**継承**は、既存のクラスをもとにして、変更部分だけを与えることにより、\n",
        "新たなクラスを定義する機能です。\n",
        "\n",
        "以下の例では、`HelloForEver` をもとにして `HelloFile` を定義しています。\n",
        "一般に、新しく定義されるクラスを**子クラス**、そのもとになるクラスを**親クラス**と言います。"
      ]
    },
    {
      "cell_type": "code",
      "execution_count": 19,
      "metadata": {
        "id": "Ncd85S_GWiHj"
      },
      "outputs": [],
      "source": [
        "class HelloFile(HelloForEver):\n",
        "    def __init__(self, n):\n",
        "        self.n = n\n",
        "    def readline(self):\n",
        "        if self.n == 0:\n",
        "            return ''\n",
        "        self.n = self.n - 1\n",
        "        return super().readline()"
      ]
    },
    {
      "cell_type": "markdown",
      "metadata": {
        "id": "sKSJ0eDiWiHk"
      },
      "source": [
        "ここでは、`__init__` と `readline` を新たに定義しています。\n",
        "\n",
        "`HelloForEver` にも `readline` があります。\n",
        "こちらの `readline` は、`super().readline()` という式で呼び出すことができます。\n",
        "**`super()`** は、子クラスのオブジェクトに対して親クラスのメソッドを呼び出すための構文です。\n",
        "実際に、`HelloFile` の `readline` の中で、\n",
        "`HelloForEver` の `readline` を呼び出しています。"
      ]
    },
    {
      "cell_type": "code",
      "execution_count": 20,
      "metadata": {
        "id": "vNGs0yLQWiHk"
      },
      "outputs": [],
      "source": [
        "f = HelloFile(3)"
      ]
    },
    {
      "cell_type": "code",
      "execution_count": 21,
      "metadata": {
        "id": "O94z7maTWiHk",
        "outputId": "aabf73a0-d5f7-44e1-c530-2763eba34e0f",
        "colab": {
          "base_uri": "https://localhost:8080/",
          "height": 35
        }
      },
      "outputs": [
        {
          "output_type": "execute_result",
          "data": {
            "text/plain": [
              "'Hello.\\n'"
            ],
            "application/vnd.google.colaboratory.intrinsic+json": {
              "type": "string"
            }
          },
          "metadata": {},
          "execution_count": 21
        }
      ],
      "source": [
        "f.readline()"
      ]
    },
    {
      "cell_type": "markdown",
      "metadata": {
        "id": "yomhFMWZWiHk"
      },
      "source": [
        "## 特殊メソッド\n",
        "\n",
        "Pythonでは、**特殊メソッド**と呼ばれるメソッドが多数あります。\n",
        "これらのメソッドの名前は `__` で始まり `__` で終わります。\n",
        "\n",
        "クラス定義の中で特殊メソッドを定義すると、そのクラスのオブジェクトに対して、\n",
        "その特殊メソッドに対応する機能が付与されます。\n",
        "初期化メソッド `__init__` も特殊メソッドですが、\n",
        "以下のクラス `HelloFileIterator` では、**`__iter__`** と **`__next__`** という特殊メソッドが定義されています。\n",
        "このクラスは、`HelloFile` を継承して定義されています。\n",
        "\n",
        "`__iter__` メソッドは、オブジェクトに対して関数 `iter` が適用されたときに呼び出されます。\n",
        "`__iter__` メソッドの値が関数 `iter` の値となります。\n",
        "以下の例では、`__iter__` はオブジェクト自身を返しています。\n",
        "したがって、オブジェクトに `iter` が適用されると、オブジェクト自身が返ります。"
      ]
    },
    {
      "cell_type": "code",
      "execution_count": 22,
      "metadata": {
        "id": "KJ4TIlwVWiHk"
      },
      "outputs": [],
      "source": [
        "class HelloFileIterator(HelloFile):\n",
        "    def __iter__(self):\n",
        "        return self\n",
        "    def __next__(self):\n",
        "        line = self.readline()\n",
        "        if line == '':\n",
        "            raise StopIteration\n",
        "        return line"
      ]
    },
    {
      "cell_type": "code",
      "execution_count": 23,
      "metadata": {
        "id": "21EcqSnLWiHk"
      },
      "outputs": [],
      "source": [
        "f = HelloFileIterator(3)"
      ]
    },
    {
      "cell_type": "code",
      "execution_count": 24,
      "metadata": {
        "id": "U7NbrtFbWiHk",
        "outputId": "d92a2018-c455-447c-d34e-3da26374ca35",
        "colab": {
          "base_uri": "https://localhost:8080/"
        }
      },
      "outputs": [
        {
          "output_type": "stream",
          "name": "stdout",
          "text": [
            "True\n"
          ]
        }
      ],
      "source": [
        "print(f is iter(f))"
      ]
    },
    {
      "cell_type": "markdown",
      "metadata": {
        "id": "WZvJ88YNWiHk"
      },
      "source": [
        "上の例で、`iter(f)` として関数 `iter` を呼び出すと、\n",
        "`f.__iter__()` としてメソッド `__iter__` が `f` に対して呼び出され、\n",
        "その結果が `iter(f)` の値となります。\n",
        "したがって、`iter(f)` は `f` と同じ値を返します。\n",
        "\n",
        "`__next__` メソッドも、オブジェクトに対して関数 `next` が適用されたときに呼び出されます。\n",
        "`__next__` メソッドの値が `next` の値となります。\n",
        "\n",
        "上の例では、`self.readline()` として、オブジェクト自身に対してメソッド `readline` を呼び出しています。\n",
        "その値が空文字列ならば、\n",
        "\n",
        "---\n",
        "```Python\n",
        "            raise StopIteration\n",
        "```\n",
        "---\n",
        "という文を実行して、**`StopIteration`** というエラーを投げます。\n",
        "実は、このエラーは、for文が捕まえて繰り返しを止める効果を持ちます。\n",
        "なお、**`raise`** は強制的にエラーを発生させる構文です。"
      ]
    },
    {
      "cell_type": "code",
      "execution_count": 25,
      "metadata": {
        "id": "pH6zE2auWiHl",
        "outputId": "75b4af39-dc5e-4e15-ccaf-34e791b3837e",
        "colab": {
          "base_uri": "https://localhost:8080/"
        }
      },
      "outputs": [
        {
          "output_type": "stream",
          "name": "stdout",
          "text": [
            "Hello.\n",
            "\n",
            "Hello.\n",
            "\n",
            "Hello.\n",
            "\n"
          ]
        }
      ],
      "source": [
        "for line in f:\n",
        "    print(line)"
      ]
    },
    {
      "cell_type": "markdown",
      "metadata": {
        "id": "JvP_TdvyWiHw"
      },
      "source": [
        "4-2で説明したように、上のfor文では、\n",
        "まず `f` のオブジェクトに対して関数 `iter` が適用されます。\n",
        "すると `f` のオブジェクト自身が返ります。\n",
        "そして、このオブジェクトに対して関数 `next` が繰り返し適用されて、\n",
        "その結果が変数 `line` の値となります。\n",
        "`StopIteration` のエラーが検知されると、for文が終了します。"
      ]
    },
    {
      "cell_type": "markdown",
      "metadata": {
        "id": "2lbfFz_YWiHw"
      },
      "source": [
        "## 継承による振舞いの改変\n",
        "\n",
        "上で示された、`HelloFileIterator` の `__next__` メソッドでは、`self.readline()` というメソッド呼び出しがありました。\n",
        "上の例の振舞いから、そのメソッド呼び出しは、`HelloFileIterator` には `readline` メソッドが定義されていないので、親の `HelloFile` を見に行って、そこで定義された `readline` メソッドが使われたように見えます。\n",
        "しかし、それは正確ではありません。\n",
        "\n",
        "`self.readline()` では、その呼び出し場所がどこであるかに関わらず、常にオブジェクト `self` の中のメソッドを探索します。\n",
        "そして、継承があるために、`__next__(self)` における `self` が、`HelloFileIterator` のインスタンスであるとも限りません。\n",
        "次を見てみましょう。"
      ]
    },
    {
      "cell_type": "code",
      "execution_count": 26,
      "metadata": {
        "id": "YmsAY5jZWiHw",
        "outputId": "5641a7eb-0688-4fbe-faef-dcb94f1ae2a4",
        "colab": {
          "base_uri": "https://localhost:8080/",
          "height": 291
        }
      },
      "outputs": [
        {
          "output_type": "error",
          "ename": "StopIteration",
          "evalue": "",
          "traceback": [
            "\u001b[0;31m---------------------------------------------------------------------------\u001b[0m",
            "\u001b[0;31mStopIteration\u001b[0m                             Traceback (most recent call last)",
            "\u001b[0;32m/tmp/ipython-input-3057831025.py\u001b[0m in \u001b[0;36m<cell line: 0>\u001b[0;34m()\u001b[0m\n\u001b[1;32m      4\u001b[0m \u001b[0;34m\u001b[0m\u001b[0m\n\u001b[1;32m      5\u001b[0m \u001b[0mf\u001b[0m \u001b[0;34m=\u001b[0m \u001b[0mEmptyFile\u001b[0m\u001b[0;34m(\u001b[0m\u001b[0;36m3\u001b[0m\u001b[0;34m)\u001b[0m\u001b[0;34m\u001b[0m\u001b[0;34m\u001b[0m\u001b[0m\n\u001b[0;32m----> 6\u001b[0;31m \u001b[0mnext\u001b[0m\u001b[0;34m(\u001b[0m\u001b[0mf\u001b[0m\u001b[0;34m)\u001b[0m\u001b[0;34m\u001b[0m\u001b[0;34m\u001b[0m\u001b[0m\n\u001b[0m",
            "\u001b[0;32m/tmp/ipython-input-1163340223.py\u001b[0m in \u001b[0;36m__next__\u001b[0;34m(self)\u001b[0m\n\u001b[1;32m      5\u001b[0m         \u001b[0mline\u001b[0m \u001b[0;34m=\u001b[0m \u001b[0mself\u001b[0m\u001b[0;34m.\u001b[0m\u001b[0mreadline\u001b[0m\u001b[0;34m(\u001b[0m\u001b[0;34m)\u001b[0m\u001b[0;34m\u001b[0m\u001b[0;34m\u001b[0m\u001b[0m\n\u001b[1;32m      6\u001b[0m         \u001b[0;32mif\u001b[0m \u001b[0mline\u001b[0m \u001b[0;34m==\u001b[0m \u001b[0;34m''\u001b[0m\u001b[0;34m:\u001b[0m\u001b[0;34m\u001b[0m\u001b[0;34m\u001b[0m\u001b[0m\n\u001b[0;32m----> 7\u001b[0;31m             \u001b[0;32mraise\u001b[0m \u001b[0mStopIteration\u001b[0m\u001b[0;34m\u001b[0m\u001b[0;34m\u001b[0m\u001b[0m\n\u001b[0m\u001b[1;32m      8\u001b[0m         \u001b[0;32mreturn\u001b[0m \u001b[0mline\u001b[0m\u001b[0;34m\u001b[0m\u001b[0;34m\u001b[0m\u001b[0m\n",
            "\u001b[0;31mStopIteration\u001b[0m: "
          ]
        }
      ],
      "source": [
        "class EmptyFile(HelloFileIterator):\n",
        "    def readline(self):\n",
        "        return ''\n",
        "\n",
        "f = EmptyFile(3)\n",
        "next(f)"
      ]
    },
    {
      "cell_type": "markdown",
      "metadata": {
        "id": "AUspnhuaWiHx"
      },
      "source": [
        "コンストラクタに `3` を与えているので、`HelloFileIterator` と同様に `next` を3回適用できてもよさそうですが、即座に `StopIteration` が生じました。\n",
        "これは、`__next__(self)` における `self` が、`EmptyFile` のインスタンスであり、`self.readline()` が常に `''` を返すからです。\n",
        "\n",
        "このように、継承は、メソッドの部分的な再定義を通じて、再定義されたメソッドを呼び出しているメソッドの振舞いを、間接的に改変することを可能にします。"
      ]
    },
    {
      "cell_type": "markdown",
      "metadata": {
        "id": "EgzuZ9KLWiHx"
      },
      "source": [
        "## 練習\n",
        "\n",
        "`'Hello.\\n'` ではなくて、初期時に指定された文字列を繰り返し返すように、\n",
        "新たなクラス `StringFileIterator` を定義してください。\n",
        "\n",
        "`StringFileIterator` は `HelloFileIterator` を継承し、\n",
        "初期化メソッドには、文字列と回数を指定します。"
      ]
    },
    {
      "cell_type": "code",
      "execution_count": null,
      "metadata": {
        "id": "2gBDOejyWiHx"
      },
      "outputs": [],
      "source": [
        "class StringFileIterator(HelloFileIterator):\n",
        "    def __init__(self, s, n):\n",
        "        ...\n",
        "    ..."
      ]
    },
    {
      "cell_type": "markdown",
      "metadata": {
        "id": "1sGCC_oxWiHx"
      },
      "source": [
        "上のセルで解答を作成した後、以下のセルを実行し、実行結果が `True` になることを確認してください。"
      ]
    },
    {
      "cell_type": "code",
      "execution_count": null,
      "metadata": {
        "tags": [
          "raises-exception"
        ],
        "id": "UYSs2K7GWiHx"
      },
      "outputs": [],
      "source": [
        "f = StringFileIterator('abc', 3)\n",
        "print(list(f) == ['abc','abc','abc'])"
      ]
    },
    {
      "cell_type": "markdown",
      "metadata": {
        "id": "7GzuuqGnWiHx"
      },
      "source": [
        "## ▲with文への対応\n",
        "\n",
        "ここでは詳しく説明しませんが、さらに特殊メソッドである **`__enter__`** と **`__exit__`** を定義すると、\n",
        "**with文**にも対応できます。"
      ]
    },
    {
      "cell_type": "code",
      "execution_count": 27,
      "metadata": {
        "id": "wpE1ZZB5WiHx"
      },
      "outputs": [],
      "source": [
        "class HelloFileIterator(HelloFile):\n",
        "    def __enter__(self):\n",
        "        return self\n",
        "    def __exit__(self,exception_type,exception_value,traceback):\n",
        "        pass\n",
        "    def __next__(self):\n",
        "        line = self.readline()\n",
        "        if line == '':\n",
        "            raise StopIteration\n",
        "        return line\n",
        "    def __iter__(self):\n",
        "        return self"
      ]
    },
    {
      "cell_type": "code",
      "execution_count": null,
      "metadata": {
        "id": "QLtSq-irWiHx"
      },
      "outputs": [],
      "source": [
        "with HelloFileIterator(3) as f:\n",
        "    for line in f:\n",
        "        print(line)"
      ]
    },
    {
      "cell_type": "markdown",
      "metadata": {
        "id": "A152CXHcWiHx"
      },
      "source": [
        "## 練習の解答"
      ]
    },
    {
      "cell_type": "code",
      "execution_count": null,
      "metadata": {
        "id": "dhdCAc_CWiHx"
      },
      "outputs": [],
      "source": [
        "class StringFileIterator(HelloFileIterator):\n",
        "    def __init__(self, s, n):\n",
        "        self.s = s\n",
        "        self.n = n\n",
        "    def readline(self):\n",
        "        if self.n == 0:\n",
        "            return ''\n",
        "        self.n = self.n - 1\n",
        "        return self.s"
      ]
    },
    {
      "cell_type": "code",
      "execution_count": null,
      "metadata": {
        "id": "kT5FwVpEWiHx"
      },
      "outputs": [],
      "source": []
    }
  ],
  "metadata": {
    "kernelspec": {
      "display_name": "Python 3",
      "language": "python",
      "name": "python3"
    },
    "language_info": {
      "name": "python"
    },
    "colab": {
      "provenance": []
    }
  },
  "nbformat": 4,
  "nbformat_minor": 0
}