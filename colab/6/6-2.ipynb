{
  "cells": [
    {
      "cell_type": "code",
      "execution_count": 94,
      "metadata": {
        "id": "xySnt024iDs4",
        "outputId": "b331077e-44c4-4302-d44d-60153068ffdb",
        "colab": {
          "base_uri": "https://localhost:8080/"
        }
      },
      "outputs": [
        {
          "output_type": "stream",
          "name": "stdout",
          "text": [
            "--2025-09-09 05:19:47--  https://raw.githubusercontent.com/utokyo-ipp/utokyo-ipp.github.io/master/colab/6/jugemu.txt\n",
            "Resolving raw.githubusercontent.com (raw.githubusercontent.com)... 185.199.108.133, 185.199.109.133, 185.199.110.133, ...\n",
            "Connecting to raw.githubusercontent.com (raw.githubusercontent.com)|185.199.108.133|:443... connected.\n",
            "HTTP request sent, awaiting response... 200 OK\n",
            "Length: 366 [text/plain]\n",
            "Saving to: ‘./jugemu.txt.1’\n",
            "\n",
            "jugemu.txt.1        100%[===================>]     366  --.-KB/s    in 0s      \n",
            "\n",
            "2025-09-09 05:19:47 (6.23 MB/s) - ‘./jugemu.txt.1’ saved [366/366]\n",
            "\n"
          ]
        }
      ],
      "source": [
        "##================================================\n",
        "## このセルを最初に実行せよ---Run this cell first.\n",
        "##================================================\n",
        "!wget -P . https://raw.githubusercontent.com/utokyo-ipp/utokyo-ipp.github.io/master/colab/6/jugemu.txt"
      ]
    },
    {
      "cell_type": "markdown",
      "metadata": {
        "id": "biFhaFI-iDs6"
      },
      "source": [
        "# 6-2. 高階関数\n",
        "\n",
        "Pythonにおける高階関数について説明します。\n",
        "\n",
        "参考\n",
        "\n",
        "- https://docs.python.org/ja/3/howto/functional.html"
      ]
    },
    {
      "cell_type": "markdown",
      "metadata": {
        "id": "L2RmZnWriDs7"
      },
      "source": [
        "## `max`\n",
        "\n",
        "例として、関数 **`max`** について考察します。`max` は与えられたリストの要素のうち、最大のものを返します。"
      ]
    },
    {
      "cell_type": "code",
      "execution_count": 2,
      "metadata": {
        "id": "s2S40jbRiDs7",
        "outputId": "4b1eeda7-9569-4508-e995-1c14aa38374d",
        "colab": {
          "base_uri": "https://localhost:8080/"
        }
      },
      "outputs": [
        {
          "output_type": "execute_result",
          "data": {
            "text/plain": [
              "7"
            ]
          },
          "metadata": {},
          "execution_count": 2
        }
      ],
      "source": [
        "ls = [3,-8,1,0,7,-5]\n",
        "max(ls)"
      ]
    },
    {
      "cell_type": "markdown",
      "metadata": {
        "id": "cqloQclTiDs8"
      },
      "source": [
        "`max` に **`key`** というキーワード引数として、たとえば関数 `abs` を与えることができます。\n",
        "（キーワード引数について詳しくは、3-3を参照してください。）"
      ]
    },
    {
      "cell_type": "code",
      "execution_count": 3,
      "metadata": {
        "id": "BaTkUS0TiDs8",
        "outputId": "d6835272-f04c-4474-d663-d4a6330e21ff",
        "colab": {
          "base_uri": "https://localhost:8080/"
        }
      },
      "outputs": [
        {
          "output_type": "execute_result",
          "data": {
            "text/plain": [
              "-8"
            ]
          },
          "metadata": {},
          "execution_count": 3
        }
      ],
      "source": [
        "max(ls, key=abs)"
      ]
    },
    {
      "cell_type": "markdown",
      "metadata": {
        "id": "rVdrt5odiDs8"
      },
      "source": [
        "この場合、各要素に関数 `abs` が適用されて、その結果が最も大きい要素が返ります。\n",
        "（各要素に `abs` 適用した結果の中の最大値が返るわけではないことに注意してください。）\n",
        "なお、`abs(x)` は `x` の絶対値を返します。\n",
        "\n",
        "この場合、`max` という関数は、関数を引数として受け取っています。\n",
        "\n",
        "一般に、関数を引数として受け取ったり返値として返したりする関数を**高階関数**といいます。"
      ]
    },
    {
      "cell_type": "markdown",
      "metadata": {
        "id": "RAYkYhY9iDs9"
      },
      "source": [
        "## `sorted`\n",
        "\n",
        "**`sorted`** も高階関数で、`max` と同様に **`key`** というキーワード引数を取ります。"
      ]
    },
    {
      "cell_type": "code",
      "execution_count": 4,
      "metadata": {
        "id": "zyMo19d3iDs9",
        "outputId": "d6b1b877-ba2f-4a0d-b4c3-5f134af62581",
        "colab": {
          "base_uri": "https://localhost:8080/"
        }
      },
      "outputs": [
        {
          "output_type": "execute_result",
          "data": {
            "text/plain": [
              "[0, 1, 3, -5, 7, -8]"
            ]
          },
          "metadata": {},
          "execution_count": 4
        }
      ],
      "source": [
        "sorted(ls, key=abs)"
      ]
    },
    {
      "cell_type": "markdown",
      "metadata": {
        "id": "AyI2QNzmiDs9"
      },
      "source": [
        "このように、各要素に関数 `abs` を適用した結果によって、各要素をソートします。\n",
        "\n",
        "リストを降順にソートするには、次のような関数を用いればよいです。"
      ]
    },
    {
      "cell_type": "code",
      "execution_count": 5,
      "metadata": {
        "id": "68M0S72siDs-"
      },
      "outputs": [],
      "source": [
        "def invert(x):\n",
        "    return -x"
      ]
    },
    {
      "cell_type": "code",
      "execution_count": 6,
      "metadata": {
        "id": "hRR_tkQoiDs-",
        "outputId": "621fa830-bcff-4236-9a4d-c7daf3ff2f9c",
        "colab": {
          "base_uri": "https://localhost:8080/"
        }
      },
      "outputs": [
        {
          "output_type": "execute_result",
          "data": {
            "text/plain": [
              "[7, 3, 1, 0, -5, -8]"
            ]
          },
          "metadata": {},
          "execution_count": 6
        }
      ],
      "source": [
        "sorted(ls, key=invert)"
      ]
    },
    {
      "cell_type": "markdown",
      "metadata": {
        "id": "td2XkXUniDs-"
      },
      "source": [
        "なお、リストを降順にソートするには、**`reverse`** というキーワード引数に `True` を指定するという方法もあります。"
      ]
    },
    {
      "cell_type": "code",
      "execution_count": 10,
      "metadata": {
        "id": "YcuuZdziiDs-",
        "outputId": "19418676-633b-49f7-d193-c792f3d614b9",
        "colab": {
          "base_uri": "https://localhost:8080/"
        }
      },
      "outputs": [
        {
          "output_type": "execute_result",
          "data": {
            "text/plain": [
              "[7, 3, 1, 0, -5, -8]"
            ]
          },
          "metadata": {},
          "execution_count": 10
        }
      ],
      "source": [
        "sorted(ls, reverse=True)"
      ]
    },
    {
      "cell_type": "markdown",
      "metadata": {
        "id": "oR-vDzNNiDs-"
      },
      "source": [
        "## ラムダ式\n",
        "\n",
        "上の `invert` のような簡単な関数の場合、\n",
        "いちいち `def` で定義するのは面倒と思いませんか。\n",
        "\n",
        "そのようなときは、**`lambda`** を使った**ラムダ式**（または**無名関数**）を用いることができます。\n",
        "上の例は、以下のように書くことができます。"
      ]
    },
    {
      "cell_type": "code",
      "execution_count": 8,
      "metadata": {
        "id": "NNhCQfmziDs-",
        "outputId": "ab70a4e6-af7c-43fe-f2a2-bba9f6672b89",
        "colab": {
          "base_uri": "https://localhost:8080/"
        }
      },
      "outputs": [
        {
          "output_type": "execute_result",
          "data": {
            "text/plain": [
              "[7, 3, 1, 0, -5, -8]"
            ]
          },
          "metadata": {},
          "execution_count": 8
        }
      ],
      "source": [
        "sorted(ls, key=lambda x: -x)"
      ]
    },
    {
      "cell_type": "markdown",
      "metadata": {
        "id": "-dgbVdbuiDs_"
      },
      "source": [
        "`lambda x: -x` という式は、`x` をもらって `-x` を返す関数を表します。\n",
        "`return` は書かないことに注意してください。\n",
        "\n",
        "さて、ここまで関数と呼んでいたものは、Pythonでは、オブジェクトの一種に他なりません。\n",
        "実際に、`abs` や `lambda x: -x` という式の値を調べてみてください。"
      ]
    },
    {
      "cell_type": "code",
      "execution_count": 11,
      "metadata": {
        "id": "yMdIYMtTiDs_",
        "outputId": "b1cba0d2-2df1-44c4-f9a5-d7315ff534f7",
        "colab": {
          "base_uri": "https://localhost:8080/"
        }
      },
      "outputs": [
        {
          "output_type": "execute_result",
          "data": {
            "text/plain": [
              "<function abs(x, /)>"
            ]
          },
          "metadata": {},
          "execution_count": 11
        }
      ],
      "source": [
        "abs"
      ]
    },
    {
      "cell_type": "code",
      "execution_count": 12,
      "metadata": {
        "id": "6pXEgaDhiDs_",
        "outputId": "52d9706b-afc5-4883-944c-c6de49c39f85",
        "colab": {
          "base_uri": "https://localhost:8080/"
        }
      },
      "outputs": [
        {
          "output_type": "execute_result",
          "data": {
            "text/plain": [
              "<function __main__.<lambda>(x)>"
            ]
          },
          "metadata": {},
          "execution_count": 12
        }
      ],
      "source": [
        "lambda x: -x"
      ]
    },
    {
      "cell_type": "markdown",
      "metadata": {
        "id": "eYZSmCauiDs_"
      },
      "source": [
        "したがって、Pythonでは、関数を他の種類のデータ（数やリストや文字列など）と同様に、\n",
        "関数の引数にしたり、リストの要素にしたり、することができます。"
      ]
    },
    {
      "cell_type": "markdown",
      "metadata": {
        "id": "tA9Sw9g4iDs_"
      },
      "source": [
        "## リストからイテラブルへ\n",
        "\n",
        "以上の例では、`max` や `sorted` はリストを受け取っていましたが、\n",
        "リストではなく、タプルでもいいですし、文字列でも構いません。"
      ]
    },
    {
      "cell_type": "code",
      "execution_count": 20,
      "metadata": {
        "id": "yUmIf2jEiDs_",
        "outputId": "34a1524d-6d24-4920-90f6-f24328eda684",
        "colab": {
          "base_uri": "https://localhost:8080/"
        }
      },
      "outputs": [
        {
          "output_type": "execute_result",
          "data": {
            "text/plain": [
              "-8"
            ]
          },
          "metadata": {},
          "execution_count": 20
        }
      ],
      "source": [
        "max((3,-8,1,0,7,-5),key=abs)"
      ]
    },
    {
      "cell_type": "code",
      "execution_count": 22,
      "metadata": {
        "id": "0pwskuEWiDs_",
        "outputId": "0dbf64f7-b49f-43c3-afc8-348cc68c23d6",
        "colab": {
          "base_uri": "https://localhost:8080/"
        }
      },
      "outputs": [
        {
          "output_type": "execute_result",
          "data": {
            "text/plain": [
              "[-8, -5, 0, 1, 3, 7]"
            ]
          },
          "metadata": {},
          "execution_count": 22
        }
      ],
      "source": [
        "sorted((3,-8,1,0,7,-5))"
      ]
    },
    {
      "cell_type": "code",
      "execution_count": 24,
      "metadata": {
        "id": "iWK_a_H4iDs_",
        "outputId": "4feb2f96-5728-4d24-e6ae-88ed9564881d",
        "colab": {
          "base_uri": "https://localhost:8080/",
          "height": 36
        }
      },
      "outputs": [
        {
          "output_type": "execute_result",
          "data": {
            "text/plain": [
              "'w'"
            ],
            "application/vnd.google.colaboratory.intrinsic+json": {
              "type": "string"
            }
          },
          "metadata": {},
          "execution_count": 24
        }
      ],
      "source": [
        "max('hello world')"
      ]
    },
    {
      "cell_type": "code",
      "execution_count": 16,
      "metadata": {
        "id": "IXwRVgHtiDtA",
        "outputId": "0c7a493e-7ace-4e66-d6bd-37d96fa933aa",
        "colab": {
          "base_uri": "https://localhost:8080/"
        }
      },
      "outputs": [
        {
          "output_type": "execute_result",
          "data": {
            "text/plain": [
              "[' ', 'd', 'e', 'h', 'l', 'l', 'l', 'o', 'o', 'r', 'w']"
            ]
          },
          "metadata": {},
          "execution_count": 16
        }
      ],
      "source": [
        "sorted('hello world')"
      ]
    },
    {
      "cell_type": "markdown",
      "metadata": {
        "id": "vYwGH0CDiDtA"
      },
      "source": [
        "すなわち、`max` や `sorted` は、一般にイテラブルを引数に取ることができます。\n",
        "\n",
        "イテラブルについては4-2に説明がありましたが、\n",
        "簡単に言うと、**イテラブル**とはfor文の `in` の後に来ることができるものです。\n",
        "`max` や `sorted` は、イテラブルの各要素を次々と求めて、\n",
        "その中の最大値を求めたり、整列した結果をリストとして返したりします。\n",
        "\n",
        "以下の例では、`max` にファイルオブジェクトが渡されます。\n",
        "ファイルオブジェクトはイテレータですので、イテラブルでもあります。\n",
        "ファイルオブジェクトをfor文の `in` の後に指定すると、\n",
        "ファイルの各行が文字列として得られます。\n",
        "以下の例では、`key` として関数 `len` が指定されていますので、\n",
        "ファイルの中で最も長い行が表示されます。"
      ]
    },
    {
      "cell_type": "code",
      "execution_count": 25,
      "metadata": {
        "id": "vDwzXIbMiDtA",
        "outputId": "362fe7f4-b4b8-403b-e359-0e15797d70eb",
        "colab": {
          "base_uri": "https://localhost:8080/"
        }
      },
      "outputs": [
        {
          "output_type": "stream",
          "name": "stdout",
          "text": [
            "グーリンダイのポンポコピーのポンポコナーの、\n",
            "\n"
          ]
        }
      ],
      "source": [
        "with open('jugemu.txt', 'r', encoding='utf-8') as f:\n",
        "    print(max(f, key=len))"
      ]
    },
    {
      "cell_type": "markdown",
      "metadata": {
        "id": "MepW1a4xiDtA"
      },
      "source": [
        "辞書もイテラブルです。`max` に辞書与えると、最大のキーが返ります。"
      ]
    },
    {
      "cell_type": "code",
      "execution_count": 26,
      "metadata": {
        "id": "3antlu6_iDtA",
        "outputId": "99a4ca67-b4e6-4c3f-9418-33c9f1edc867",
        "colab": {
          "base_uri": "https://localhost:8080/"
        }
      },
      "outputs": [
        {
          "output_type": "execute_result",
          "data": {
            "text/plain": [
              "9"
            ]
          },
          "metadata": {},
          "execution_count": 26
        }
      ],
      "source": [
        "max({3:10, 5:2, 9:1})"
      ]
    },
    {
      "cell_type": "markdown",
      "metadata": {
        "id": "6-dKM0A_iDtA"
      },
      "source": [
        "## 練習\n",
        "\n",
        "辞書 `d` が与えられたとき、\n",
        "最大の値を持つキー（複数個ならばそのいずれか）を返す関数 `max_value_key(d)` を、\n",
        "`max` を使って定義してください。\n",
        "\n",
        "ヒント：辞書 `d` のキー `k` に対して、`k` に対応する値を返す関数は `lambda k: d[k]` という式で表すことができます。"
      ]
    },
    {
      "cell_type": "code",
      "execution_count": 43,
      "metadata": {
        "id": "JwRC1c-MiDtA"
      },
      "outputs": [],
      "source": [
        "def max_value_key(d):\n",
        "  return max(d,key=lambda k: d[k])\n"
      ]
    },
    {
      "cell_type": "markdown",
      "metadata": {
        "id": "EE5CbVPXiDtA"
      },
      "source": [
        "上のセルで解答を作成した後、以下のセルを実行し、実行結果が `True` になることを確認してください。"
      ]
    },
    {
      "cell_type": "code",
      "execution_count": 44,
      "metadata": {
        "tags": [
          "raises-exception"
        ],
        "id": "A3GKy7YoiDtA",
        "outputId": "6a24d4ba-2f89-40fc-ac9a-f0c8ef14ec2f",
        "colab": {
          "base_uri": "https://localhost:8080/"
        }
      },
      "outputs": [
        {
          "output_type": "stream",
          "name": "stdout",
          "text": [
            "True\n"
          ]
        }
      ],
      "source": [
        "print(max_value_key({3:10, 5:2, 9:1}) == 3)"
      ]
    },
    {
      "cell_type": "markdown",
      "metadata": {
        "id": "q2-ZlU-aiDtA"
      },
      "source": [
        "## `map`\n",
        "\n",
        "以下は内包表記の例です。"
      ]
    },
    {
      "cell_type": "code",
      "execution_count": 47,
      "metadata": {
        "id": "v29EBwgEiDtA",
        "outputId": "eb6a7982-b5da-489e-83cd-0bf3c6f43ccf",
        "colab": {
          "base_uri": "https://localhost:8080/"
        }
      },
      "outputs": [
        {
          "output_type": "execute_result",
          "data": {
            "text/plain": [
              "[0, 1, 3, 5, 7, 8]"
            ]
          },
          "metadata": {},
          "execution_count": 47
        }
      ],
      "source": [
        "sorted([abs(x) for x in [3,-8,1,0,7,-5]])"
      ]
    },
    {
      "cell_type": "markdown",
      "metadata": {
        "id": "DYEA-kXEiDtB"
      },
      "source": [
        "リストの各要素に関数 `abs` が適用された結果がリストになります。\n",
        "\n",
        "同様のことを、高階関数 **`map`** を用いて行うことができます。\n",
        "関数 `map` は、2番目の引数としてイテラブルを取ります。1番目の引数は関数です。\n",
        "例を見ましょう。"
      ]
    },
    {
      "cell_type": "code",
      "execution_count": 48,
      "metadata": {
        "id": "J4LcJq_siDtB",
        "outputId": "a053b7a8-c552-4c45-b48f-077bb87e3e3b",
        "colab": {
          "base_uri": "https://localhost:8080/"
        }
      },
      "outputs": [
        {
          "output_type": "execute_result",
          "data": {
            "text/plain": [
              "<map at 0x7e46c99a81f0>"
            ]
          },
          "metadata": {},
          "execution_count": 48
        }
      ],
      "source": [
        "map(abs, [3,-8,1,0,7,-5])"
      ]
    },
    {
      "cell_type": "markdown",
      "metadata": {
        "id": "8EW6z69CiDtB"
      },
      "source": [
        "何が返ったか、よくわからないと思います。\n",
        "以下のように、`map` の結果をfor文の `in` の後に指定してみましょう。"
      ]
    },
    {
      "cell_type": "code",
      "execution_count": 49,
      "metadata": {
        "id": "_JHAKqAziDtB",
        "outputId": "343ab4a7-dc82-4dbd-bb11-136489282a6a",
        "colab": {
          "base_uri": "https://localhost:8080/"
        }
      },
      "outputs": [
        {
          "output_type": "stream",
          "name": "stdout",
          "text": [
            "3\n",
            "8\n",
            "1\n",
            "0\n",
            "7\n",
            "5\n"
          ]
        }
      ],
      "source": [
        "for x in map(abs, [3,-8,1,0,7,-5]):\n",
        "    print(x)"
      ]
    },
    {
      "cell_type": "markdown",
      "metadata": {
        "id": "Nn_MDKJviDtJ"
      },
      "source": [
        "すなわち、`map` が返すものは**イテレータ**です。\n",
        "このイテレータは、2番目の引数のイテラブル（この例ではリスト）の各要素に\n",
        "関数 `abs` を適用したものを、次々と返すようなイテレータです。\n",
        "\n",
        "内包表記を使えば、以下のようにリストにまとめることができます。"
      ]
    },
    {
      "cell_type": "code",
      "execution_count": null,
      "metadata": {
        "id": "bl02mQVEiDtJ"
      },
      "outputs": [],
      "source": [
        "[x for x in map(abs, [3,-8,1,0,7,-5])]"
      ]
    },
    {
      "cell_type": "markdown",
      "metadata": {
        "id": "gIBo_P1YiDtJ"
      },
      "source": [
        "関数 `list` をイテレータに適用してもよいです。"
      ]
    },
    {
      "cell_type": "code",
      "execution_count": 50,
      "metadata": {
        "id": "SylGxTmJiDtJ",
        "outputId": "3f3ac4f5-8292-4047-a4bb-1364af108603",
        "colab": {
          "base_uri": "https://localhost:8080/"
        }
      },
      "outputs": [
        {
          "output_type": "execute_result",
          "data": {
            "text/plain": [
              "[3, 8, 1, 0, 7, 5]"
            ]
          },
          "metadata": {},
          "execution_count": 50
        }
      ],
      "source": [
        "list(map(abs, [3,-8,1,0,7,-5]))"
      ]
    },
    {
      "cell_type": "markdown",
      "metadata": {
        "id": "5JXcAdVliDtJ"
      },
      "source": [
        "しかし、これでは、イテレータがどのように動くのか、よくわからないと思います。\n",
        "\n",
        "以下では、呼ばれるたびにメッセージを出力する関数 `abs1` を用います。"
      ]
    },
    {
      "cell_type": "code",
      "execution_count": 51,
      "metadata": {
        "id": "YRgGhYaRiDtJ"
      },
      "outputs": [],
      "source": [
        "def abs1(x):\n",
        "    print('abs called on', x)\n",
        "    return abs(x)"
      ]
    },
    {
      "cell_type": "code",
      "execution_count": 65,
      "metadata": {
        "id": "S74AbNeoiDtJ"
      },
      "outputs": [],
      "source": [
        "it = map(abs1, [3,-8,1,0,7,-5])"
      ]
    },
    {
      "cell_type": "markdown",
      "metadata": {
        "id": "JY3qhP9wiDtJ"
      },
      "source": [
        "このように、`map` がイテレータを返した時点では、各要素に対する計算は何も行われません。\n",
        "\n",
        "このイテレータに `next` を適用するとどうなるか、見てください。"
      ]
    },
    {
      "cell_type": "code",
      "execution_count": 66,
      "metadata": {
        "id": "zToK7PQoiDtJ",
        "outputId": "00f3734a-9bad-4049-bda9-209c07a89f25",
        "colab": {
          "base_uri": "https://localhost:8080/"
        }
      },
      "outputs": [
        {
          "output_type": "stream",
          "name": "stdout",
          "text": [
            "abs called on 3\n"
          ]
        },
        {
          "output_type": "execute_result",
          "data": {
            "text/plain": [
              "3"
            ]
          },
          "metadata": {},
          "execution_count": 66
        }
      ],
      "source": [
        "next(it)"
      ]
    },
    {
      "cell_type": "code",
      "execution_count": 67,
      "metadata": {
        "id": "0VJXdPZ_iDtK",
        "outputId": "b61d6076-cd80-472e-d034-1618ee35f6df",
        "colab": {
          "base_uri": "https://localhost:8080/"
        }
      },
      "outputs": [
        {
          "output_type": "stream",
          "name": "stdout",
          "text": [
            "abs called on -8\n"
          ]
        },
        {
          "output_type": "execute_result",
          "data": {
            "text/plain": [
              "8"
            ]
          },
          "metadata": {},
          "execution_count": 67
        }
      ],
      "source": [
        "next(it)"
      ]
    },
    {
      "cell_type": "markdown",
      "metadata": {
        "id": "nBt6RdFJiDtK"
      },
      "source": [
        "関数 `next` が呼ばれるたびに、次の要素を求める計算が行われていることがわかります。\n",
        "\n",
        "イテレータはイテラブルですから、`map` の結果にさらに `map` を適用することができます。"
      ]
    },
    {
      "cell_type": "code",
      "execution_count": 68,
      "metadata": {
        "id": "76ofKcLviDtK",
        "outputId": "84ebd31d-54ad-4dbf-ced7-d887f51d79e9",
        "colab": {
          "base_uri": "https://localhost:8080/"
        }
      },
      "outputs": [
        {
          "output_type": "execute_result",
          "data": {
            "text/plain": [
              "[4, 9, 2, 1, 8, 6]"
            ]
          },
          "metadata": {},
          "execution_count": 68
        }
      ],
      "source": [
        "list(map(lambda x: x+1, map(abs, [3,-8,1,0,7,-5])))"
      ]
    },
    {
      "cell_type": "markdown",
      "metadata": {
        "id": "MJ72ThUXiDtK"
      },
      "source": [
        "`lambda x: x+1` は、`x` をもらって `x+1` を返す関数です。\n",
        "すなわち、引数に `1` を足した結果を返します。\n",
        "\n",
        "関数 `sum` は、`max` と同様に、イテラブルを受け取って、その要素の総和を返します。\n",
        "したがって、`map` が返したイテレータに対しても適用できます。\n",
        "（イテレータをリストに変換する必要はありません。）"
      ]
    },
    {
      "cell_type": "code",
      "execution_count": 69,
      "metadata": {
        "id": "u9twMV-kiDtK",
        "outputId": "24f07654-cfbf-49df-fd4e-05e32fdaa0ce",
        "colab": {
          "base_uri": "https://localhost:8080/"
        }
      },
      "outputs": [
        {
          "output_type": "execute_result",
          "data": {
            "text/plain": [
              "30"
            ]
          },
          "metadata": {},
          "execution_count": 69
        }
      ],
      "source": [
        "sum(map(lambda x: x+1, map(abs, [3,-8,1,0,7,-5])))"
      ]
    },
    {
      "cell_type": "markdown",
      "metadata": {
        "id": "L68v1xXPiDtK"
      },
      "source": [
        "## 練習\n",
        "\n",
        "数のリストが与えられたとき、その要素の絶対値の最大値を返す関数 `max_abs` を、\n",
        "`map` と `max` を使って定義してください。"
      ]
    },
    {
      "cell_type": "code",
      "execution_count": 84,
      "metadata": {
        "id": "Zm70C1GOiDtK",
        "outputId": "acbe6ab4-3812-4620-e084-b21ac8aaec2e",
        "colab": {
          "base_uri": "https://localhost:8080/"
        }
      },
      "outputs": [
        {
          "output_type": "execute_result",
          "data": {
            "text/plain": [
              "8"
            ]
          },
          "metadata": {},
          "execution_count": 84
        }
      ],
      "source": [
        "def max_abs(ln):\n",
        "  return max(map(abs,ln))\n",
        "\n",
        "max_abs([3,-8,1,0,7,-5])"
      ]
    },
    {
      "cell_type": "markdown",
      "metadata": {
        "id": "l8fubqUHiDtK"
      },
      "source": [
        "上のセルで解答を作成した後、以下のセルを実行し、実行結果が `True` になることを確認してください。"
      ]
    },
    {
      "cell_type": "code",
      "execution_count": 85,
      "metadata": {
        "tags": [
          "raises-exception"
        ],
        "id": "x2qMwAdKiDtK",
        "outputId": "9013a73d-6c3b-4bcb-870d-40047b2ce104",
        "colab": {
          "base_uri": "https://localhost:8080/"
        }
      },
      "outputs": [
        {
          "output_type": "stream",
          "name": "stdout",
          "text": [
            "True\n"
          ]
        }
      ],
      "source": [
        "print(max_abs([3,-8,1,0,7,-5]) == 8)"
      ]
    },
    {
      "cell_type": "markdown",
      "metadata": {
        "id": "zQIlZO7niDtK"
      },
      "source": [
        "## `filter`\n",
        "\n",
        "関数 **`filter`** もイテラブルをもらってイテレータを返します。\n",
        "最初の引数としては、真理値を返す関数を指定します。"
      ]
    },
    {
      "cell_type": "code",
      "execution_count": 86,
      "metadata": {
        "id": "hgM3Q8QQiDtK"
      },
      "outputs": [],
      "source": [
        "def pos(x):\n",
        "    if x>0:\n",
        "        return True\n",
        "    else:\n",
        "        return False"
      ]
    },
    {
      "cell_type": "markdown",
      "metadata": {
        "id": "Hz_5VDcHiDtK"
      },
      "source": [
        "この関数 `pos` は、引数が正ならば `True`、そうでなければ `False` を返します。\n",
        "\n",
        "すると、以下のように、`filter` は `pos` を適用すると `True` が返る要素のみからなるイテレータを返します。"
      ]
    },
    {
      "cell_type": "code",
      "execution_count": 87,
      "metadata": {
        "id": "eTvN5YyDiDtL",
        "outputId": "5a985937-c48c-45d2-f2ba-785776ebee8a",
        "colab": {
          "base_uri": "https://localhost:8080/"
        }
      },
      "outputs": [
        {
          "output_type": "execute_result",
          "data": {
            "text/plain": [
              "[3, 1, 7]"
            ]
          },
          "metadata": {},
          "execution_count": 87
        }
      ],
      "source": [
        "list(filter(pos, [3,-8,1,0,7,-5]))"
      ]
    },
    {
      "cell_type": "markdown",
      "metadata": {
        "id": "aqrulEEJiDtL"
      },
      "source": [
        "`filter` は、条件付き内包表記に対応しています。\n",
        "同じ計算を以下のようにして行うことができます。"
      ]
    },
    {
      "cell_type": "code",
      "execution_count": 88,
      "metadata": {
        "id": "SwudJQiuiDtL",
        "outputId": "c2e4dc54-a444-446a-edec-4f9240d27adf",
        "colab": {
          "base_uri": "https://localhost:8080/"
        }
      },
      "outputs": [
        {
          "output_type": "execute_result",
          "data": {
            "text/plain": [
              "[3, 1, 7]"
            ]
          },
          "metadata": {},
          "execution_count": 88
        }
      ],
      "source": [
        "[x for x in [3,-8,1,0,7,-5] if pos(x)]"
      ]
    },
    {
      "cell_type": "markdown",
      "metadata": {
        "id": "LiXQOdbXiDtL"
      },
      "source": [
        "## 練習\n",
        "\n",
        "数のリスト `ln` と数 `n` を受け取って、`ln` の要素のうち、`n` より大きい個数を返す関数\n",
        "`number_of_big_numbers(ln, n)` を、for文やwhile文を用いずに、`filter` を用いて定義してください。"
      ]
    },
    {
      "cell_type": "code",
      "execution_count": 90,
      "metadata": {
        "id": "QY8ndaTkiDtL"
      },
      "outputs": [],
      "source": [
        "def number_of_big_numbers(ln, n):\n",
        "  return len(list(filter(lambda x:x>n,ln)))"
      ]
    },
    {
      "cell_type": "markdown",
      "metadata": {
        "id": "Samn-C-GiDtL"
      },
      "source": [
        "上のセルで解答を作成した後、以下のセルを実行し、実行結果が `True` になることを確認してください。"
      ]
    },
    {
      "cell_type": "code",
      "execution_count": 91,
      "metadata": {
        "tags": [
          "raises-exception"
        ],
        "id": "J4_EKqI-iDtL",
        "outputId": "5f55025f-a6cd-4069-defb-d14f6df6ccf5",
        "colab": {
          "base_uri": "https://localhost:8080/"
        }
      },
      "outputs": [
        {
          "output_type": "stream",
          "name": "stdout",
          "text": [
            "True\n"
          ]
        }
      ],
      "source": [
        "print(number_of_big_numbers([10, 0, 7, 1, 5, 2, 9], 5) == 3)"
      ]
    },
    {
      "cell_type": "markdown",
      "metadata": {
        "id": "xHP1dI4BiDtL"
      },
      "source": [
        "## 練習\n",
        "ファイル名 `file` と整数 `n` を受け取って、そのファイルをオープンし、\n",
        "（改行文字も含めて）長さが `n` より長い行の数を返す関数 `number_of_long_lines(file,n)` を定義してください。\n",
        "（ファイルは `encoding='utf-8'` でオープンしてください。）"
      ]
    },
    {
      "cell_type": "code",
      "execution_count": 100,
      "metadata": {
        "id": "j7nrgruhiDtL",
        "outputId": "6139e47f-868a-4d84-f1cf-624303f184e7",
        "colab": {
          "base_uri": "https://localhost:8080/"
        }
      },
      "outputs": [
        {
          "output_type": "execute_result",
          "data": {
            "text/plain": [
              "6"
            ]
          },
          "metadata": {},
          "execution_count": 100
        }
      ],
      "source": [
        "def number_of_long_lines(file, n):\n",
        "  with open(file,'r',encoding='utf-8') as f:\n",
        "    return len(list(filter(lambda x:len(x)>n,f)))\n",
        "\n",
        "number_of_long_lines('jugemu.txt', 10)"
      ]
    },
    {
      "cell_type": "markdown",
      "metadata": {
        "id": "qszuqXibiDtL"
      },
      "source": [
        "上のセルで解答を作成した後、以下のセルを実行し、実行結果が `True` になることを確認してください。"
      ]
    },
    {
      "cell_type": "code",
      "execution_count": 101,
      "metadata": {
        "tags": [
          "raises-exception"
        ],
        "id": "JgiVeCx9iDtL",
        "outputId": "ed96439e-c8a7-43cd-c30d-1fe08a0b5bac",
        "colab": {
          "base_uri": "https://localhost:8080/"
        }
      },
      "outputs": [
        {
          "output_type": "stream",
          "name": "stdout",
          "text": [
            "True\n"
          ]
        }
      ],
      "source": [
        "print(number_of_long_lines('jugemu.txt', 10) == 6)"
      ]
    },
    {
      "cell_type": "markdown",
      "metadata": {
        "id": "Wv7rFAl-iDtL"
      },
      "source": [
        "## 練習の解答"
      ]
    },
    {
      "cell_type": "code",
      "execution_count": null,
      "metadata": {
        "id": "UNpg-qtSiDtL"
      },
      "outputs": [],
      "source": [
        "def max_value_key(d):\n",
        "    return max(d, key=lambda k: d[k])"
      ]
    },
    {
      "cell_type": "code",
      "execution_count": null,
      "metadata": {
        "id": "IZ1PI_M0iDtL"
      },
      "outputs": [],
      "source": [
        "def max_abs(ln):\n",
        "    return max(map(abs, ln))"
      ]
    },
    {
      "cell_type": "code",
      "execution_count": null,
      "metadata": {
        "id": "ROPcqyF2iDtM"
      },
      "outputs": [],
      "source": [
        "def number_of_big_numbers(ln, n):\n",
        "    return sum(map(lambda x: 1, filter(lambda x: x>n, ln)))"
      ]
    },
    {
      "cell_type": "code",
      "execution_count": null,
      "metadata": {
        "id": "faUvXA3fiDtM"
      },
      "outputs": [],
      "source": [
        "def number_of_long_lines(file, n):\n",
        "    with open(file, 'r', encoding='utf-8') as f:\n",
        "        return sum(map(lambda x: 1, filter(lambda x: len(x)>n, f)))"
      ]
    },
    {
      "cell_type": "code",
      "execution_count": null,
      "metadata": {
        "id": "iWcdhfWCiDtM"
      },
      "outputs": [],
      "source": []
    }
  ],
  "metadata": {
    "kernelspec": {
      "display_name": "Python 3",
      "language": "python",
      "name": "python3"
    },
    "language_info": {
      "name": "python"
    },
    "colab": {
      "provenance": []
    }
  },
  "nbformat": 4,
  "nbformat_minor": 0
}