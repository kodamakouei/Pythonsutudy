{
  "cells": [
    {
      "cell_type": "code",
      "execution_count": 1,
      "metadata": {
        "id": "7V7_W3MgMgwf",
        "outputId": "9208842b-728a-4b0f-e442-34aa8ed2b6d0",
        "colab": {
          "base_uri": "https://localhost:8080/"
        }
      },
      "outputs": [
        {
          "output_type": "stream",
          "name": "stdout",
          "text": [
            "--2025-09-09 02:32:27--  https://raw.githubusercontent.com/utokyo-ipp/utokyo-ipp.github.io/master/colab/6/jugemu.txt\n",
            "Resolving raw.githubusercontent.com (raw.githubusercontent.com)... 185.199.110.133, 185.199.111.133, 185.199.109.133, ...\n",
            "Connecting to raw.githubusercontent.com (raw.githubusercontent.com)|185.199.110.133|:443... connected.\n",
            "HTTP request sent, awaiting response... 200 OK\n",
            "Length: 366 [text/plain]\n",
            "Saving to: ‘./jugemu.txt’\n",
            "\n",
            "jugemu.txt          100%[===================>]     366  --.-KB/s    in 0s      \n",
            "\n",
            "2025-09-09 02:32:27 (7.52 MB/s) - ‘./jugemu.txt’ saved [366/366]\n",
            "\n"
          ]
        }
      ],
      "source": [
        "##================================================\n",
        "## このセルを最初に実行せよ---Run this cell first.\n",
        "##================================================\n",
        "!wget -P . https://raw.githubusercontent.com/utokyo-ipp/utokyo-ipp.github.io/master/colab/6/jugemu.txt"
      ]
    },
    {
      "cell_type": "markdown",
      "metadata": {
        "id": "FVj3zHJtMgwh"
      },
      "source": [
        "# 6-1. 内包表記\n",
        "\n",
        "**内包表記**について説明します。\n",
        "\n",
        "参考:\n",
        "\n",
        "- https://docs.python.org/ja/3/tutorial/datastructures.html#list-comprehensions\n",
        "- https://docs.python.org/ja/3/tutorial/datastructures.html#nested-list-comprehensions\n",
        "\n",
        "## リスト内包表記\n",
        "\n",
        "Pythonでは各種の**内包表記** (comprehension) が利用できます。\n",
        "\n",
        "以下のような整数の自乗を要素に持つリストを作るプログラムでは、"
      ]
    },
    {
      "cell_type": "code",
      "execution_count": 2,
      "metadata": {
        "id": "65DPq-5rMgwi",
        "outputId": "4b0075ff-f48e-4da3-f751-db9cd8fd5145",
        "colab": {
          "base_uri": "https://localhost:8080/"
        }
      },
      "outputs": [
        {
          "output_type": "execute_result",
          "data": {
            "text/plain": [
              "[0, 1, 4, 9, 16, 25]"
            ]
          },
          "metadata": {},
          "execution_count": 2
        }
      ],
      "source": [
        "squares1 = []\n",
        "for x in range(6):\n",
        "    squares1.append(x**2)\n",
        "squares1"
      ]
    },
    {
      "cell_type": "markdown",
      "metadata": {
        "id": "obsbq9oPMgwi"
      },
      "source": [
        "`squares1` として `[0, 1, 4, 9, 16, 25]` が得られます。\n",
        "これを内包表記を用いて書き換えると、以下のように一行で書け、プログラムが読みやすくなります。"
      ]
    },
    {
      "cell_type": "code",
      "execution_count": 3,
      "metadata": {
        "id": "Y0yWDbh0Mgwj",
        "outputId": "341d62f2-d3c5-481f-9203-cf934ecc1d45",
        "colab": {
          "base_uri": "https://localhost:8080/"
        }
      },
      "outputs": [
        {
          "output_type": "execute_result",
          "data": {
            "text/plain": [
              "[0, 1, 4, 9, 16, 25]"
            ]
          },
          "metadata": {},
          "execution_count": 3
        }
      ],
      "source": [
        "squares2 = [x**2 for x in range(6)]\n",
        "squares2"
      ]
    },
    {
      "cell_type": "markdown",
      "metadata": {
        "id": "MyNbbdMCMgwj"
      },
      "source": [
        "関数 **`sum`** は与えられた数のリストの総和を求めます。\n",
        "（2-2の練習にあった `sum_list` と同じ機能を持つ組み込みの関数です。）\n",
        "内包表記に対して `sum` を適用すると以下のようになります。"
      ]
    },
    {
      "cell_type": "code",
      "execution_count": 4,
      "metadata": {
        "id": "ZAkNLro6Mgwj",
        "outputId": "c70676cd-aa7c-4efc-f393-1944984089eb",
        "colab": {
          "base_uri": "https://localhost:8080/"
        }
      },
      "outputs": [
        {
          "output_type": "execute_result",
          "data": {
            "text/plain": [
              "55"
            ]
          },
          "metadata": {},
          "execution_count": 4
        }
      ],
      "source": [
        "sum([x**2 for x in range(6)])"
      ]
    },
    {
      "cell_type": "markdown",
      "metadata": {
        "id": "tASWghLjMgwj"
      },
      "source": [
        "以下の内包表記は3-2で用いられていました。"
      ]
    },
    {
      "cell_type": "code",
      "execution_count": 5,
      "metadata": {
        "id": "4W1r5lJJMgwk",
        "outputId": "3ef11ede-242a-41a1-e29d-38a3fe481208",
        "colab": {
          "base_uri": "https://localhost:8080/"
        }
      },
      "outputs": [
        {
          "output_type": "execute_result",
          "data": {
            "text/plain": [
              "['a',\n",
              " 'b',\n",
              " 'c',\n",
              " 'd',\n",
              " 'e',\n",
              " 'f',\n",
              " 'g',\n",
              " 'h',\n",
              " 'i',\n",
              " 'j',\n",
              " 'k',\n",
              " 'l',\n",
              " 'm',\n",
              " 'n',\n",
              " 'o',\n",
              " 'p',\n",
              " 'q',\n",
              " 'r',\n",
              " 's',\n",
              " 't',\n",
              " 'u',\n",
              " 'v',\n",
              " 'w',\n",
              " 'x',\n",
              " 'y',\n",
              " 'z']"
            ]
          },
          "metadata": {},
          "execution_count": 5
        }
      ],
      "source": [
        "[chr(i + ord('a')) for i in range(26)]"
      ]
    },
    {
      "cell_type": "markdown",
      "metadata": {
        "id": "9325TvTyMgwk"
      },
      "source": [
        "## 練習\n",
        "文字列のリストが変数 `strings` に与えられたとき、\n",
        "それぞれの文字列の長さからなるリストを返す内包表記を記述してください。\n",
        "\n",
        "`strings = ['The', 'quick', 'brown']` のとき、結果は `[3, 5, 5]` となります。"
      ]
    },
    {
      "cell_type": "code",
      "execution_count": 6,
      "metadata": {
        "tags": [
          "raises-exception"
        ],
        "id": "aGTDFgUNMgwk",
        "outputId": "8a9554b2-3835-4e32-beac-428e18513c32",
        "colab": {
          "base_uri": "https://localhost:8080/"
        }
      },
      "outputs": [
        {
          "output_type": "execute_result",
          "data": {
            "text/plain": [
              "[3, 5, 5]"
            ]
          },
          "metadata": {},
          "execution_count": 6
        }
      ],
      "source": [
        "strings = ['The', 'quick', 'brown']\n",
        "[len(i) for i in strings]"
      ]
    },
    {
      "cell_type": "markdown",
      "metadata": {
        "id": "q51CNeojMgwk"
      },
      "source": [
        "## 練習\n",
        "\n",
        "コンマで区切られた10進数からなる文字列が変数 `str1` に与えられたとき、\n",
        "それぞれの10進数を数に変換して得られるリストを返す内包表記を記述してください。\n",
        "\n",
        "`str1 = '123,45,-3'` のとき、結果は `[123, 45, -3]` となります。\n",
        "\n",
        "なお、コンマで区切られた10進数からなる文字列を、10進数の文字列のリストに変換するには、メソッド `split` を用いることができます。\n",
        "また、10進数の文字列を数に変換するには、**`int`** を関数として用いることができます。"
      ]
    },
    {
      "cell_type": "code",
      "execution_count": 15,
      "metadata": {
        "tags": [
          "raises-exception"
        ],
        "id": "0HxJAE41Mgwk",
        "outputId": "41d9ede0-a5b7-4db8-879b-5a8804e9f88e",
        "colab": {
          "base_uri": "https://localhost:8080/"
        }
      },
      "outputs": [
        {
          "output_type": "execute_result",
          "data": {
            "text/plain": [
              "[123, 45, -3]"
            ]
          },
          "metadata": {},
          "execution_count": 15
        }
      ],
      "source": [
        "str1 = '123,45,-3'\n",
        "str1.split(',')\n",
        "[int(i) for i in str1.split(',')]"
      ]
    },
    {
      "cell_type": "markdown",
      "metadata": {
        "id": "3haGEG5NMgwk"
      },
      "source": [
        "## 練習\n",
        "\n",
        "数のリストが与えらえたとき、リストの要素の分散を求める関数 `var` を\n",
        "内包表記と関数 `sum` を用いて定義してください。\n",
        "以下のセルの `...` のところを書き換えて `var` を作成してください。"
      ]
    },
    {
      "cell_type": "code",
      "execution_count": 24,
      "metadata": {
        "id": "wQiWnelWMgwk",
        "outputId": "3d3cb067-d22f-44bb-d214-0d399e48bc94",
        "colab": {
          "base_uri": "https://localhost:8080/"
        }
      },
      "outputs": [
        {
          "output_type": "execute_result",
          "data": {
            "text/plain": [
              "1.25"
            ]
          },
          "metadata": {},
          "execution_count": 24
        }
      ],
      "source": [
        "def var(lst):\n",
        "  ave=sum(lst)/len(lst)\n",
        "  return ((sum([(ave-i)**2 for i in lst]))/len(lst))\n",
        "\n",
        "var([3,4,1,2])"
      ]
    },
    {
      "cell_type": "markdown",
      "metadata": {
        "id": "hLTteapNMgwl"
      },
      "source": [
        "上のセルで解答を作成した後、以下のセルを実行し、実行結果が `True` になることを確認してください。"
      ]
    },
    {
      "cell_type": "code",
      "execution_count": 25,
      "metadata": {
        "tags": [
          "raises-exception"
        ],
        "id": "QLBiPybnMgwl",
        "outputId": "5778b854-0dea-4218-e833-1072b5a6a783",
        "colab": {
          "base_uri": "https://localhost:8080/"
        }
      },
      "outputs": [
        {
          "output_type": "stream",
          "name": "stdout",
          "text": [
            "True\n"
          ]
        }
      ],
      "source": [
        "print(var([3,4,1,2]) == 1.25)"
      ]
    },
    {
      "cell_type": "markdown",
      "metadata": {
        "id": "c_7R8dAEMgwl"
      },
      "source": [
        "## 内包表記の入れ子\n",
        "また内包表記を**入れ子**（**ネスト**）にすることも可能です:"
      ]
    },
    {
      "cell_type": "code",
      "execution_count": 26,
      "metadata": {
        "id": "NbVqZVYJMgwl",
        "outputId": "24858f7d-92f7-428b-aa1d-b0bfe5257a57",
        "colab": {
          "base_uri": "https://localhost:8080/"
        }
      },
      "outputs": [
        {
          "output_type": "execute_result",
          "data": {
            "text/plain": [
              "[[0], [0, 1], [0, 2, 4], [0, 3, 6, 9]]"
            ]
          },
          "metadata": {},
          "execution_count": 26
        }
      ],
      "source": [
        "[[x*y for y in range(x+1)] for x in range(4)]"
      ]
    },
    {
      "cell_type": "markdown",
      "metadata": {
        "id": "D9XLe-EzMgwl"
      },
      "source": [
        "ネストした内包表記は、外側から読むとわかりやすいです。\n",
        "`x` を `0` から `3` まで動かしてリストが作られます。\n",
        "そのリストの要素1つ1つは内包表記によるリストになっていて、\n",
        "それぞれのリストは `y` を 0 から `x` まで動かして得られます。\n",
        "\n",
        "以下のリストは、上の2重のリストをフラットにしたものです。\n",
        "この内包表記では、`for` が2重になっていますが、自然に左から読んでください。\n",
        "`x` を `0` から `3` まで動かし、そのそれぞれに対して `y` を `0` から `x` まで動かします。\n",
        "その各ステップで得られた `x*y` の値をリストにします。"
      ]
    },
    {
      "cell_type": "code",
      "execution_count": 27,
      "metadata": {
        "id": "lOWCXKnaMgwl",
        "outputId": "3ae92764-6c98-4ebc-b3b2-6b008b43bb64",
        "colab": {
          "base_uri": "https://localhost:8080/"
        }
      },
      "outputs": [
        {
          "output_type": "execute_result",
          "data": {
            "text/plain": [
              "[0, 0, 1, 0, 2, 4, 0, 3, 6, 9]"
            ]
          },
          "metadata": {},
          "execution_count": 27
        }
      ],
      "source": [
        "[x*y for x in range(4) for y in range(x+1)]"
      ]
    },
    {
      "cell_type": "markdown",
      "metadata": {
        "id": "25wADolWMgwl"
      },
      "source": [
        "以下の関数は、与えられた文字列の全ての空でない部分文字列からなるリストを返します。"
      ]
    },
    {
      "cell_type": "code",
      "execution_count": 28,
      "metadata": {
        "id": "KIPCQL3_Mgwl",
        "outputId": "fc2e4af1-3d5d-4629-ee9f-6d526cb388cd",
        "colab": {
          "base_uri": "https://localhost:8080/"
        }
      },
      "outputs": [
        {
          "output_type": "execute_result",
          "data": {
            "text/plain": [
              "['a', 'ab', 'abc', 'b', 'bc', 'c']"
            ]
          },
          "metadata": {},
          "execution_count": 28
        }
      ],
      "source": [
        "def allsubstrings(s):\n",
        "    return [s[i:j] for i in range(len(s)) for j in range(i+1,len(s)+1)]\n",
        "\n",
        "allsubstrings('abc')"
      ]
    },
    {
      "cell_type": "markdown",
      "metadata": {
        "id": "yr-BnJuHMgwl"
      },
      "source": [
        "## 練習\n",
        "\n",
        "次のような関数 `sum_lists` を作成してください。\n",
        "\n",
        "- `sum_lists` はリスト `list1` を引数とします。\n",
        "- `list1` の各要素はリストであり、そのリストの要素は数です。\n",
        "- `sum_lists` は、`list1` の各要素であるリストの総和を求め、それらの総和を足し合せて返します。\n",
        "\n",
        "ここでは、内包表記と関数 `sum` を用いて `sum_lists` を定義してください。\n",
        "以下のセルの `...` のところを書き換えて `sum_lists` を作成してください。"
      ]
    },
    {
      "cell_type": "code",
      "execution_count": 33,
      "metadata": {
        "id": "X4JV3EhOMgwl",
        "outputId": "000bc289-c6b3-4a32-bca0-a2f52d658477",
        "colab": {
          "base_uri": "https://localhost:8080/"
        }
      },
      "outputs": [
        {
          "output_type": "execute_result",
          "data": {
            "text/plain": [
              "158"
            ]
          },
          "metadata": {},
          "execution_count": 33
        }
      ],
      "source": [
        "def sum_lists(list1):\n",
        "  return sum([sum(i) for i in list1])\n",
        "\n",
        "sum_lists([[20, 5], [6, 16, 14, 5], [16, 8, 16, 17, 14], [1], [5, 3, 5, 7]])"
      ]
    },
    {
      "cell_type": "markdown",
      "metadata": {
        "id": "3LvkEnIVMgwl"
      },
      "source": [
        "上のセルで解答を作成した後、以下のセルを実行し、実行結果が `True` になることを確認してください。"
      ]
    },
    {
      "cell_type": "code",
      "execution_count": 34,
      "metadata": {
        "tags": [
          "raises-exception"
        ],
        "id": "KsfOaWKKMgwl",
        "outputId": "9c6ea668-1a7b-4b49-aef1-6e43421d3dc1",
        "colab": {
          "base_uri": "https://localhost:8080/"
        }
      },
      "outputs": [
        {
          "output_type": "stream",
          "name": "stdout",
          "text": [
            "True\n"
          ]
        }
      ],
      "source": [
        "print(sum_lists([[20, 5], [6, 16, 14, 5], [16, 8, 16, 17, 14], [1], [5, 3, 5, 7]]) == 158)"
      ]
    },
    {
      "cell_type": "markdown",
      "metadata": {
        "id": "szRPZVuQMgwl"
      },
      "source": [
        "## 練習\n",
        "\n",
        "リスト `list1` と `list2` が引数として与えられたとき、次のようなリスト `list3` を返す関数 `sum_matrix` を作成してください。\n",
        "\n",
        "- `list1`, `list2`, `list3` は、3つの要素を持ちます。\n",
        "- 各要素は大きさ 3 のリストになっており、そのリストの要素は全て数です。\n",
        "- `list3[i][j]` （ただし、`i` と `j` は共に、0 以上 2 以下の整数）は `list1[i][j]` と `list2[i][j]` の値の和になっています。\n",
        "\n",
        "ここでは、内包表記を用いて`sum_matrix` を定義してください。以下のセルの `...` のところを書き換えて `sum_matrix` を作成してください。"
      ]
    },
    {
      "cell_type": "code",
      "execution_count": 47,
      "metadata": {
        "id": "IssfcIPuMgwl"
      },
      "outputs": [],
      "source": [
        "def sum_matrix(list1, list2):\n",
        "  return [[list1[i][j]+list2[i][j] for j in range(0,3)]for i in range(0,3)]\n",
        "\n",
        "\n"
      ]
    },
    {
      "cell_type": "markdown",
      "metadata": {
        "id": "scJxsZisMgwl"
      },
      "source": [
        "上のセルで解答を作成した後、以下のセルを実行し、実行結果が `True` になることを確認してください。"
      ]
    },
    {
      "cell_type": "code",
      "execution_count": 48,
      "metadata": {
        "tags": [
          "raises-exception"
        ],
        "id": "5EzVD_D3Mgwm",
        "outputId": "55360458-cdbc-44cc-969f-bf4cd7484acd",
        "colab": {
          "base_uri": "https://localhost:8080/"
        }
      },
      "outputs": [
        {
          "output_type": "stream",
          "name": "stdout",
          "text": [
            "True\n"
          ]
        }
      ],
      "source": [
        "print(sum_matrix([[1,5,3],[4,5,6],[7,8,9]], [[1,4,7],[2,5,8],[3,6,9]])==[[2, 9, 10], [6, 10, 14], [10, 14, 18]])"
      ]
    },
    {
      "cell_type": "markdown",
      "metadata": {
        "id": "13IKIvpPMgwm"
      },
      "source": [
        "## ▲**条件付き内包表記**\n",
        "\n",
        "内包表記は `for` に加えて `if` を使うこともできます:"
      ]
    },
    {
      "cell_type": "code",
      "execution_count": 49,
      "metadata": {
        "id": "99WbI-ZZMgwm",
        "outputId": "6d683361-e410-4dbd-cf3e-1716f688a8b9",
        "colab": {
          "base_uri": "https://localhost:8080/"
        }
      },
      "outputs": [
        {
          "output_type": "stream",
          "name": "stdout",
          "text": [
            "[3, 3, 8, 7]\n"
          ]
        }
      ],
      "source": [
        "words = ['cat', 'dog', 'elephant', None, 'giraffe']\n",
        "length = [len(w) for w in words if w != None]\n",
        "print(length)"
      ]
    },
    {
      "cell_type": "markdown",
      "metadata": {
        "id": "GN-iEmtzMgwm"
      },
      "source": [
        "この場合、`length` として要素が `None` の場合を除いた `[3, 3, 8, 7]` が得られます。"
      ]
    },
    {
      "cell_type": "markdown",
      "metadata": {
        "id": "UemEf66DMgwm"
      },
      "source": [
        "## ▲**セット内包表記**\n",
        "\n",
        "内包表記はセット（集合）に対しても使うことができます:"
      ]
    },
    {
      "cell_type": "code",
      "execution_count": 51,
      "metadata": {
        "id": "YThsLO5QMgwm",
        "outputId": "cb1a86cc-c84a-4683-df4c-1f4fcbbba907",
        "colab": {
          "base_uri": "https://localhost:8080/"
        }
      },
      "outputs": [
        {
          "output_type": "stream",
          "name": "stdout",
          "text": [
            "{8, 3, 7}\n"
          ]
        }
      ],
      "source": [
        "words = ['cat', 'dog', 'elephant', 'giraffe']\n",
        "length_set = {len(w) for w in words}\n",
        "print(length_set)"
      ]
    },
    {
      "cell_type": "markdown",
      "metadata": {
        "id": "fVoJu-r1Mgwm"
      },
      "source": [
        "`length_set` として `{3, 7, 8}` が得られます。\n",
        "セット型なので、リストと異なり重複する要素は除かれます。"
      ]
    },
    {
      "cell_type": "markdown",
      "metadata": {
        "id": "rR7zRp0nMgwm"
      },
      "source": [
        "## ▲**辞書内包表記**\n",
        "さらに、内包表記は辞書型でも使うことができます。"
      ]
    },
    {
      "cell_type": "code",
      "execution_count": 52,
      "metadata": {
        "id": "K6NOvHjYMgwm",
        "outputId": "781441f7-8c83-4bd8-b877-d0c9337c8688",
        "colab": {
          "base_uri": "https://localhost:8080/"
        }
      },
      "outputs": [
        {
          "output_type": "stream",
          "name": "stdout",
          "text": [
            "{'cat': 3, 'dog': 3, 'elephant': 8, 'giraffe': 7}\n"
          ]
        }
      ],
      "source": [
        "words = ['cat', 'dog', 'elephant', 'giraffe']\n",
        "length_dic = {w:len(w) for w in words}\n",
        "print(length_dic)"
      ]
    },
    {
      "cell_type": "markdown",
      "metadata": {
        "id": "_0z2k04PMgwu"
      },
      "source": [
        "`length_dic` として `{'cat': 3, 'dog': 3, 'elephant': 8, 'giraffe': 7}` が得られます。\n",
        "\n",
        "長さと文字列を逆にするとどうなるでしょうか。"
      ]
    },
    {
      "cell_type": "code",
      "execution_count": 53,
      "metadata": {
        "id": "SJSmuX4YMgwv",
        "outputId": "1770dd32-f767-4638-b3c5-89d8f79df549",
        "colab": {
          "base_uri": "https://localhost:8080/"
        }
      },
      "outputs": [
        {
          "output_type": "stream",
          "name": "stdout",
          "text": [
            "{3: 'dog', 8: 'elephant', 7: 'giraffe'}\n"
          ]
        }
      ],
      "source": [
        "length_rdic = {len(w): w for w in words}\n",
        "print(length_rdic)"
      ]
    },
    {
      "cell_type": "markdown",
      "metadata": {
        "id": "kczhDCeAMgwv"
      },
      "source": [
        "## ▲**ジェネレータ式**\n",
        "\n",
        "内包表記と似たものとして、ジェネレータ式というものがあります。\n",
        "リスト内包表記の `[]` を `()` に置き換えれば、ジェネレータ式になります。\n",
        "ジェネレータ式は、4-2で説明した**イテレータ**を構築します。\n",
        "4-2で説明したように、イテレータは、for文で走査（全要素を訪問）できます。"
      ]
    },
    {
      "cell_type": "code",
      "execution_count": 54,
      "metadata": {
        "id": "5FVDFRXfMgwv",
        "outputId": "ba829618-985f-4189-b1eb-42be2c650664",
        "colab": {
          "base_uri": "https://localhost:8080/"
        }
      },
      "outputs": [
        {
          "output_type": "stream",
          "name": "stdout",
          "text": [
            "aaa\n",
            "bbb\n",
            "ccc\n"
          ]
        }
      ],
      "source": [
        "it = (x * 3 for x in 'abc')\n",
        "for x in it:\n",
        "    print(x)"
      ]
    },
    {
      "cell_type": "markdown",
      "metadata": {
        "id": "Rl1BbFEVMgwv"
      },
      "source": [
        "イテレータを組み込み関数 `list()` や `tuple()` に渡すと、対応するリストやタプルが構築されます。\n",
        "なお、ジェネレータ式を直接引数とするときには、ジェネレータ式の外側の `()` は省略可能です。"
      ]
    },
    {
      "cell_type": "code",
      "execution_count": 55,
      "metadata": {
        "id": "ozMApaMqMgwv",
        "outputId": "14f5d959-30f9-4882-ca92-79ab2dedae69",
        "colab": {
          "base_uri": "https://localhost:8080/"
        }
      },
      "outputs": [
        {
          "output_type": "execute_result",
          "data": {
            "text/plain": [
              "[0, 1, 4, 9, 16]"
            ]
          },
          "metadata": {},
          "execution_count": 55
        }
      ],
      "source": [
        "list(x ** 2 for x in range(5))"
      ]
    },
    {
      "cell_type": "code",
      "execution_count": 56,
      "metadata": {
        "id": "9mT8S1goMgwv",
        "outputId": "371460fe-3261-47a5-88a1-5250fc57f0f3",
        "colab": {
          "base_uri": "https://localhost:8080/"
        }
      },
      "outputs": [
        {
          "output_type": "execute_result",
          "data": {
            "text/plain": [
              "(0, 1, 4, 9, 16)"
            ]
          },
          "metadata": {},
          "execution_count": 56
        }
      ],
      "source": [
        "tuple(x ** 2 for x in range(5))"
      ]
    },
    {
      "cell_type": "markdown",
      "metadata": {
        "id": "pxS2HIx9Mgwv"
      },
      "source": [
        "総和を計算する組み込み関数 `sum()` など、リストやタプルを引数に取れる大抵の関数には、イテレータも渡せます。"
      ]
    },
    {
      "cell_type": "code",
      "execution_count": 57,
      "metadata": {
        "id": "F9HnVXBjMgwv",
        "outputId": "b321efa2-2084-470d-de03-ddc1ca775d0b",
        "colab": {
          "base_uri": "https://localhost:8080/"
        }
      },
      "outputs": [
        {
          "output_type": "execute_result",
          "data": {
            "text/plain": [
              "30"
            ]
          },
          "metadata": {},
          "execution_count": 57
        }
      ],
      "source": [
        "sum(x ** 2 for x in range(5))"
      ]
    },
    {
      "cell_type": "markdown",
      "metadata": {
        "id": "eYIqTUqPMgwv"
      },
      "source": [
        "上の例において、ジェネレータ式の代わりにリスト内包表記を用いても同じ結果を得ますが、\n",
        "計算の途中で実際にリストを構築するので、メモリ消費が大きいです。\n",
        "ジェネレータ式では、リストのように走査できるイテレータを構築するだけなので、リスト内包表記よりメモリ効率がよいです。\n",
        "したがって、関数に渡すだけの一時オブジェクトには、リスト内包表記ではなくジェネレータ式を用いるのが有効です。"
      ]
    },
    {
      "cell_type": "markdown",
      "metadata": {
        "id": "9PZ47d9uMgwv"
      },
      "source": [
        "## 練習の解答"
      ]
    },
    {
      "cell_type": "code",
      "execution_count": null,
      "metadata": {
        "id": "7rVoMq95Mgwv"
      },
      "outputs": [],
      "source": [
        "strings = ['The', 'quick', 'brown']\n",
        "[len(x) for x in strings]"
      ]
    },
    {
      "cell_type": "code",
      "execution_count": null,
      "metadata": {
        "id": "sWOYmkNDMgwv"
      },
      "outputs": [],
      "source": [
        "str1 = '123,45,-3'\n",
        "[int(x) for x in str1.split(',')]"
      ]
    },
    {
      "cell_type": "code",
      "execution_count": null,
      "metadata": {
        "id": "DqiaVh8-Mgww"
      },
      "outputs": [],
      "source": [
        "def var(lst):\n",
        "    n = len(lst)\n",
        "    av = sum(lst)/n\n",
        "    return sum([(x - av)*(x - av) for x in lst])/n"
      ]
    },
    {
      "cell_type": "code",
      "execution_count": null,
      "metadata": {
        "id": "tXU4PDm9Mgww"
      },
      "outputs": [],
      "source": [
        "def var(lst):\n",
        "    n = len(lst)\n",
        "    av = sum(lst)/n\n",
        "    return sum([x*x for x in lst])/n - av*av"
      ]
    },
    {
      "cell_type": "code",
      "execution_count": null,
      "metadata": {
        "id": "ELIGeGWnMgww"
      },
      "outputs": [],
      "source": [
        "def sum_lists(list1):\n",
        "    return sum([sum(lst) for lst in list1])"
      ]
    },
    {
      "cell_type": "code",
      "execution_count": null,
      "metadata": {
        "id": "jkFrNs_LMgww"
      },
      "outputs": [],
      "source": [
        "def sum_matrix(list1,list2):\n",
        "    return [[list1[i][j] + list2[i][j] for j in range(3)] for i in range(3)]"
      ]
    },
    {
      "cell_type": "code",
      "execution_count": null,
      "metadata": {
        "id": "xMrNTraFMgww"
      },
      "outputs": [],
      "source": []
    }
  ],
  "metadata": {
    "kernelspec": {
      "display_name": "Python 3",
      "language": "python",
      "name": "python3"
    },
    "language_info": {
      "name": "python"
    },
    "colab": {
      "provenance": []
    }
  },
  "nbformat": 4,
  "nbformat_minor": 0
}